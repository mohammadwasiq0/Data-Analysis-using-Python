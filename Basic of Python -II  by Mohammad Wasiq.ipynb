{
 "cells": [
  {
   "cell_type": "markdown",
   "id": "30f28b13",
   "metadata": {},
   "source": [
    "# Numpy \n",
    "## Array\n",
    "**np.array([  ])**"
   ]
  },
  {
   "cell_type": "code",
   "execution_count": 4,
   "id": "1003749e",
   "metadata": {},
   "outputs": [
    {
     "name": "stdout",
     "output_type": "stream",
     "text": [
      "One Dimension Array -: [1 2 3 4 4 5 7]\n",
      "Size of Array -: 7\n",
      "\n",
      "Multi-Dimensional Array -: [[2. 3. 4. 5.]\n",
      " [4. 5. 6. 7.]\n",
      " [8. 9. 7. 5.]\n",
      " [6. 7. 8. 9.]]\n",
      "Size of Aray -: 16\n",
      "Dim. of Array -: (4, 4)\n"
     ]
    }
   ],
   "source": [
    "import numpy as np\n",
    "# Define 1-D array\n",
    "x=np.array([1,2,3,4,4,5,7])\n",
    "print(\"One Dimension Array -:\" , x)\n",
    "print(\"Size of Array -:\", x.size)\n",
    "print()\n",
    "# 2-D Array\n",
    "x1=np.array([[2,3,4,5],[4,5,6,7],[8,9,7,5],[6.,7,8,9]])\n",
    "print('Multi-Dimensional Array -:', x1)\n",
    "print(\"Size of Aray -:\", x1.size)\n",
    "print(\"Dim. of Array -:\", x1.shape)"
   ]
  },
  {
   "cell_type": "code",
   "execution_count": 7,
   "id": "b9c972dc",
   "metadata": {},
   "outputs": [
    {
     "name": "stdout",
     "output_type": "stream",
     "text": [
      "Addition of two array =: [ 3 15 17 13  7]\n",
      "\n",
      "Subtraction of two array -: [-1  9 11  5  3]\n",
      "\n",
      "Multiplication of two array -: [ 2 36 42 36 10]\n"
     ]
    }
   ],
   "source": [
    "#define arrays \n",
    "x = np.array([1, 12, 14, 9, 5])\n",
    "y = np.array([2, 3, 3, 4, 2])\n",
    "\n",
    "#add the two arrays\n",
    "print(\"Addition of two array =:\", x+y)\n",
    "print()\n",
    "\n",
    "#subtract the two arrays\n",
    "print(\"Subtraction of two array -:\", x-y)\n",
    "print()\n",
    "\n",
    "#multiply the two arrays\n",
    "print(\"Multiplication of two array -:\", x*y)"
   ]
  },
  {
   "cell_type": "markdown",
   "id": "3b45d57b",
   "metadata": {},
   "source": [
    "## Zip of two List\n",
    "Often you might be interested in zipping (or “merging”) together two lists in Python. Fortunately this is easy to do using the **zip()** function.\n",
    "1. Zip Two Lists of Equal Length into One List : **list(zip(a, b))**\n",
    "2. Zip Two Lists of Equal Length into a Dictionary : **dict(zip(keys, values))**\n",
    "3. Zip Two Lists of Unequal Length : **list(zip(a, b))**\n",
    "<br>*zip_longest()* function from the *itertools library* : **list(zip_longest(a, b))**\n",
    "<br>*fillvalue* : **list(zip_longest(a, b, fillvalue=0))**"
   ]
  },
  {
   "cell_type": "code",
   "execution_count": 8,
   "id": "607d7f42",
   "metadata": {},
   "outputs": [
    {
     "data": {
      "text/plain": [
       "[('a', 1), ('b', 2), ('c', 3)]"
      ]
     },
     "execution_count": 8,
     "metadata": {},
     "output_type": "execute_result"
    }
   ],
   "source": [
    "# 1: Zip Two Lists of Equal Length into One List\n",
    "#define list a and list b\n",
    "a = ['a', 'b', 'c']\n",
    "b = [1, 2, 3]\n",
    "\n",
    "#zip the two lists together into one list\n",
    "list(zip(a, b))"
   ]
  },
  {
   "cell_type": "code",
   "execution_count": 9,
   "id": "9611c5c0",
   "metadata": {},
   "outputs": [
    {
     "data": {
      "text/plain": [
       "{'a': 1, 'b': 2, 'c': 3}"
      ]
     },
     "execution_count": 9,
     "metadata": {},
     "output_type": "execute_result"
    }
   ],
   "source": [
    "# 2: Zip Two Lists of Equal Length into a Dictionary\n",
    "\n",
    "#define list of keys and list of values \n",
    "keys = ['a', 'b', 'c']\n",
    "values = [1, 2, 3]\n",
    "\n",
    "#zip the two lists together into one dictionary\n",
    "dict(zip(keys, values))"
   ]
  },
  {
   "cell_type": "code",
   "execution_count": 10,
   "id": "cf72685c",
   "metadata": {},
   "outputs": [
    {
     "data": {
      "text/plain": [
       "[('a', 1), ('b', 2), ('c', 3)]"
      ]
     },
     "execution_count": 10,
     "metadata": {},
     "output_type": "execute_result"
    }
   ],
   "source": [
    "# 3: Zip Two Lists of Unequal Length\n",
    "\n",
    "#define list a and list b\n",
    "a = ['a', 'b', 'c', 'd']\n",
    "b = [1, 2, 3]\n",
    "\n",
    "#zip the two lists together into one list\n",
    "list(zip(a, b))"
   ]
  },
  {
   "cell_type": "code",
   "execution_count": 11,
   "id": "8c1d0ae1",
   "metadata": {},
   "outputs": [
    {
     "data": {
      "text/plain": [
       "[('a', 1), ('b', 2), ('c', 3), ('d', None)]"
      ]
     },
     "execution_count": 11,
     "metadata": {},
     "output_type": "execute_result"
    }
   ],
   "source": [
    "from itertools import zip_longest\n",
    "\n",
    "#define list a and list b\n",
    "a = ['a', 'b', 'c', 'd']\n",
    "b = [1, 2, 3]\n",
    "\n",
    "#zip the two lists together without truncating to length of shortest list\n",
    "list(zip_longest(a, b))"
   ]
  },
  {
   "cell_type": "code",
   "execution_count": 12,
   "id": "cddf5bbe",
   "metadata": {},
   "outputs": [
    {
     "data": {
      "text/plain": [
       "[('a', 1), ('b', 2), ('c', 3), ('d', 0)]"
      ]
     },
     "execution_count": 12,
     "metadata": {},
     "output_type": "execute_result"
    }
   ],
   "source": [
    "#define list a and list b\n",
    "a = ['a', 'b', 'c', 'd']\n",
    "b = [1, 2, 3]\n",
    "\n",
    "#zip the two lists together, using fill value of '0'\n",
    "list(zip_longest(a, b, fillvalue=0))"
   ]
  },
  {
   "cell_type": "markdown",
   "id": "eb32b126",
   "metadata": {},
   "source": [
    "## Linear Interpolation\n",
    "**Linear interpolation** is the process of estimating an unknown value of a function between two known values.\n",
    "\n",
    "Given two known values (x1, y1) and (x2, y2), we can estimate the y-value for some point x by using the following formula:\n",
    "<br>$y = y1 + \\frac{(x-x_1)(y_2-y_1)}{(x_2-x_1)}$\n",
    "<br>**import scipy.interpolate\n",
    "<br>y_interp = scipy.interpolate.interp1d(x, y)**\n",
    "<br>find y-value associated with x-value of 13\n",
    "<br>**print(y_interp(13))**"
   ]
  },
  {
   "cell_type": "code",
   "execution_count": 14,
   "id": "e5136cfa",
   "metadata": {},
   "outputs": [
    {
     "data": {
      "image/png": "[encoded data removed]",
      "text/plain": [
       "<Figure size 432x288 with 1 Axes>"
      ]
     },
     "metadata": {
      "needs_background": "light"
     },
     "output_type": "display_data"
    },
    {
     "data": {
      "image/png": "[encoded data removed]",
      "text/plain": [
       "<Figure size 432x288 with 1 Axes>"
      ]
     },
     "metadata": {
      "needs_background": "light"
     },
     "output_type": "display_data"
    }
   ],
   "source": [
    "#  Linear Interpolation in Python\n",
    "x = [2, 4, 6, 8, 10, 12, 14, 16, 18, 20]\n",
    "y = [4, 7, 11, 16, 22, 29, 38, 49, 63, 80]\n",
    "\n",
    "import matplotlib.pyplot as plt\n",
    "\n",
    "#create plot of x vs. y\n",
    "plt.plot(x, y)\n",
    "plt.show()\n",
    "\n",
    "# create plot with points\n",
    "plt.plot(x, y, '-ob')\n",
    "plt.show()"
   ]
  },
  {
   "cell_type": "code",
   "execution_count": 15,
   "id": "aafeac24",
   "metadata": {},
   "outputs": [
    {
     "name": "stdout",
     "output_type": "stream",
     "text": [
      "Linear Interpolation -: 33.5\n"
     ]
    },
    {
     "data": {
      "image/png": "[encoded data removed]",
      "text/plain": [
       "<Figure size 432x288 with 1 Axes>"
      ]
     },
     "metadata": {
      "needs_background": "light"
     },
     "output_type": "display_data"
    },
    {
     "data": {
      "image/png": "[encoded data removed]",
      "text/plain": [
       "<Figure size 432x288 with 1 Axes>"
      ]
     },
     "metadata": {
      "needs_background": "light"
     },
     "output_type": "display_data"
    }
   ],
   "source": [
    "import scipy.interpolate\n",
    "y_interp = scipy.interpolate.interp1d(x, y)\n",
    "\n",
    "#find y-value associated with x-value of 13 \n",
    "print(\"Linear Interpolation -:\" ,y_interp(13))\n",
    "\n",
    "import matplotlib.pyplot as plt\n",
    "\n",
    "#create plot of x vs. y\n",
    "plt.plot(x, y, '-ob')\n",
    "plt.show()\n",
    "\n",
    "#add estimated y-value to plot\n",
    "plt.plot(13, 33.5, 'ro')\n",
    "plt.show()"
   ]
  },
  {
   "cell_type": "markdown",
   "id": "e4e026c8",
   "metadata": {},
   "source": [
    "##  Find Index of Max Value in List\n",
    "1. find max value in list : **max(list_name)**\n",
    "2. find index of max value in list : **list_name.index(max_value)**"
   ]
  },
  {
   "cell_type": "code",
   "execution_count": 16,
   "id": "02437815",
   "metadata": {},
   "outputs": [
    {
     "name": "stdout",
     "output_type": "stream",
     "text": [
      "Maximum value of array 22\n",
      "\n",
      "Index of Maximum Value 2\n"
     ]
    }
   ],
   "source": [
    "# 1: Find Index of Max Value in List\n",
    "\n",
    "#define list of numbers\n",
    "x = [9, 3, 22, 7, 15, 16, 8, 8, 5, 2]\n",
    "\n",
    "#find max value in list\n",
    "max_value = max(x)\n",
    "\n",
    "#find index of max value in list\n",
    "max_index = x.index(max_value)\n",
    "\n",
    "#display max value\n",
    "print(\"Maximum value of array\" ,max_value)\n",
    "print()\n",
    "\n",
    "#display index of max value\n",
    "print(\"Index of Maximum Value\" ,max_index)"
   ]
  },
  {
   "cell_type": "code",
   "execution_count": 17,
   "id": "9ca862bc",
   "metadata": {},
   "outputs": [
    {
     "name": "stdout",
     "output_type": "stream",
     "text": [
      "Maximum Value -: 22\n",
      "\n",
      "Indices of Maximum Value -: [2, 9]\n"
     ]
    }
   ],
   "source": [
    "# 2: Find Index of Max Value in List with Ties\n",
    "\n",
    "#define list of numbers with multiple max values\n",
    "x = [9, 3, 22, 7, 15, 16, 8, 8, 5, 22]\n",
    "\n",
    "#find max value in list\n",
    "max_value = max(x)\n",
    "\n",
    "#find indices of max values in list\n",
    "indices = [index for index, val in enumerate(x) if val == max_value]\n",
    "\n",
    "#display max value\n",
    "print('Maximum Value -:'  ,max_value)\n",
    "print()\n",
    "#display indices of max value\n",
    "print('Indices of Maximum Value -:' ,indices)"
   ]
  },
  {
   "cell_type": "markdown",
   "id": "1b7e9671",
   "metadata": {},
   "source": [
    "## Concatenate Arrays\n",
    "The easiest way to concatenate arrays in Python is to use the *numpy.concatenate* function, which uses the following syntax:\n",
    "$$numpy.concatenate((a1, a2, ….), axis = 0)$$\n",
    "where, **a1, a2 …:** The sequence of arrays\n",
    "<br>**axis:** The axis along which the arrays will be joined. Default is 0.\n",
    "1. Concatenate Two Arrays\n",
    "2. Concatenate More Than Two Arrays"
   ]
  },
  {
   "cell_type": "code",
   "execution_count": 18,
   "id": "1731660e",
   "metadata": {},
   "outputs": [
    {
     "name": "stdout",
     "output_type": "stream",
     "text": [
      "Zipping of Two Array -: [1 2 3 4 5 6 7 8]\n"
     ]
    }
   ],
   "source": [
    "# 1: Concatenate Two Arrays\n",
    "\n",
    "import numpy as np\n",
    "\n",
    "#create two arrays\n",
    "arr1 = np.array([1, 2, 3, 4, 5])\n",
    "arr2 = np.array([6, 7, 8])\n",
    "\n",
    "#concatentate the two arrays\n",
    "con = np.concatenate((arr1, arr2))\n",
    "print(\"Zipping of Two Array -:\" , con)"
   ]
  },
  {
   "cell_type": "code",
   "execution_count": 21,
   "id": "c46199a7",
   "metadata": {},
   "outputs": [
    {
     "name": "stdout",
     "output_type": "stream",
     "text": [
      "Zipping of two array of 2D -: \n",
      " [[ 3  5]\n",
      " [ 9  9]\n",
      " [12 15]\n",
      " [ 4  0]]\n",
      "\n",
      "Zipping of two array of 2D with non axis -: [ 3  5  9  9 12 15  4  0]\n"
     ]
    }
   ],
   "source": [
    "# create two arrays\n",
    "arr1 = np.array([[3, 5], [9, 9], [12, 15]])\n",
    "arr2 = np.array([[4, 0]])\n",
    "\n",
    "#concatentate the two arrays\n",
    "con1 = np.concatenate((arr1, arr2), axis=0)\n",
    "print(\"Zipping of two array of 2D -:\",'\\n', con1)\n",
    "print()\n",
    "\n",
    "#concatentate the two arrays and flatten the result\n",
    "con2 = np.concatenate((arr1, arr2), axis=None)\n",
    "print(\"Zipping of two array of 2D with non axis -:\", con2)"
   ]
  },
  {
   "cell_type": "code",
   "execution_count": 22,
   "id": "948f0267",
   "metadata": {},
   "outputs": [
    {
     "name": "stdout",
     "output_type": "stream",
     "text": [
      "Concatentate of Many arrays with 0 axis -: \n",
      " [[ 3  5]\n",
      " [ 9  9]\n",
      " [12 15]\n",
      " [ 4  0]\n",
      " [ 1  1]\n",
      " [ 8  8]]\n",
      "\n",
      "Concatentate of Many arrays with non axis -: \n",
      " [ 3  5  9  9 12 15  4  0  1  1  8  8]\n"
     ]
    }
   ],
   "source": [
    "# 2: Concatenate More Than Two Arrays\n",
    "import numpy as np\n",
    "\n",
    "#create four arrays\n",
    "arr1 = np.array([[3, 5], [9, 9], [12, 15]])\n",
    "arr2 = np.array([[4, 0]])\n",
    "arr3 = np.array([[1, 1]])\n",
    "arr4 = np.array([[8, 8]])\n",
    "\n",
    "#concatentate all the arrays\n",
    "con3 = np.concatenate((arr1, arr2, arr3, arr4), axis=0)\n",
    "print(\"Concatentate of Many arrays with 0 axis -:\", '\\n' ,con3)\n",
    "print()\n",
    "\n",
    "#concatentate all the arrays and flatten the result\n",
    "con4 = np.concatenate((arr1, arr2, arr3, arr4), axis=None)\n",
    "print(\"Concatentate of Many arrays with non axis -:\", '\\n' ,con4)"
   ]
  },
  {
   "cell_type": "markdown",
   "id": "df38be18",
   "metadata": {},
   "source": [
    "## Array of Arrays\n",
    "1. Combine Individual Arrays\n",
    "2. Create Array of Arrays Directly"
   ]
  },
  {
   "cell_type": "code",
   "execution_count": 23,
   "id": "77732113",
   "metadata": {},
   "outputs": [
    {
     "name": "stdout",
     "output_type": "stream",
     "text": [
      "[[ 10  20  30  40  50]\n",
      " [ 60  70  80  90 100]\n",
      " [110 120 130 140 150]]\n"
     ]
    }
   ],
   "source": [
    "# 1: Combine Individual Arrays\n",
    "\n",
    "#define individual arrays\n",
    "array1 = np.array([10, 20, 30, 40, 50])\n",
    "array2 = np.array([60, 70, 80, 90, 100])\n",
    "array3 = np.array([110, 120, 130, 140, 150])\n",
    "\n",
    "#combine individual arrays into one array of arrays\n",
    "all_arrays = np.array([array1, array2, array3])\n",
    "\n",
    "#view array of arrays\n",
    "print(all_arrays)"
   ]
  },
  {
   "cell_type": "code",
   "execution_count": 24,
   "id": "e72f29dc",
   "metadata": {},
   "outputs": [
    {
     "name": "stdout",
     "output_type": "stream",
     "text": [
      "[[ 10  20  30  40  50]\n",
      " [ 60  70  80  90 100]\n",
      " [110 120 130 140 150]]\n"
     ]
    }
   ],
   "source": [
    "# 2: Create Array of Arrays Directly\n",
    "#create array of arrays\n",
    "all_arrays = np.array([[10, 20, 30, 40, 50],\n",
    "                       [60, 70, 80, 90, 100],\n",
    "                       [110, 120, 130, 140, 150]])\n",
    "\n",
    "#view array of arrays\n",
    "print(all_arrays)"
   ]
  },
  {
   "cell_type": "code",
   "execution_count": 25,
   "id": "bf56f717",
   "metadata": {},
   "outputs": [
    {
     "name": "stdout",
     "output_type": "stream",
     "text": [
      "Size of Array -: 15\n",
      "\n",
      "Shape / Dimension of Array -: (3, 5)\n",
      "\n",
      "Extract the element of array located at 0 row & 3 column -: 40\n"
     ]
    }
   ],
   "source": [
    "# Size of Array\n",
    "print(\"Size of Array -:\", all_arrays.size)\n",
    "print()\n",
    "\n",
    "# Shape / Dimension of Array\n",
    "print(\"Shape / Dimension of Array -:\", all_arrays.shape)\n",
    "print()\n",
    "\n",
    "# Extracting the eelement of array\n",
    "print(\"Extract the element of array located at 0 row & 3 column -:\", all_arrays[0,3])"
   ]
  },
  {
   "cell_type": "markdown",
   "id": "63b1bc21",
   "metadata": {},
   "source": [
    "## COUNTIF\n",
    "Often you may be interested in only counting the number of rows in a pandas DataFrame that meet some criteria.\n",
    "$$sum(df.column-name == some_value)$$\n",
    "1. Count Rows Equal to Some Value\n",
    "2. Count Rows Greater or Equal to Some Value\n",
    "3. Count Rows Between Two Values"
   ]
  },
  {
   "cell_type": "code",
   "execution_count": 27,
   "id": "93cbeee8",
   "metadata": {},
   "outputs": [
    {
     "name": "stdout",
     "output_type": "stream",
     "text": [
      "Rows of x equal to 10 -: 2\n",
      "\n",
      "Rows of x equal to 10 OR y equal to 5 -: 3\n",
      "\n",
      "Rows not equal to 10 -: 9\n"
     ]
    }
   ],
   "source": [
    "import pandas as pd\n",
    "\n",
    "#create DataFrame\n",
    "df = pd.DataFrame({'x': [3, 4, 5, 6, 7, 8, 9, 10, 10, 12, 13],\n",
    "                   'y': [3, 4, 5, 7, 9, 13, 15, 19, 23, 24, 29]})\n",
    "\n",
    "#view head of DataFrame\n",
    "df.head(3)\n",
    "\n",
    "# 1: Count Rows Equal to Some Value\n",
    "# count the number of rows where the x variable is equal to 10\n",
    "s10= sum(df.x == 10)\n",
    "print(\"Rows of x equal to 10 -:\", s10)\n",
    "print()\n",
    "\n",
    "#count the number of rows where the x variable is equal to 10 or the y variable is equal to 5:\n",
    "s105 = sum((df.x == 10) | (df.y == 5))\n",
    "print(\"Rows of x equal to 10 OR y equal to 5 -:\" , s105)\n",
    "print()\n",
    "\n",
    "# count the number of rows where the x variable is not equal to 10:\n",
    "sn10 = sum(df.x != 10)\n",
    "print(\"Rows not equal to 10 -:\", sn10)"
   ]
  },
  {
   "cell_type": "code",
   "execution_count": 28,
   "id": "2e5fafb0",
   "metadata": {},
   "outputs": [
    {
     "name": "stdout",
     "output_type": "stream",
     "text": [
      "Rows of x greater than 10 -: 2\n",
      "\n",
      "Rows of x less than or equal to 7 -: 5\n"
     ]
    }
   ],
   "source": [
    "# 2: Count Rows Greater or Equal to Some Value\n",
    "# count the number of rows where x is greater than 10\n",
    "sg10 = sum(df.x > 10)\n",
    "print(\"Rows of x greater than 10 -:\", sg10)\n",
    "print()\n",
    "\n",
    "# count the number of rows where x is less than or equal to 7\n",
    "sle7 = sum(df.x <= 7)\n",
    "print(\"Rows of x less than or equal to 7 -:\", sle7)"
   ]
  },
  {
   "cell_type": "code",
   "execution_count": 29,
   "id": "2984f448",
   "metadata": {},
   "outputs": [
    {
     "name": "stdout",
     "output_type": "stream",
     "text": [
      "rows of x is between 5 and 10 -: 7\n"
     ]
    }
   ],
   "source": [
    "# 3: Count Rows Between Two Values\n",
    "# count the number of rows where x is between 5 and 10\n",
    "s5b10 = sum((df.x >= 5) & (df.x <= 10))\n",
    "print(\"rows of x is between 5 and 10 -:\", s5b10)"
   ]
  },
  {
   "cell_type": "markdown",
   "id": "8184a1e8",
   "metadata": {},
   "source": [
    "# Pandas\n",
    "**pandas** is a data analysis library built on top of the Python programming language.\n",
    "## Input / Output\n",
    "### How to Read CSV Files \n",
    "1. Read CSV File into pandas DataFrame : **pd.read_csv('data.csv')**\n",
    "2. Read Specific Columns from CSV File : **pd.read_csv('data.csv', usecols=['col1', 'col2', ....])\n",
    "3. specify column indices to read CSV File : **pd.read_csv('data.csv', usecols=[0, 1])**\n",
    "4. Specify Header Row when Importing CSV File : **pd.read_csv('data.csv', header=1)**\n",
    "5. Skip Rows when Importing CSV File : **pd.read_csv('data.csv', skiprows=[1, 2])**\n",
    "6. Read CSV Files with Custom Delimiter : **pd.read_csv('data.csv', sep='_')**\n",
    "\n",
    "### How to Read Excel Files \n",
    "1. Read Excel File : **pd.read_excel('data.xlsx')**\n",
    "2. Read Excel File with Index Column : **pd.read_excel('data.xlsx', index_col='index')**\n",
    "3. Read Excel File Using Sheet Name : **pd.read_excel('data.xlsx', sheet_name='second sheet')**\n",
    "4. Common Error: Install xlrd : ImportError: Install xlrd >= 1.0.0 for Excel support , then install **pip install xlrd**\n",
    "\n",
    "### How to Read a Text File\n",
    "1. Read a Text File with a Header : **pd.read_csv(\"data.txt\", sep=\" \")**\n",
    "2. Read a Text File with No Header : **pd.read_csv(\"data.txt\", sep=\" \", header=None)**\n",
    "3. Read a Text File with No Header & Specify Column Names : **pd.read_csv(\"data.txt\", sep=\" \", header=None, names=[\"col1\", \"col2\"])**\n",
    "\n",
    "### How to Read a TSV File\n",
    "1. Read a TSV File with a Header : **pd.read_csv(\"data.txt\", sep=\"\\t\")**\n",
    "2. Read a TSV File with No Header : **pd.read_csv(\"data.txt\", sep=\"\\t\", header=None)**\n",
    "3. Read TSV File with No Header & Specify Column Names : **pd.read_csv(\"data.txt\", sep=\"\\t\", header=None, names=[\"col1\", \"col2\"])**\n",
    "\n",
    "### How to Read Text File Into List\n",
    "1. Read Text File Into List Using open() : **open('my_data.txt', 'r')**\n",
    "<br>**my_file.read()\n",
    "<br>**print(data)**\n",
    "2. Read Text File Into List Using loadtxt() : **from numpy import loadtxt**\n",
    "<br>**loadtxt('my_data.txt')**\n",
    "<br>**print(data)**\n",
    "3. import text file into NumPy array as integer : **from numpy import loadtxt**\n",
    "<br>**loadtxt('my_data.txt', dtype='int')\n",
    "<br>print(data)**\n",
    "\n",
    "### How to Read CSV File with NumPy\n",
    "1. **from numpy import genfromtxt\n",
    "<br>genfromtxt('data.csv', delimiter=',', dtype=None)**\n",
    "<br>where, **delimiter:** This specifies the delimiter that separates the data values in the CSV file.\n",
    "<br>**dtype:** This specifies the data type for the NumPy array. By using None, we allow multiple data types to be imported at once within the array.\n",
    "\n",
    "### How to Combine Multiple Excel Sheets\n",
    "**pip install xlrd**\n",
    "1. Read in all sheets : **pd.read_excel('data.xlsx', sheet_name=None)**\n",
    "2. Concatenate all sheets :  **pd.concat(pd.read_excel('data.xlsx', sheet_name=None), ignore_index=True)**"
   ]
  },
  {
   "cell_type": "markdown",
   "id": "06c9b2d2",
   "metadata": {},
   "source": [
    "## General Function\n",
    "### How to Create Series & DataFrames\n",
    "1. Define Series : **pd.Series([elements])**\n",
    "2. Define DataFrame : **pd.DataFrame({'col1_name': [elements],\n",
    "<br>                   'col2_name': [elements],\n",
    "<br>                   'col3_name': [elements]})**\n",
    "\n",
    "### How to Show All Columns of a Pandas DataFrame\n",
    "1. Show all columns : **pd.set_option('max_columns', None)**\n",
    "<br> OR **print(df.columns.tolist())**\n",
    "2. We can reset the default settings in a Jupyter notebook to only show 20 columns : **pd.reset_option('max_columns')**\n",
    "3. How to Show All Rows  in Pandas DataFrame : **pd.set_option('max_rows', None)**\n",
    "4. specify that only a max of 10 rows should be shown : **pd.set_option('max_rows', 10)**\n",
    "\n",
    "### How to List All Column Names \n",
    "1. Use Brackets : **[column for column in df]**\n",
    "2. Use tolist() : **df.columns.values.tolist()**\n",
    "3. Use list() with column values : **list(df.columns.values)\n",
    "\n",
    "### Rename Columns\n",
    "1. Rename Specific Columns : **df.rename(columns = {'old_col1':'new_col1', 'old_col2':'new_col2'}, inplace = True)**\n",
    "2. Rename All Columns : **df.columns = ['new_col1', 'new_col2', 'new_col3', 'new_col4']**\n",
    "3. Replace Specific Characters in Columns : **df.columns = df.columns.str.replace('old_char', 'new_char')**\n",
    "### How to Stack Multiple Pandas DataFrames\n",
    "1. \"stack\" the two DataFrames together : **pd.concat([df1,df2], ignore_index=True)**\n",
    "<br>**The Importance of ignore_index -**\n",
    "<br>Note that in the previous examples we used ignore_index=True. This tells pandas to ignore the index numbers in each DataFrame and to create a new index ranging from 0 to n-1 for the new DataFrame."
   ]
  },
  {
   "cell_type": "code",
   "execution_count": 1,
   "id": "5657c38e",
   "metadata": {},
   "outputs": [
    {
     "data": {
      "text/html": [
       "<div>\n",
       "<style scoped>\n",
       "    .dataframe tbody tr th:only-of-type {\n",
       "        vertical-align: middle;\n",
       "    }\n",
       "\n",
       "    .dataframe tbody tr th {\n",
       "        vertical-align: top;\n",
       "    }\n",
       "\n",
       "    .dataframe thead th {\n",
       "        text-align: right;\n",
       "    }\n",
       "</style>\n",
       "<table border=\"1\" class=\"dataframe\">\n",
       "  <thead>\n",
       "    <tr style=\"text-align: right;\">\n",
       "      <th></th>\n",
       "      <th>player</th>\n",
       "      <th>points</th>\n",
       "    </tr>\n",
       "  </thead>\n",
       "  <tbody>\n",
       "    <tr>\n",
       "      <th>0</th>\n",
       "      <td>A</td>\n",
       "      <td>12</td>\n",
       "    </tr>\n",
       "    <tr>\n",
       "      <th>1</th>\n",
       "      <td>B</td>\n",
       "      <td>5</td>\n",
       "    </tr>\n",
       "    <tr>\n",
       "      <th>2</th>\n",
       "      <td>C</td>\n",
       "      <td>13</td>\n",
       "    </tr>\n",
       "    <tr>\n",
       "      <th>3</th>\n",
       "      <td>D</td>\n",
       "      <td>17</td>\n",
       "    </tr>\n",
       "    <tr>\n",
       "      <th>4</th>\n",
       "      <td>E</td>\n",
       "      <td>27</td>\n",
       "    </tr>\n",
       "    <tr>\n",
       "      <th>5</th>\n",
       "      <td>F</td>\n",
       "      <td>24</td>\n",
       "    </tr>\n",
       "    <tr>\n",
       "      <th>6</th>\n",
       "      <td>G</td>\n",
       "      <td>26</td>\n",
       "    </tr>\n",
       "    <tr>\n",
       "      <th>7</th>\n",
       "      <td>H</td>\n",
       "      <td>27</td>\n",
       "    </tr>\n",
       "    <tr>\n",
       "      <th>8</th>\n",
       "      <td>I</td>\n",
       "      <td>27</td>\n",
       "    </tr>\n",
       "    <tr>\n",
       "      <th>9</th>\n",
       "      <td>J</td>\n",
       "      <td>12</td>\n",
       "    </tr>\n",
       "    <tr>\n",
       "      <th>10</th>\n",
       "      <td>K</td>\n",
       "      <td>9</td>\n",
       "    </tr>\n",
       "    <tr>\n",
       "      <th>11</th>\n",
       "      <td>L</td>\n",
       "      <td>5</td>\n",
       "    </tr>\n",
       "    <tr>\n",
       "      <th>12</th>\n",
       "      <td>M</td>\n",
       "      <td>5</td>\n",
       "    </tr>\n",
       "    <tr>\n",
       "      <th>13</th>\n",
       "      <td>N</td>\n",
       "      <td>13</td>\n",
       "    </tr>\n",
       "    <tr>\n",
       "      <th>14</th>\n",
       "      <td>O</td>\n",
       "      <td>17</td>\n",
       "    </tr>\n",
       "  </tbody>\n",
       "</table>\n",
       "</div>"
      ],
      "text/plain": [
       "   player  points\n",
       "0       A      12\n",
       "1       B       5\n",
       "2       C      13\n",
       "3       D      17\n",
       "4       E      27\n",
       "5       F      24\n",
       "6       G      26\n",
       "7       H      27\n",
       "8       I      27\n",
       "9       J      12\n",
       "10      K       9\n",
       "11      L       5\n",
       "12      M       5\n",
       "13      N      13\n",
       "14      O      17"
      ]
     },
     "execution_count": 1,
     "metadata": {},
     "output_type": "execute_result"
    }
   ],
   "source": [
    "import pandas as pd\n",
    "\n",
    "#create two DataFrames\n",
    "df1 = pd.DataFrame({'player': ['A', 'B', 'C', 'D', 'E'],\n",
    "                    'points':[12, 5, 13, 17, 27]})\n",
    "\n",
    "df2 = pd.DataFrame({'player': ['F', 'G', 'H', 'I', 'J'],\n",
    "                    'points':[24, 26, 27, 27, 12]})\n",
    "\n",
    "df3 = pd.DataFrame({'player': ['K', 'L', 'M', 'N', 'O'],\n",
    "                    'points':[9, 5, 5, 13, 17]})\n",
    "\n",
    "#\"stack\" the two DataFrames together\n",
    "df4 = pd.concat([df1,df2, df3], ignore_index=True)\n",
    "\n",
    "#view resulting DataFrame\n",
    "df4"
   ]
  },
  {
   "cell_type": "markdown",
   "id": "1d77aea2",
   "metadata": {},
   "source": [
    "### How to Reshape DataFrame from Wide to Long\n",
    "**pd.melt(df, id_vars='col1', value_vars=['col2', 'col3', ...])**"
   ]
  },
  {
   "cell_type": "code",
   "execution_count": 3,
   "id": "4a918b44",
   "metadata": {},
   "outputs": [
    {
     "name": "stdout",
     "output_type": "stream",
     "text": [
      "Normal DataFrame \n",
      "   team  points  assists  rebounds\n",
      "0    A      88       12        22\n",
      "1    B      91       17        28\n",
      "2    C      99       24        30\n",
      "3    D      94       28        31\n",
      "\n",
      "Reshape DataFrame from wide to long format \n",
      "    team  variable  value\n",
      "0     A    points     88\n",
      "1     B    points     91\n",
      "2     C    points     99\n",
      "3     D    points     94\n",
      "4     A   assists     12\n",
      "5     B   assists     17\n",
      "6     C   assists     24\n",
      "7     D   assists     28\n",
      "8     A  rebounds     22\n",
      "9     B  rebounds     28\n",
      "10    C  rebounds     30\n",
      "11    D  rebounds     31\n"
     ]
    }
   ],
   "source": [
    "import pandas as pd\n",
    "\n",
    "#create DataFrame\n",
    "df = pd.DataFrame({'team': ['A', 'B', 'C', 'D'],\n",
    "                   'points': [88, 91, 99, 94],\n",
    "                   'assists': [12, 17, 24, 28],\n",
    "                   'rebounds': [22, 28, 30, 31]})\n",
    "\n",
    "#view DataFrame\n",
    "print(\"Normal DataFrame\" , '\\n' ,df.head())\n",
    "print()\n",
    "\n",
    "#reshape DataFrame from wide format to long format\n",
    "df = pd.melt(df, id_vars='team', value_vars=['points', 'assists', 'rebounds'])\n",
    "\n",
    "#view updated DataFrame\n",
    "print(\"Reshape DataFrame from wide to long format\" ,'\\n', df)"
   ]
  },
  {
   "cell_type": "markdown",
   "id": "88c750b8",
   "metadata": {},
   "source": [
    "### How to Reshape DataFrame from Long to Wide\n",
    "**pd.pivot(df, index='col1', columns='col2', values='col3')**"
   ]
  },
  {
   "cell_type": "code",
   "execution_count": 6,
   "id": "a195ddda",
   "metadata": {},
   "outputs": [
    {
     "name": "stdout",
     "output_type": "stream",
     "text": [
      "Normal DataFrame \n",
      "   team  player  points\n",
      "0    A       1      11\n",
      "1    A       2       8\n",
      "2    A       3      10\n",
      "3    A       4       6\n",
      "4    B       1      12\n",
      "\n",
      "Reshaped DF from long to wide format \n",
      " player   1  2   3  4\n",
      "team                \n",
      "A       11  8  10  6\n",
      "B       12  5   9  4\n"
     ]
    }
   ],
   "source": [
    "#Reshape Pandas DataFrame from Long to Wide\n",
    "import pandas as pd\n",
    "\n",
    "#create DataFrame in long format\n",
    "df = pd.DataFrame({'team': ['A', 'A', 'A', 'A', 'B', 'B', 'B', 'B'],\n",
    "                   'player': [1, 2, 3, 4, 1, 2, 3, 4],\n",
    "                   'points': [11, 8, 10, 6, 12, 5, 9, 4]})\n",
    "\n",
    "#view DataFrame\n",
    "print(\"Normal DataFrame\"  ,'\\n' , df.head())\n",
    "print()\n",
    "#reshape DataFrame from long format to wide format\n",
    "df = pd.pivot(df, index='team', columns='player', values='points')\n",
    "\n",
    "#view updated DataFrame\n",
    "print('Reshaped DF from long to wide format' , '\\n', df)"
   ]
  },
  {
   "cell_type": "markdown",
   "id": "6aca08c2",
   "metadata": {},
   "source": [
    "### How to Convert Pandas Pivot Table to DataFrame\n",
    "**pivot_name.reset_index()**"
   ]
  },
  {
   "cell_type": "code",
   "execution_count": 8,
   "id": "3a5dfb41",
   "metadata": {},
   "outputs": [
    {
     "name": "stdout",
     "output_type": "stream",
     "text": [
      "Normal DF \n",
      "   team position  points\n",
      "0    A        G      11\n",
      "1    A        G       8\n",
      "2    A        F      10\n",
      "3    A        F       6\n",
      "4    B        G       6\n",
      "5    B        G       5\n",
      "6    B        F       9\n",
      "7    B        F      12\n",
      "\n"
     ]
    },
    {
     "data": {
      "text/html": [
       "<div>\n",
       "<style scoped>\n",
       "    .dataframe tbody tr th:only-of-type {\n",
       "        vertical-align: middle;\n",
       "    }\n",
       "\n",
       "    .dataframe tbody tr th {\n",
       "        vertical-align: top;\n",
       "    }\n",
       "\n",
       "    .dataframe thead th {\n",
       "        text-align: right;\n",
       "    }\n",
       "</style>\n",
       "<table border=\"1\" class=\"dataframe\">\n",
       "  <thead>\n",
       "    <tr style=\"text-align: right;\">\n",
       "      <th>position</th>\n",
       "      <th>F</th>\n",
       "      <th>G</th>\n",
       "    </tr>\n",
       "    <tr>\n",
       "      <th>team</th>\n",
       "      <th></th>\n",
       "      <th></th>\n",
       "    </tr>\n",
       "  </thead>\n",
       "  <tbody>\n",
       "    <tr>\n",
       "      <th>A</th>\n",
       "      <td>8.0</td>\n",
       "      <td>9.5</td>\n",
       "    </tr>\n",
       "    <tr>\n",
       "      <th>B</th>\n",
       "      <td>10.5</td>\n",
       "      <td>5.5</td>\n",
       "    </tr>\n",
       "  </tbody>\n",
       "</table>\n",
       "</div>"
      ],
      "text/plain": [
       "position     F    G\n",
       "team               \n",
       "A          8.0  9.5\n",
       "B         10.5  5.5"
      ]
     },
     "execution_count": 8,
     "metadata": {},
     "output_type": "execute_result"
    }
   ],
   "source": [
    "# Convert Pivot Table to DataFrame\n",
    "\n",
    "import pandas as pd\n",
    "\n",
    "#create DataFrame\n",
    "df = pd.DataFrame({'team': ['A', 'A', 'A', 'A', 'B', 'B', 'B', 'B'],\n",
    "                   'position': ['G', 'G', 'F', 'F', 'G', 'G', 'F', 'F'],\n",
    "                   'points': [11, 8, 10, 6, 6, 5, 9, 12]})\n",
    "\n",
    "#view DataFrame\n",
    "print(\"Normal DF\" ,'\\n',df)\n",
    "print()\n",
    "\n",
    "#create pivot table\n",
    "df_pivot = pd.pivot_table(df, values='points', index='team', columns='position')\n",
    "\n",
    "#view pivot table\n",
    "df_pivot"
   ]
  },
  {
   "cell_type": "code",
   "execution_count": 9,
   "id": "3dcfe518",
   "metadata": {},
   "outputs": [
    {
     "data": {
      "text/html": [
       "<div>\n",
       "<style scoped>\n",
       "    .dataframe tbody tr th:only-of-type {\n",
       "        vertical-align: middle;\n",
       "    }\n",
       "\n",
       "    .dataframe tbody tr th {\n",
       "        vertical-align: top;\n",
       "    }\n",
       "\n",
       "    .dataframe thead th {\n",
       "        text-align: right;\n",
       "    }\n",
       "</style>\n",
       "<table border=\"1\" class=\"dataframe\">\n",
       "  <thead>\n",
       "    <tr style=\"text-align: right;\">\n",
       "      <th>position</th>\n",
       "      <th>team</th>\n",
       "      <th>F</th>\n",
       "      <th>G</th>\n",
       "    </tr>\n",
       "  </thead>\n",
       "  <tbody>\n",
       "    <tr>\n",
       "      <th>0</th>\n",
       "      <td>A</td>\n",
       "      <td>8.0</td>\n",
       "      <td>9.5</td>\n",
       "    </tr>\n",
       "    <tr>\n",
       "      <th>1</th>\n",
       "      <td>B</td>\n",
       "      <td>10.5</td>\n",
       "      <td>5.5</td>\n",
       "    </tr>\n",
       "  </tbody>\n",
       "</table>\n",
       "</div>"
      ],
      "text/plain": [
       "position team     F    G\n",
       "0           A   8.0  9.5\n",
       "1           B  10.5  5.5"
      ]
     },
     "execution_count": 9,
     "metadata": {},
     "output_type": "execute_result"
    }
   ],
   "source": [
    "#convert pivot table to DataFrame\n",
    "df2 = df_pivot.reset_index()\n",
    "\n",
    "#view DataFrame\n",
    "df2"
   ]
  },
  {
   "cell_type": "code",
   "execution_count": 10,
   "id": "81925828",
   "metadata": {},
   "outputs": [
    {
     "data": {
      "text/html": [
       "<div>\n",
       "<style scoped>\n",
       "    .dataframe tbody tr th:only-of-type {\n",
       "        vertical-align: middle;\n",
       "    }\n",
       "\n",
       "    .dataframe tbody tr th {\n",
       "        vertical-align: top;\n",
       "    }\n",
       "\n",
       "    .dataframe thead th {\n",
       "        text-align: right;\n",
       "    }\n",
       "</style>\n",
       "<table border=\"1\" class=\"dataframe\">\n",
       "  <thead>\n",
       "    <tr style=\"text-align: right;\">\n",
       "      <th></th>\n",
       "      <th>team</th>\n",
       "      <th>Forward_Pts</th>\n",
       "      <th>Guard_Pts</th>\n",
       "    </tr>\n",
       "  </thead>\n",
       "  <tbody>\n",
       "    <tr>\n",
       "      <th>0</th>\n",
       "      <td>A</td>\n",
       "      <td>8.0</td>\n",
       "      <td>9.5</td>\n",
       "    </tr>\n",
       "    <tr>\n",
       "      <th>1</th>\n",
       "      <td>B</td>\n",
       "      <td>10.5</td>\n",
       "      <td>5.5</td>\n",
       "    </tr>\n",
       "  </tbody>\n",
       "</table>\n",
       "</div>"
      ],
      "text/plain": [
       "  team  Forward_Pts  Guard_Pts\n",
       "0    A          8.0        9.5\n",
       "1    B         10.5        5.5"
      ]
     },
     "execution_count": 10,
     "metadata": {},
     "output_type": "execute_result"
    }
   ],
   "source": [
    "#convert pivot table to DataFrame\n",
    "df2.columns = ['team', 'Forward_Pts', 'Guard_Pts']\n",
    "\n",
    "#view updated DataFrame\n",
    "df2"
   ]
  },
  {
   "cell_type": "markdown",
   "id": "77a438d3",
   "metadata": {},
   "source": [
    "### How to Create Pivot Table with Count of Values\n",
    "1. Pivot Table With Counts : **pd.pivot_table(df, values='col1', index='col2', columns='col3', aggfunc='count')**\n",
    "2. Pivot Table With Unique Counts : **pd.pivot_table(df, values='col1', index='col2', columns='col3', aggfunc=pd.Series.nunique)**"
   ]
  },
  {
   "cell_type": "code",
   "execution_count": 11,
   "id": "6be4d6d5",
   "metadata": {},
   "outputs": [
    {
     "name": "stdout",
     "output_type": "stream",
     "text": [
      "Normal DF \n",
      "   team position  points\n",
      "0    A        G       4\n",
      "1    A        G       4\n",
      "2    A        F       6\n",
      "3    A        C       8\n",
      "4    B        G       9\n",
      "5    B        F       5\n",
      "6    B        F       5\n",
      "7    B        F      12\n",
      "\n"
     ]
    },
    {
     "data": {
      "text/html": [
       "<div>\n",
       "<style scoped>\n",
       "    .dataframe tbody tr th:only-of-type {\n",
       "        vertical-align: middle;\n",
       "    }\n",
       "\n",
       "    .dataframe tbody tr th {\n",
       "        vertical-align: top;\n",
       "    }\n",
       "\n",
       "    .dataframe thead th {\n",
       "        text-align: right;\n",
       "    }\n",
       "</style>\n",
       "<table border=\"1\" class=\"dataframe\">\n",
       "  <thead>\n",
       "    <tr style=\"text-align: right;\">\n",
       "      <th>position</th>\n",
       "      <th>C</th>\n",
       "      <th>F</th>\n",
       "      <th>G</th>\n",
       "    </tr>\n",
       "    <tr>\n",
       "      <th>team</th>\n",
       "      <th></th>\n",
       "      <th></th>\n",
       "      <th></th>\n",
       "    </tr>\n",
       "  </thead>\n",
       "  <tbody>\n",
       "    <tr>\n",
       "      <th>A</th>\n",
       "      <td>1.0</td>\n",
       "      <td>1.0</td>\n",
       "      <td>2.0</td>\n",
       "    </tr>\n",
       "    <tr>\n",
       "      <th>B</th>\n",
       "      <td>NaN</td>\n",
       "      <td>3.0</td>\n",
       "      <td>1.0</td>\n",
       "    </tr>\n",
       "  </tbody>\n",
       "</table>\n",
       "</div>"
      ],
      "text/plain": [
       "position    C    F    G\n",
       "team                   \n",
       "A         1.0  1.0  2.0\n",
       "B         NaN  3.0  1.0"
      ]
     },
     "execution_count": 11,
     "metadata": {},
     "output_type": "execute_result"
    }
   ],
   "source": [
    "import pandas as pd\n",
    "\n",
    "#create DataFrame\n",
    "df = pd.DataFrame({'team': ['A', 'A', 'A', 'A', 'B', 'B', 'B', 'B'],\n",
    "                   'position': ['G', 'G', 'F', 'C', 'G', 'F', 'F', 'F'],\n",
    "                   'points': [4, 4, 6, 8, 9, 5, 5, 12]})\n",
    "\n",
    "#view DataFrame\n",
    "print(\"Normal DF\", '\\n', df)\n",
    "print()\n",
    "\n",
    "# 1: Create Pandas Pivot Table With Counts\n",
    "#create pivot table\n",
    "df_pivot = pd.pivot_table(df, values='points', index='team', columns='position',\n",
    "                          aggfunc='count')\n",
    "\n",
    "#view pivot table\n",
    "df_pivot"
   ]
  },
  {
   "cell_type": "code",
   "execution_count": 12,
   "id": "1b037da7",
   "metadata": {},
   "outputs": [
    {
     "data": {
      "text/html": [
       "<div>\n",
       "<style scoped>\n",
       "    .dataframe tbody tr th:only-of-type {\n",
       "        vertical-align: middle;\n",
       "    }\n",
       "\n",
       "    .dataframe tbody tr th {\n",
       "        vertical-align: top;\n",
       "    }\n",
       "\n",
       "    .dataframe thead th {\n",
       "        text-align: right;\n",
       "    }\n",
       "</style>\n",
       "<table border=\"1\" class=\"dataframe\">\n",
       "  <thead>\n",
       "    <tr style=\"text-align: right;\">\n",
       "      <th>position</th>\n",
       "      <th>C</th>\n",
       "      <th>F</th>\n",
       "      <th>G</th>\n",
       "    </tr>\n",
       "    <tr>\n",
       "      <th>team</th>\n",
       "      <th></th>\n",
       "      <th></th>\n",
       "      <th></th>\n",
       "    </tr>\n",
       "  </thead>\n",
       "  <tbody>\n",
       "    <tr>\n",
       "      <th>A</th>\n",
       "      <td>1.0</td>\n",
       "      <td>1.0</td>\n",
       "      <td>1.0</td>\n",
       "    </tr>\n",
       "    <tr>\n",
       "      <th>B</th>\n",
       "      <td>NaN</td>\n",
       "      <td>2.0</td>\n",
       "      <td>1.0</td>\n",
       "    </tr>\n",
       "  </tbody>\n",
       "</table>\n",
       "</div>"
      ],
      "text/plain": [
       "position    C    F    G\n",
       "team                   \n",
       "A         1.0  1.0  1.0\n",
       "B         NaN  2.0  1.0"
      ]
     },
     "execution_count": 12,
     "metadata": {},
     "output_type": "execute_result"
    }
   ],
   "source": [
    "# 2: Create Pandas Pivot Table With Unique Counts\n",
    "\n",
    "#create pivot table\n",
    "df_pivot = pd.pivot_table(df, values='points', index='team', columns='position',\n",
    "                          aggfunc=pd.Series.nunique)\n",
    "\n",
    "#view pivot table\n",
    "df_pivot"
   ]
  },
  {
   "cell_type": "markdown",
   "id": "65716bb9",
   "metadata": {},
   "source": [
    "## How to Merge Two or More Series in Pandas\n",
    "**pd.concat([series1, series2, ...], axis=1)**"
   ]
  },
  {
   "cell_type": "code",
   "execution_count": 13,
   "id": "f9ad8bcb",
   "metadata": {},
   "outputs": [
    {
     "data": {
      "text/html": [
       "<div>\n",
       "<style scoped>\n",
       "    .dataframe tbody tr th:only-of-type {\n",
       "        vertical-align: middle;\n",
       "    }\n",
       "\n",
       "    .dataframe tbody tr th {\n",
       "        vertical-align: top;\n",
       "    }\n",
       "\n",
       "    .dataframe thead th {\n",
       "        text-align: right;\n",
       "    }\n",
       "</style>\n",
       "<table border=\"1\" class=\"dataframe\">\n",
       "  <thead>\n",
       "    <tr style=\"text-align: right;\">\n",
       "      <th></th>\n",
       "      <th>Team</th>\n",
       "      <th>Points</th>\n",
       "    </tr>\n",
       "  </thead>\n",
       "  <tbody>\n",
       "    <tr>\n",
       "      <th>0</th>\n",
       "      <td>Mavs</td>\n",
       "      <td>109</td>\n",
       "    </tr>\n",
       "    <tr>\n",
       "      <th>1</th>\n",
       "      <td>Rockets</td>\n",
       "      <td>103</td>\n",
       "    </tr>\n",
       "    <tr>\n",
       "      <th>2</th>\n",
       "      <td>Spurs</td>\n",
       "      <td>98</td>\n",
       "    </tr>\n",
       "  </tbody>\n",
       "</table>\n",
       "</div>"
      ],
      "text/plain": [
       "      Team  Points\n",
       "0     Mavs     109\n",
       "1  Rockets     103\n",
       "2    Spurs      98"
      ]
     },
     "execution_count": 13,
     "metadata": {},
     "output_type": "execute_result"
    }
   ],
   "source": [
    "# 1: Merge Two Series in Pandas\n",
    "\n",
    "import pandas as pd\n",
    "\n",
    "#define series\n",
    "series1 = pd.Series(['Mavs', 'Rockets', 'Spurs'], name='Team')\n",
    "series2 = pd.Series([109, 103, 98], name='Points')\n",
    "\n",
    "#merge series into DataFrame\n",
    "df = pd.concat([series1, series2], axis=1)\n",
    "\n",
    "#view DataFrame\n",
    "df"
   ]
  },
  {
   "cell_type": "code",
   "execution_count": 14,
   "id": "77dc0bce",
   "metadata": {},
   "outputs": [
    {
     "data": {
      "text/html": [
       "<div>\n",
       "<style scoped>\n",
       "    .dataframe tbody tr th:only-of-type {\n",
       "        vertical-align: middle;\n",
       "    }\n",
       "\n",
       "    .dataframe tbody tr th {\n",
       "        vertical-align: top;\n",
       "    }\n",
       "\n",
       "    .dataframe thead th {\n",
       "        text-align: right;\n",
       "    }\n",
       "</style>\n",
       "<table border=\"1\" class=\"dataframe\">\n",
       "  <thead>\n",
       "    <tr style=\"text-align: right;\">\n",
       "      <th></th>\n",
       "      <th>Team</th>\n",
       "      <th>Points</th>\n",
       "    </tr>\n",
       "  </thead>\n",
       "  <tbody>\n",
       "    <tr>\n",
       "      <th>0</th>\n",
       "      <td>Mavs</td>\n",
       "      <td>109.0</td>\n",
       "    </tr>\n",
       "    <tr>\n",
       "      <th>1</th>\n",
       "      <td>Rockets</td>\n",
       "      <td>103.0</td>\n",
       "    </tr>\n",
       "    <tr>\n",
       "      <th>2</th>\n",
       "      <td>Spurs</td>\n",
       "      <td>NaN</td>\n",
       "    </tr>\n",
       "  </tbody>\n",
       "</table>\n",
       "</div>"
      ],
      "text/plain": [
       "      Team  Points\n",
       "0     Mavs   109.0\n",
       "1  Rockets   103.0\n",
       "2    Spurs     NaN"
      ]
     },
     "execution_count": 14,
     "metadata": {},
     "output_type": "execute_result"
    }
   ],
   "source": [
    "# NaN values for missing values in the resulting DataFrame:\n",
    "\n",
    "import pandas as pd\n",
    "\n",
    "#define series\n",
    "series1 = pd.Series(['Mavs', 'Rockets', 'Spurs'], name='Team')\n",
    "series2 = pd.Series([109, 103], name='Points')\n",
    "\n",
    "#merge series into DataFrame\n",
    "df = pd.concat([series1, series2], axis=1)\n",
    "\n",
    "#view DataFrame\n",
    "df"
   ]
  },
  {
   "cell_type": "code",
   "execution_count": 15,
   "id": "48b662e0",
   "metadata": {},
   "outputs": [
    {
     "data": {
      "text/html": [
       "<div>\n",
       "<style scoped>\n",
       "    .dataframe tbody tr th:only-of-type {\n",
       "        vertical-align: middle;\n",
       "    }\n",
       "\n",
       "    .dataframe tbody tr th {\n",
       "        vertical-align: top;\n",
       "    }\n",
       "\n",
       "    .dataframe thead th {\n",
       "        text-align: right;\n",
       "    }\n",
       "</style>\n",
       "<table border=\"1\" class=\"dataframe\">\n",
       "  <thead>\n",
       "    <tr style=\"text-align: right;\">\n",
       "      <th></th>\n",
       "      <th>Team</th>\n",
       "      <th>Points</th>\n",
       "      <th>Assists</th>\n",
       "      <th>Rebounds</th>\n",
       "    </tr>\n",
       "  </thead>\n",
       "  <tbody>\n",
       "    <tr>\n",
       "      <th>0</th>\n",
       "      <td>Mavs</td>\n",
       "      <td>109</td>\n",
       "      <td>22</td>\n",
       "      <td>30</td>\n",
       "    </tr>\n",
       "    <tr>\n",
       "      <th>1</th>\n",
       "      <td>Rockets</td>\n",
       "      <td>103</td>\n",
       "      <td>18</td>\n",
       "      <td>35</td>\n",
       "    </tr>\n",
       "    <tr>\n",
       "      <th>2</th>\n",
       "      <td>Spurs</td>\n",
       "      <td>98</td>\n",
       "      <td>15</td>\n",
       "      <td>28</td>\n",
       "    </tr>\n",
       "  </tbody>\n",
       "</table>\n",
       "</div>"
      ],
      "text/plain": [
       "      Team  Points  Assists  Rebounds\n",
       "0     Mavs     109       22        30\n",
       "1  Rockets     103       18        35\n",
       "2    Spurs      98       15        28"
      ]
     },
     "execution_count": 15,
     "metadata": {},
     "output_type": "execute_result"
    }
   ],
   "source": [
    "# 2: Merge Multiple Series in Pandas\n",
    "\n",
    "import pandas as pd\n",
    "\n",
    "#define series\n",
    "series1 = pd.Series(['Mavs', 'Rockets', 'Spurs'], name='Team')\n",
    "series2 = pd.Series([109, 103, 98], name='Points')\n",
    "series3 = pd.Series([22, 18, 15], name='Assists')\n",
    "series4 = pd.Series([30, 35, 28], name='Rebounds')\n",
    "\n",
    "#merge series into DataFrame\n",
    "df = pd.concat([series1, series2, series3, series4], axis=1)\n",
    "\n",
    "#view DataFrame\n",
    "df"
   ]
  },
  {
   "cell_type": "markdown",
   "id": "09a98672",
   "metadata": {},
   "source": [
    "## How to Merge Two Pandas DataFrames on Index\n",
    "1. Use join: By default, this performs a left join  **df1.join(df2)**\n",
    "2. Use merge. By default, this performs an inner join : **pd.merge(df1, df2, left_index=True, right_index=True)**\n",
    "3. Use concat. By default, this performs an outer join : **pd.concat([df1, df2], axis=1)**"
   ]
  },
  {
   "cell_type": "code",
   "execution_count": 16,
   "id": "8ce2cf15",
   "metadata": {},
   "outputs": [
    {
     "name": "stdout",
     "output_type": "stream",
     "text": [
      "1st DF \n",
      "    rating  points\n",
      "a      90      25\n",
      "b      85      20\n",
      "c      82      14\n",
      "d      88      16\n",
      "e      94      27\n",
      "f      90      20\n",
      "g      76      12\n",
      "h      75      15\n",
      "\n",
      "2nd DF \n",
      "    assists  rebounds\n",
      "a        5        11\n",
      "c        7         8\n",
      "d        7        10\n",
      "g        8         6\n",
      "m        5         6\n",
      "n        7         9\n"
     ]
    }
   ],
   "source": [
    "import pandas as pd\n",
    "\n",
    "#create first DataFrame\n",
    "df1 = pd.DataFrame({'rating': [90, 85, 82, 88, 94, 90, 76, 75],\n",
    "                   'points': [25, 20, 14, 16, 27, 20, 12, 15]},\n",
    "                   index=list('abcdefgh'))\n",
    "\n",
    "print(\"1st DF\" ,'\\n', df1)\n",
    "print()\n",
    "\n",
    "#create second DataFrame \n",
    "df2 = pd.DataFrame({'assists': [5, 7, 7, 8, 5, 7],\n",
    "                   'rebounds': [11, 8, 10, 6, 6, 9]},\n",
    "                   index=list('acdgmn'))           \n",
    "\n",
    "print(\"2nd DF\" ,'\\n', df2)"
   ]
  },
  {
   "cell_type": "code",
   "execution_count": 17,
   "id": "29b4688e",
   "metadata": {},
   "outputs": [
    {
     "data": {
      "text/html": [
       "<div>\n",
       "<style scoped>\n",
       "    .dataframe tbody tr th:only-of-type {\n",
       "        vertical-align: middle;\n",
       "    }\n",
       "\n",
       "    .dataframe tbody tr th {\n",
       "        vertical-align: top;\n",
       "    }\n",
       "\n",
       "    .dataframe thead th {\n",
       "        text-align: right;\n",
       "    }\n",
       "</style>\n",
       "<table border=\"1\" class=\"dataframe\">\n",
       "  <thead>\n",
       "    <tr style=\"text-align: right;\">\n",
       "      <th></th>\n",
       "      <th>rating</th>\n",
       "      <th>points</th>\n",
       "      <th>assists</th>\n",
       "      <th>rebounds</th>\n",
       "    </tr>\n",
       "  </thead>\n",
       "  <tbody>\n",
       "    <tr>\n",
       "      <th>a</th>\n",
       "      <td>90</td>\n",
       "      <td>25</td>\n",
       "      <td>5.0</td>\n",
       "      <td>11.0</td>\n",
       "    </tr>\n",
       "    <tr>\n",
       "      <th>b</th>\n",
       "      <td>85</td>\n",
       "      <td>20</td>\n",
       "      <td>NaN</td>\n",
       "      <td>NaN</td>\n",
       "    </tr>\n",
       "    <tr>\n",
       "      <th>c</th>\n",
       "      <td>82</td>\n",
       "      <td>14</td>\n",
       "      <td>7.0</td>\n",
       "      <td>8.0</td>\n",
       "    </tr>\n",
       "    <tr>\n",
       "      <th>d</th>\n",
       "      <td>88</td>\n",
       "      <td>16</td>\n",
       "      <td>7.0</td>\n",
       "      <td>10.0</td>\n",
       "    </tr>\n",
       "    <tr>\n",
       "      <th>e</th>\n",
       "      <td>94</td>\n",
       "      <td>27</td>\n",
       "      <td>NaN</td>\n",
       "      <td>NaN</td>\n",
       "    </tr>\n",
       "    <tr>\n",
       "      <th>f</th>\n",
       "      <td>90</td>\n",
       "      <td>20</td>\n",
       "      <td>NaN</td>\n",
       "      <td>NaN</td>\n",
       "    </tr>\n",
       "    <tr>\n",
       "      <th>g</th>\n",
       "      <td>76</td>\n",
       "      <td>12</td>\n",
       "      <td>8.0</td>\n",
       "      <td>6.0</td>\n",
       "    </tr>\n",
       "    <tr>\n",
       "      <th>h</th>\n",
       "      <td>75</td>\n",
       "      <td>15</td>\n",
       "      <td>NaN</td>\n",
       "      <td>NaN</td>\n",
       "    </tr>\n",
       "  </tbody>\n",
       "</table>\n",
       "</div>"
      ],
      "text/plain": [
       "   rating  points  assists  rebounds\n",
       "a      90      25      5.0      11.0\n",
       "b      85      20      NaN       NaN\n",
       "c      82      14      7.0       8.0\n",
       "d      88      16      7.0      10.0\n",
       "e      94      27      NaN       NaN\n",
       "f      90      20      NaN       NaN\n",
       "g      76      12      8.0       6.0\n",
       "h      75      15      NaN       NaN"
      ]
     },
     "execution_count": 17,
     "metadata": {},
     "output_type": "execute_result"
    }
   ],
   "source": [
    "#1: Merge DataFrames Using Join\n",
    "\n",
    "df1.join(df2)"
   ]
  },
  {
   "cell_type": "code",
   "execution_count": 18,
   "id": "5abbc041",
   "metadata": {},
   "outputs": [
    {
     "data": {
      "text/html": [
       "<div>\n",
       "<style scoped>\n",
       "    .dataframe tbody tr th:only-of-type {\n",
       "        vertical-align: middle;\n",
       "    }\n",
       "\n",
       "    .dataframe tbody tr th {\n",
       "        vertical-align: top;\n",
       "    }\n",
       "\n",
       "    .dataframe thead th {\n",
       "        text-align: right;\n",
       "    }\n",
       "</style>\n",
       "<table border=\"1\" class=\"dataframe\">\n",
       "  <thead>\n",
       "    <tr style=\"text-align: right;\">\n",
       "      <th></th>\n",
       "      <th>rating</th>\n",
       "      <th>points</th>\n",
       "      <th>assists</th>\n",
       "      <th>rebounds</th>\n",
       "    </tr>\n",
       "  </thead>\n",
       "  <tbody>\n",
       "    <tr>\n",
       "      <th>a</th>\n",
       "      <td>90</td>\n",
       "      <td>25</td>\n",
       "      <td>5</td>\n",
       "      <td>11</td>\n",
       "    </tr>\n",
       "    <tr>\n",
       "      <th>c</th>\n",
       "      <td>82</td>\n",
       "      <td>14</td>\n",
       "      <td>7</td>\n",
       "      <td>8</td>\n",
       "    </tr>\n",
       "    <tr>\n",
       "      <th>d</th>\n",
       "      <td>88</td>\n",
       "      <td>16</td>\n",
       "      <td>7</td>\n",
       "      <td>10</td>\n",
       "    </tr>\n",
       "    <tr>\n",
       "      <th>g</th>\n",
       "      <td>76</td>\n",
       "      <td>12</td>\n",
       "      <td>8</td>\n",
       "      <td>6</td>\n",
       "    </tr>\n",
       "  </tbody>\n",
       "</table>\n",
       "</div>"
      ],
      "text/plain": [
       "   rating  points  assists  rebounds\n",
       "a      90      25        5        11\n",
       "c      82      14        7         8\n",
       "d      88      16        7        10\n",
       "g      76      12        8         6"
      ]
     },
     "execution_count": 18,
     "metadata": {},
     "output_type": "execute_result"
    }
   ],
   "source": [
    "# 2: Merge DataFrames Using Mergethe two DataFrames:\n",
    "\n",
    "pd.merge(df1, df2, left_index=True, right_index=True)"
   ]
  },
  {
   "cell_type": "code",
   "execution_count": 19,
   "id": "5f299749",
   "metadata": {},
   "outputs": [
    {
     "data": {
      "text/html": [
       "<div>\n",
       "<style scoped>\n",
       "    .dataframe tbody tr th:only-of-type {\n",
       "        vertical-align: middle;\n",
       "    }\n",
       "\n",
       "    .dataframe tbody tr th {\n",
       "        vertical-align: top;\n",
       "    }\n",
       "\n",
       "    .dataframe thead th {\n",
       "        text-align: right;\n",
       "    }\n",
       "</style>\n",
       "<table border=\"1\" class=\"dataframe\">\n",
       "  <thead>\n",
       "    <tr style=\"text-align: right;\">\n",
       "      <th></th>\n",
       "      <th>rating</th>\n",
       "      <th>points</th>\n",
       "      <th>assists</th>\n",
       "      <th>rebounds</th>\n",
       "    </tr>\n",
       "  </thead>\n",
       "  <tbody>\n",
       "    <tr>\n",
       "      <th>a</th>\n",
       "      <td>90.0</td>\n",
       "      <td>25.0</td>\n",
       "      <td>5.0</td>\n",
       "      <td>11.0</td>\n",
       "    </tr>\n",
       "    <tr>\n",
       "      <th>b</th>\n",
       "      <td>85.0</td>\n",
       "      <td>20.0</td>\n",
       "      <td>NaN</td>\n",
       "      <td>NaN</td>\n",
       "    </tr>\n",
       "    <tr>\n",
       "      <th>c</th>\n",
       "      <td>82.0</td>\n",
       "      <td>14.0</td>\n",
       "      <td>7.0</td>\n",
       "      <td>8.0</td>\n",
       "    </tr>\n",
       "    <tr>\n",
       "      <th>d</th>\n",
       "      <td>88.0</td>\n",
       "      <td>16.0</td>\n",
       "      <td>7.0</td>\n",
       "      <td>10.0</td>\n",
       "    </tr>\n",
       "    <tr>\n",
       "      <th>e</th>\n",
       "      <td>94.0</td>\n",
       "      <td>27.0</td>\n",
       "      <td>NaN</td>\n",
       "      <td>NaN</td>\n",
       "    </tr>\n",
       "    <tr>\n",
       "      <th>f</th>\n",
       "      <td>90.0</td>\n",
       "      <td>20.0</td>\n",
       "      <td>NaN</td>\n",
       "      <td>NaN</td>\n",
       "    </tr>\n",
       "    <tr>\n",
       "      <th>g</th>\n",
       "      <td>76.0</td>\n",
       "      <td>12.0</td>\n",
       "      <td>8.0</td>\n",
       "      <td>6.0</td>\n",
       "    </tr>\n",
       "    <tr>\n",
       "      <th>h</th>\n",
       "      <td>75.0</td>\n",
       "      <td>15.0</td>\n",
       "      <td>NaN</td>\n",
       "      <td>NaN</td>\n",
       "    </tr>\n",
       "    <tr>\n",
       "      <th>m</th>\n",
       "      <td>NaN</td>\n",
       "      <td>NaN</td>\n",
       "      <td>5.0</td>\n",
       "      <td>6.0</td>\n",
       "    </tr>\n",
       "    <tr>\n",
       "      <th>n</th>\n",
       "      <td>NaN</td>\n",
       "      <td>NaN</td>\n",
       "      <td>7.0</td>\n",
       "      <td>9.0</td>\n",
       "    </tr>\n",
       "  </tbody>\n",
       "</table>\n",
       "</div>"
      ],
      "text/plain": [
       "   rating  points  assists  rebounds\n",
       "a    90.0    25.0      5.0      11.0\n",
       "b    85.0    20.0      NaN       NaN\n",
       "c    82.0    14.0      7.0       8.0\n",
       "d    88.0    16.0      7.0      10.0\n",
       "e    94.0    27.0      NaN       NaN\n",
       "f    90.0    20.0      NaN       NaN\n",
       "g    76.0    12.0      8.0       6.0\n",
       "h    75.0    15.0      NaN       NaN\n",
       "m     NaN     NaN      5.0       6.0\n",
       "n     NaN     NaN      7.0       9.0"
      ]
     },
     "execution_count": 19,
     "metadata": {},
     "output_type": "execute_result"
    }
   ],
   "source": [
    "# 3: Merge DataFrames Using Concat\n",
    "pd.concat([df1, df2], axis=1)"
   ]
  },
  {
   "cell_type": "markdown",
   "id": "887e4aee",
   "metadata": {},
   "source": [
    "## How to Merge Pandas DataFrames on Multiple Columns\n",
    "**pd.merge(df1, df2, left_on=['col1','col2'], right_on = ['col1','col2'])**"
   ]
  },
  {
   "cell_type": "code",
   "execution_count": 21,
   "id": "65db1657",
   "metadata": {},
   "outputs": [
    {
     "name": "stdout",
     "output_type": "stream",
     "text": [
      "1st DF \n",
      "    a1  b   c\n",
      "0   0  0  11\n",
      "1   0  0   8\n",
      "2   1  1  10\n",
      "3   1  1   6\n",
      "4   2  1   6\n",
      "\n",
      "2nd DF \n",
      "    a2  b   d\n",
      "0   0  0  22\n",
      "1   1  0  24\n",
      "2   1  0  25\n",
      "3   1  1  33\n",
      "4   3  1  37\n"
     ]
    }
   ],
   "source": [
    "# 1: Merge on Multiple Columns with Different Names\n",
    "import pandas as pd\n",
    "\n",
    "#create and view first DataFrame\n",
    "df1 = pd.DataFrame({'a1': [0, 0, 1, 1, 2],\n",
    "                   'b': [0, 0, 1, 1, 1],\n",
    "                   'c': [11, 8, 10, 6, 6]})\n",
    "\n",
    "print(\"1st DF\", '\\n' , df1)\n",
    "print()\n",
    "\n",
    "#create and view second DataFrame \n",
    "df2 = pd.DataFrame({'a2': [0, 1, 1, 1, 3],\n",
    "                   'b': [0, 0, 0, 1, 1],\n",
    "                   'd': [22, 24, 25, 33, 37]})\n",
    "\n",
    "print(\"2nd DF\", '\\n' , df2)"
   ]
  },
  {
   "cell_type": "code",
   "execution_count": 22,
   "id": "4e4cca64",
   "metadata": {},
   "outputs": [
    {
     "data": {
      "text/html": [
       "<div>\n",
       "<style scoped>\n",
       "    .dataframe tbody tr th:only-of-type {\n",
       "        vertical-align: middle;\n",
       "    }\n",
       "\n",
       "    .dataframe tbody tr th {\n",
       "        vertical-align: top;\n",
       "    }\n",
       "\n",
       "    .dataframe thead th {\n",
       "        text-align: right;\n",
       "    }\n",
       "</style>\n",
       "<table border=\"1\" class=\"dataframe\">\n",
       "  <thead>\n",
       "    <tr style=\"text-align: right;\">\n",
       "      <th></th>\n",
       "      <th>a1</th>\n",
       "      <th>b</th>\n",
       "      <th>c</th>\n",
       "      <th>a2</th>\n",
       "      <th>d</th>\n",
       "    </tr>\n",
       "  </thead>\n",
       "  <tbody>\n",
       "    <tr>\n",
       "      <th>0</th>\n",
       "      <td>0</td>\n",
       "      <td>0</td>\n",
       "      <td>11</td>\n",
       "      <td>0.0</td>\n",
       "      <td>22.0</td>\n",
       "    </tr>\n",
       "    <tr>\n",
       "      <th>1</th>\n",
       "      <td>0</td>\n",
       "      <td>0</td>\n",
       "      <td>8</td>\n",
       "      <td>0.0</td>\n",
       "      <td>22.0</td>\n",
       "    </tr>\n",
       "    <tr>\n",
       "      <th>2</th>\n",
       "      <td>1</td>\n",
       "      <td>1</td>\n",
       "      <td>10</td>\n",
       "      <td>1.0</td>\n",
       "      <td>33.0</td>\n",
       "    </tr>\n",
       "    <tr>\n",
       "      <th>3</th>\n",
       "      <td>1</td>\n",
       "      <td>1</td>\n",
       "      <td>6</td>\n",
       "      <td>1.0</td>\n",
       "      <td>33.0</td>\n",
       "    </tr>\n",
       "    <tr>\n",
       "      <th>4</th>\n",
       "      <td>2</td>\n",
       "      <td>1</td>\n",
       "      <td>6</td>\n",
       "      <td>NaN</td>\n",
       "      <td>NaN</td>\n",
       "    </tr>\n",
       "  </tbody>\n",
       "</table>\n",
       "</div>"
      ],
      "text/plain": [
       "   a1  b   c   a2     d\n",
       "0   0  0  11  0.0  22.0\n",
       "1   0  0   8  0.0  22.0\n",
       "2   1  1  10  1.0  33.0\n",
       "3   1  1   6  1.0  33.0\n",
       "4   2  1   6  NaN   NaN"
      ]
     },
     "execution_count": 22,
     "metadata": {},
     "output_type": "execute_result"
    }
   ],
   "source": [
    "#  left join using multiple columns from both DataFrames:\n",
    "\n",
    "pd.merge(df1, df2, how='left', left_on=['a1', 'b'], right_on = ['a2','b'])"
   ]
  },
  {
   "cell_type": "code",
   "execution_count": 23,
   "id": "b5ff51c3",
   "metadata": {},
   "outputs": [
    {
     "data": {
      "text/html": [
       "<div>\n",
       "<style scoped>\n",
       "    .dataframe tbody tr th:only-of-type {\n",
       "        vertical-align: middle;\n",
       "    }\n",
       "\n",
       "    .dataframe tbody tr th {\n",
       "        vertical-align: top;\n",
       "    }\n",
       "\n",
       "    .dataframe thead th {\n",
       "        text-align: right;\n",
       "    }\n",
       "</style>\n",
       "<table border=\"1\" class=\"dataframe\">\n",
       "  <thead>\n",
       "    <tr style=\"text-align: right;\">\n",
       "      <th></th>\n",
       "      <th>a</th>\n",
       "      <th>b</th>\n",
       "      <th>c</th>\n",
       "      <th>d</th>\n",
       "    </tr>\n",
       "  </thead>\n",
       "  <tbody>\n",
       "    <tr>\n",
       "      <th>0</th>\n",
       "      <td>0</td>\n",
       "      <td>0</td>\n",
       "      <td>11</td>\n",
       "      <td>22.0</td>\n",
       "    </tr>\n",
       "    <tr>\n",
       "      <th>1</th>\n",
       "      <td>0</td>\n",
       "      <td>0</td>\n",
       "      <td>8</td>\n",
       "      <td>22.0</td>\n",
       "    </tr>\n",
       "    <tr>\n",
       "      <th>2</th>\n",
       "      <td>1</td>\n",
       "      <td>1</td>\n",
       "      <td>10</td>\n",
       "      <td>33.0</td>\n",
       "    </tr>\n",
       "    <tr>\n",
       "      <th>3</th>\n",
       "      <td>1</td>\n",
       "      <td>1</td>\n",
       "      <td>6</td>\n",
       "      <td>33.0</td>\n",
       "    </tr>\n",
       "    <tr>\n",
       "      <th>4</th>\n",
       "      <td>2</td>\n",
       "      <td>1</td>\n",
       "      <td>6</td>\n",
       "      <td>NaN</td>\n",
       "    </tr>\n",
       "  </tbody>\n",
       "</table>\n",
       "</div>"
      ],
      "text/plain": [
       "   a  b   c     d\n",
       "0  0  0  11  22.0\n",
       "1  0  0   8  22.0\n",
       "2  1  1  10  33.0\n",
       "3  1  1   6  33.0\n",
       "4  2  1   6   NaN"
      ]
     },
     "execution_count": 23,
     "metadata": {},
     "output_type": "execute_result"
    }
   ],
   "source": [
    "# 2: Merge on Multiple Columns with Same Names\n",
    "import pandas as pd\n",
    "\n",
    "#create DataFrames\n",
    "df1 = pd.DataFrame({'a': [0, 0, 1, 1, 2],\n",
    "                   'b': [0, 0, 1, 1, 1],\n",
    "                   'c': [11, 8, 10, 6, 6]})\n",
    "\n",
    "df2 = pd.DataFrame({'a': [0, 1, 1, 1, 3],\n",
    "                   'b': [0, 0, 0, 1, 1],\n",
    "                   'd': [22, 24, 25, 33, 37]})\n",
    "\n",
    "pd.merge(df1, df2, how='left', on=['a', 'b'])"
   ]
  },
  {
   "cell_type": "markdown",
   "id": "c7d720ff",
   "metadata": {},
   "source": [
    "### How to Perform a VLOOKUP in Pandas\n",
    "**pd.merge(df1,\n",
    "<br>         df2,\n",
    "<br>         on ='column_name',\n",
    "<br>         how ='left')**"
   ]
  },
  {
   "cell_type": "code",
   "execution_count": 24,
   "id": "baff5dc4",
   "metadata": {},
   "outputs": [
    {
     "data": {
      "text/html": [
       "<div>\n",
       "<style scoped>\n",
       "    .dataframe tbody tr th:only-of-type {\n",
       "        vertical-align: middle;\n",
       "    }\n",
       "\n",
       "    .dataframe tbody tr th {\n",
       "        vertical-align: top;\n",
       "    }\n",
       "\n",
       "    .dataframe thead th {\n",
       "        text-align: right;\n",
       "    }\n",
       "</style>\n",
       "<table border=\"1\" class=\"dataframe\">\n",
       "  <thead>\n",
       "    <tr style=\"text-align: right;\">\n",
       "      <th></th>\n",
       "      <th>player</th>\n",
       "      <th>team</th>\n",
       "      <th>points</th>\n",
       "    </tr>\n",
       "  </thead>\n",
       "  <tbody>\n",
       "    <tr>\n",
       "      <th>0</th>\n",
       "      <td>A</td>\n",
       "      <td>Mavs</td>\n",
       "      <td>22</td>\n",
       "    </tr>\n",
       "    <tr>\n",
       "      <th>1</th>\n",
       "      <td>B</td>\n",
       "      <td>Mavs</td>\n",
       "      <td>29</td>\n",
       "    </tr>\n",
       "    <tr>\n",
       "      <th>2</th>\n",
       "      <td>C</td>\n",
       "      <td>Mavs</td>\n",
       "      <td>34</td>\n",
       "    </tr>\n",
       "    <tr>\n",
       "      <th>3</th>\n",
       "      <td>D</td>\n",
       "      <td>Mavs</td>\n",
       "      <td>20</td>\n",
       "    </tr>\n",
       "    <tr>\n",
       "      <th>4</th>\n",
       "      <td>E</td>\n",
       "      <td>Nets</td>\n",
       "      <td>15</td>\n",
       "    </tr>\n",
       "    <tr>\n",
       "      <th>5</th>\n",
       "      <td>F</td>\n",
       "      <td>Nets</td>\n",
       "      <td>19</td>\n",
       "    </tr>\n",
       "  </tbody>\n",
       "</table>\n",
       "</div>"
      ],
      "text/plain": [
       "  player  team  points\n",
       "0      A  Mavs      22\n",
       "1      B  Mavs      29\n",
       "2      C  Mavs      34\n",
       "3      D  Mavs      20\n",
       "4      E  Nets      15\n",
       "5      F  Nets      19"
      ]
     },
     "execution_count": 24,
     "metadata": {},
     "output_type": "execute_result"
    }
   ],
   "source": [
    "# 1: Create Two DataFrames\n",
    "\n",
    "import pandas as pd\n",
    "\n",
    "#define first DataFrame\n",
    "df1 = pd.DataFrame({'player': ['A', 'B', 'C', 'D', 'E', 'F'],\n",
    "                    'team': ['Mavs', 'Mavs', 'Mavs', 'Mavs', 'Nets', 'Nets']})\n",
    "\n",
    "#define second DataFrame\n",
    "df2 = pd.DataFrame({'player': ['A', 'B', 'C', 'D', 'E', 'F'],\n",
    "                    'points': [22, 29, 34, 20, 15, 19]})\n",
    "\n",
    "#perform VLOOKUP\n",
    "joined_df = pd.merge(df1,\n",
    "                     df2,\n",
    "                     on ='player',\n",
    "                     how ='left')\n",
    "\n",
    "#view results\n",
    "joined_df"
   ]
  },
  {
   "cell_type": "markdown",
   "id": "2d6427a4",
   "metadata": {},
   "source": [
    "### How to Split a Pandas DataFrame into Multiple DataFrames\n",
    "Split DataFrame into two DataFrames at row 6\n",
    "<br>**df1 = df.iloc[:6]\n",
    "<br>df2 = df.iloc[6:]**"
   ]
  },
  {
   "cell_type": "code",
   "execution_count": 25,
   "id": "e1e8f94d",
   "metadata": {},
   "outputs": [
    {
     "name": "stdout",
     "output_type": "stream",
     "text": [
      "1. Split [:3] \n",
      "    x  y\n",
      "0  1  5\n",
      "1  1  7\n",
      "2  1  7\n",
      "\n",
      "2. Split [3:6] \n",
      "    x   y\n",
      "3  3   9\n",
      "4  3  12\n",
      "5  4   9\n",
      "\n",
      "Split [6:] \n",
      "     x   y\n",
      "6   5   9\n",
      "7   5   4\n",
      "8   5   3\n",
      "9   6   3\n",
      "10  7   1\n",
      "11  9  10\n"
     ]
    }
   ],
   "source": [
    "import pandas as pd\n",
    "\n",
    "#create DataFrame\n",
    "df = pd.DataFrame({'x': [1, 1, 1, 3, 3, 4, 5, 5, 5, 6, 7, 9],\n",
    "                   'y': [5, 7, 7, 9, 12, 9, 9, 4, 3, 3, 1, 10]})\n",
    "\n",
    "#split into three DataFrames\n",
    "df1 = df.iloc[:3]\n",
    "df2 = df.iloc[3:6]\n",
    "df3 = df.iloc[6:]\n",
    "\n",
    "print(\"1. Split [:3]\" , '\\n', df1)\n",
    "print()\n",
    "\n",
    "print(\"2. Split [3:6]\" , '\\n', df2)\n",
    "print()\n",
    "\n",
    "print(\"Split [6:]\" , '\\n', df3)"
   ]
  },
  {
   "cell_type": "markdown",
   "id": "a7f794dd",
   "metadata": {},
   "source": [
    "### How to Split DataFrame By Column Value\n",
    "**df[df['column_name'] >= x]**\n",
    "<br>where, x is any numeric value"
   ]
  },
  {
   "cell_type": "code",
   "execution_count": 26,
   "id": "a1b21cfd",
   "metadata": {},
   "outputs": [
    {
     "name": "stdout",
     "output_type": "stream",
     "text": [
      "'points' is >= 20 \n",
      "   team  points  rebounds\n",
      "0    A      22        11\n",
      "1    B      24         8\n",
      "5    F      29         5\n",
      "6    G      31         9\n",
      "\n",
      "'points' is < 20 \n",
      "   team  points  rebounds\n",
      "2    C      19        10\n",
      "3    D      18         6\n",
      "4    E      14         6\n",
      "7    H      16        12\n"
     ]
    }
   ],
   "source": [
    "# Split Pandas DataFrame by Column Value\n",
    "\n",
    "import pandas as pd\n",
    "\n",
    "#create DataFrame\n",
    "df = pd.DataFrame({'team': ['A', 'B', 'C', 'D', 'E', 'F', 'G', 'H'],\n",
    "                   'points': [22, 24, 19, 18, 14, 29, 31, 16],\n",
    "                   'rebounds': [11, 8, 10, 6, 6, 5, 9, 12]})\n",
    "\n",
    "#define value to split on\n",
    "x = 20\n",
    "\n",
    "#define df1 as DataFrame where 'points' is >= 20\n",
    "df1 = df[df['points'] >= x]\n",
    "\n",
    "#define df2 as DataFrame where 'points' is < 20\n",
    "df2 = df[df['points'] < x]\n",
    "\n",
    "print(\"'points' is >= 20\", '\\n', df1)\n",
    "print()\n",
    "\n",
    "print(\"'points' is < 20\", '\\n', df2)"
   ]
  },
  {
   "cell_type": "code",
   "execution_count": 27,
   "id": "0ae39220",
   "metadata": {},
   "outputs": [
    {
     "name": "stdout",
     "output_type": "stream",
     "text": [
      "'points' is >= 20 \n",
      "   team  points  rebounds\n",
      "0    A      22        11\n",
      "1    B      24         8\n",
      "2    F      29         5\n",
      "3    G      31         9\n",
      "\n",
      "'points' is < 20 \n",
      "   team  points  rebounds\n",
      "0    C      19        10\n",
      "1    D      18         6\n",
      "2    E      14         6\n",
      "3    H      16        12\n"
     ]
    }
   ],
   "source": [
    "# reset_index() function to reset the index value\n",
    "\n",
    "#define df1 as DataFrame where 'points' is >= 20\n",
    "df1 = df[df['points'] >= x].reset_index(drop=True)\n",
    "\n",
    "#define df2 as DataFrame where 'points' is < 20\n",
    "df2 = df[df['points'] < x].reset_index(drop=True)\n",
    "\n",
    "print(\"'points' is >= 20\", '\\n', df1)\n",
    "print()\n",
    "\n",
    "print(\"'points' is < 20\", '\\n', df2)"
   ]
  },
  {
   "cell_type": "markdown",
   "id": "5c95b4bc",
   "metadata": {},
   "source": [
    "### How to Change the Order of Columns in Pandas DataFrame\n",
    "**df[['column2', 'column3', 'column1']]**"
   ]
  },
  {
   "cell_type": "code",
   "execution_count": 28,
   "id": "ddc8a0a3",
   "metadata": {},
   "outputs": [
    {
     "name": "stdout",
     "output_type": "stream",
     "text": [
      "Normal DF \n",
      "    points  assists  rebounds\n",
      "0      25        5        11\n",
      "1      12        7         8\n",
      "2      15        7        10\n",
      "3      14        9         6\n",
      "4      19       12         6\n",
      "5      23        9         5\n",
      "6      25        9         9\n",
      "7      29        4        12\n",
      "\n"
     ]
    },
    {
     "data": {
      "text/html": [
       "<div>\n",
       "<style scoped>\n",
       "    .dataframe tbody tr th:only-of-type {\n",
       "        vertical-align: middle;\n",
       "    }\n",
       "\n",
       "    .dataframe tbody tr th {\n",
       "        vertical-align: top;\n",
       "    }\n",
       "\n",
       "    .dataframe thead th {\n",
       "        text-align: right;\n",
       "    }\n",
       "</style>\n",
       "<table border=\"1\" class=\"dataframe\">\n",
       "  <thead>\n",
       "    <tr style=\"text-align: right;\">\n",
       "      <th></th>\n",
       "      <th>rebounds</th>\n",
       "      <th>assists</th>\n",
       "      <th>points</th>\n",
       "    </tr>\n",
       "  </thead>\n",
       "  <tbody>\n",
       "    <tr>\n",
       "      <th>0</th>\n",
       "      <td>11</td>\n",
       "      <td>5</td>\n",
       "      <td>25</td>\n",
       "    </tr>\n",
       "    <tr>\n",
       "      <th>1</th>\n",
       "      <td>8</td>\n",
       "      <td>7</td>\n",
       "      <td>12</td>\n",
       "    </tr>\n",
       "    <tr>\n",
       "      <th>2</th>\n",
       "      <td>10</td>\n",
       "      <td>7</td>\n",
       "      <td>15</td>\n",
       "    </tr>\n",
       "    <tr>\n",
       "      <th>3</th>\n",
       "      <td>6</td>\n",
       "      <td>9</td>\n",
       "      <td>14</td>\n",
       "    </tr>\n",
       "    <tr>\n",
       "      <th>4</th>\n",
       "      <td>6</td>\n",
       "      <td>12</td>\n",
       "      <td>19</td>\n",
       "    </tr>\n",
       "    <tr>\n",
       "      <th>5</th>\n",
       "      <td>5</td>\n",
       "      <td>9</td>\n",
       "      <td>23</td>\n",
       "    </tr>\n",
       "    <tr>\n",
       "      <th>6</th>\n",
       "      <td>9</td>\n",
       "      <td>9</td>\n",
       "      <td>25</td>\n",
       "    </tr>\n",
       "    <tr>\n",
       "      <th>7</th>\n",
       "      <td>12</td>\n",
       "      <td>4</td>\n",
       "      <td>29</td>\n",
       "    </tr>\n",
       "  </tbody>\n",
       "</table>\n",
       "</div>"
      ],
      "text/plain": [
       "   rebounds  assists  points\n",
       "0        11        5      25\n",
       "1         8        7      12\n",
       "2        10        7      15\n",
       "3         6        9      14\n",
       "4         6       12      19\n",
       "5         5        9      23\n",
       "6         9        9      25\n",
       "7        12        4      29"
      ]
     },
     "execution_count": 28,
     "metadata": {},
     "output_type": "execute_result"
    }
   ],
   "source": [
    "import pandas as pd\n",
    "\n",
    "#create new DataFrame\n",
    "df = pd.DataFrame({'points': [25, 12, 15, 14, 19, 23, 25, 29],\n",
    "                   'assists': [5, 7, 7, 9, 12, 9, 9, 4],\n",
    "                   'rebounds': [11, 8, 10, 6, 6, 5, 9, 12]})\n",
    "\n",
    "#display DataFrame\n",
    "print('Normal DF' ,'\\n',df)\n",
    "print()\n",
    "\n",
    "# 1: Change the Order of Columns by Name\n",
    "\n",
    "#change order of columns by name\n",
    "df[['rebounds', 'assists', 'points']]"
   ]
  },
  {
   "cell_type": "code",
   "execution_count": 29,
   "id": "937886ee",
   "metadata": {},
   "outputs": [
    {
     "data": {
      "text/html": [
       "<div>\n",
       "<style scoped>\n",
       "    .dataframe tbody tr th:only-of-type {\n",
       "        vertical-align: middle;\n",
       "    }\n",
       "\n",
       "    .dataframe tbody tr th {\n",
       "        vertical-align: top;\n",
       "    }\n",
       "\n",
       "    .dataframe thead th {\n",
       "        text-align: right;\n",
       "    }\n",
       "</style>\n",
       "<table border=\"1\" class=\"dataframe\">\n",
       "  <thead>\n",
       "    <tr style=\"text-align: right;\">\n",
       "      <th></th>\n",
       "      <th>steals</th>\n",
       "      <th>points</th>\n",
       "      <th>assists</th>\n",
       "      <th>rebounds</th>\n",
       "    </tr>\n",
       "  </thead>\n",
       "  <tbody>\n",
       "    <tr>\n",
       "      <th>0</th>\n",
       "      <td>2</td>\n",
       "      <td>25</td>\n",
       "      <td>5</td>\n",
       "      <td>11</td>\n",
       "    </tr>\n",
       "    <tr>\n",
       "      <th>1</th>\n",
       "      <td>3</td>\n",
       "      <td>12</td>\n",
       "      <td>7</td>\n",
       "      <td>8</td>\n",
       "    </tr>\n",
       "    <tr>\n",
       "      <th>2</th>\n",
       "      <td>3</td>\n",
       "      <td>15</td>\n",
       "      <td>7</td>\n",
       "      <td>10</td>\n",
       "    </tr>\n",
       "    <tr>\n",
       "      <th>3</th>\n",
       "      <td>4</td>\n",
       "      <td>14</td>\n",
       "      <td>9</td>\n",
       "      <td>6</td>\n",
       "    </tr>\n",
       "    <tr>\n",
       "      <th>4</th>\n",
       "      <td>3</td>\n",
       "      <td>19</td>\n",
       "      <td>12</td>\n",
       "      <td>6</td>\n",
       "    </tr>\n",
       "    <tr>\n",
       "      <th>5</th>\n",
       "      <td>2</td>\n",
       "      <td>23</td>\n",
       "      <td>9</td>\n",
       "      <td>5</td>\n",
       "    </tr>\n",
       "    <tr>\n",
       "      <th>6</th>\n",
       "      <td>1</td>\n",
       "      <td>25</td>\n",
       "      <td>9</td>\n",
       "      <td>9</td>\n",
       "    </tr>\n",
       "    <tr>\n",
       "      <th>7</th>\n",
       "      <td>2</td>\n",
       "      <td>29</td>\n",
       "      <td>4</td>\n",
       "      <td>12</td>\n",
       "    </tr>\n",
       "  </tbody>\n",
       "</table>\n",
       "</div>"
      ],
      "text/plain": [
       "   steals  points  assists  rebounds\n",
       "0       2      25        5        11\n",
       "1       3      12        7         8\n",
       "2       3      15        7        10\n",
       "3       4      14        9         6\n",
       "4       3      19       12         6\n",
       "5       2      23        9         5\n",
       "6       1      25        9         9\n",
       "7       2      29        4        12"
      ]
     },
     "execution_count": 29,
     "metadata": {},
     "output_type": "execute_result"
    }
   ],
   "source": [
    "# 2: Change the Order by Adding New First Column\n",
    "\n",
    "#define new column to add\n",
    "steals = [2, 3, 3, 4, 3, 2, 1, 2]\n",
    "\n",
    "#insert new column in first position\n",
    "df.insert(0, 'steals', steals)\n",
    "\n",
    "#display dataFrame\n",
    "df"
   ]
  },
  {
   "cell_type": "code",
   "execution_count": 31,
   "id": "162d6143",
   "metadata": {},
   "outputs": [
    {
     "data": {
      "text/html": [
       "<div>\n",
       "<style scoped>\n",
       "    .dataframe tbody tr th:only-of-type {\n",
       "        vertical-align: middle;\n",
       "    }\n",
       "\n",
       "    .dataframe tbody tr th {\n",
       "        vertical-align: top;\n",
       "    }\n",
       "\n",
       "    .dataframe thead th {\n",
       "        text-align: right;\n",
       "    }\n",
       "</style>\n",
       "<table border=\"1\" class=\"dataframe\">\n",
       "  <thead>\n",
       "    <tr style=\"text-align: right;\">\n",
       "      <th></th>\n",
       "      <th>steals</th>\n",
       "      <th>points</th>\n",
       "      <th>assists</th>\n",
       "      <th>rebounds</th>\n",
       "      <th>steals1</th>\n",
       "    </tr>\n",
       "  </thead>\n",
       "  <tbody>\n",
       "    <tr>\n",
       "      <th>0</th>\n",
       "      <td>2</td>\n",
       "      <td>25</td>\n",
       "      <td>5</td>\n",
       "      <td>11</td>\n",
       "      <td>2</td>\n",
       "    </tr>\n",
       "    <tr>\n",
       "      <th>1</th>\n",
       "      <td>3</td>\n",
       "      <td>12</td>\n",
       "      <td>7</td>\n",
       "      <td>8</td>\n",
       "      <td>3</td>\n",
       "    </tr>\n",
       "    <tr>\n",
       "      <th>2</th>\n",
       "      <td>3</td>\n",
       "      <td>15</td>\n",
       "      <td>7</td>\n",
       "      <td>10</td>\n",
       "      <td>3</td>\n",
       "    </tr>\n",
       "    <tr>\n",
       "      <th>3</th>\n",
       "      <td>4</td>\n",
       "      <td>14</td>\n",
       "      <td>9</td>\n",
       "      <td>6</td>\n",
       "      <td>4</td>\n",
       "    </tr>\n",
       "    <tr>\n",
       "      <th>4</th>\n",
       "      <td>3</td>\n",
       "      <td>19</td>\n",
       "      <td>12</td>\n",
       "      <td>6</td>\n",
       "      <td>3</td>\n",
       "    </tr>\n",
       "    <tr>\n",
       "      <th>5</th>\n",
       "      <td>2</td>\n",
       "      <td>23</td>\n",
       "      <td>9</td>\n",
       "      <td>5</td>\n",
       "      <td>2</td>\n",
       "    </tr>\n",
       "    <tr>\n",
       "      <th>6</th>\n",
       "      <td>1</td>\n",
       "      <td>25</td>\n",
       "      <td>9</td>\n",
       "      <td>9</td>\n",
       "      <td>1</td>\n",
       "    </tr>\n",
       "    <tr>\n",
       "      <th>7</th>\n",
       "      <td>2</td>\n",
       "      <td>29</td>\n",
       "      <td>4</td>\n",
       "      <td>12</td>\n",
       "      <td>2</td>\n",
       "    </tr>\n",
       "  </tbody>\n",
       "</table>\n",
       "</div>"
      ],
      "text/plain": [
       "   steals  points  assists  rebounds  steals1\n",
       "0       2      25        5        11        2\n",
       "1       3      12        7         8        3\n",
       "2       3      15        7        10        3\n",
       "3       4      14        9         6        4\n",
       "4       3      19       12         6        3\n",
       "5       2      23        9         5        2\n",
       "6       1      25        9         9        1\n",
       "7       2      29        4        12        2"
      ]
     },
     "execution_count": 31,
     "metadata": {},
     "output_type": "execute_result"
    }
   ],
   "source": [
    "# 3: Change the Order by Adding New Last Column\n",
    "\n",
    "#define new column to add\n",
    "steals1 = [2, 3, 3, 4, 3, 2, 1, 2]\n",
    "\n",
    "#insert new column in last position\n",
    "df.insert(len(df.columns), 'steals1', steals1)\n",
    "\n",
    "#display dataFrame\n",
    "df"
   ]
  },
  {
   "cell_type": "markdown",
   "id": "5393d643",
   "metadata": {},
   "source": [
    "### How to Rename Index in Pandas DataFrame\n",
    "**df.index.rename('new_index_name', inplace=True)**\n",
    "1. Rename Index in Pandas DataFrame"
   ]
  },
  {
   "cell_type": "code",
   "execution_count": 2,
   "id": "186f7316",
   "metadata": {},
   "outputs": [
    {
     "name": "stdout",
     "output_type": "stream",
     "text": [
      "Normal DF \n",
      "    points  assists  rebounds\n",
      "0      25        5        11\n",
      "1      12        7         8\n",
      "2      15        7        10\n",
      "3      14        9         6\n",
      "4      19       12         6\n",
      "5      23        9         5\n",
      "6      25        9         9\n",
      "7      29        4        12\n",
      "\n",
      "DF without Index \n",
      " None\n",
      "\n",
      "DF with Index \n",
      "            points  assists  rebounds\n",
      "new_index                           \n",
      "0              25        5        11\n",
      "1              12        7         8\n",
      "2              15        7        10\n",
      "3              14        9         6\n",
      "4              19       12         6\n",
      "5              23        9         5\n",
      "6              25        9         9\n",
      "7              29        4        12\n",
      "\n",
      "Note that inplace=True tells pandas to retain all of the original DataFrame properties.\n"
     ]
    }
   ],
   "source": [
    "import pandas as pd\n",
    "\n",
    "#create DataFrame\n",
    "df = pd.DataFrame({'points': [25, 12, 15, 14, 19, 23, 25, 29],\n",
    "                   'assists': [5, 7, 7, 9, 12, 9, 9, 4],\n",
    "                   'rebounds': [11, 8, 10, 6, 6, 5, 9, 12]})\n",
    "\n",
    "#view DataFrame\n",
    "print(\"Normal DF\", '\\n', df)\n",
    "print()\n",
    "\n",
    "# Currently the DataFrame has no index name:\n",
    "#display index name\n",
    "print(\"DF without Index\", '\\n', df.index.name)\n",
    "print()\n",
    "\n",
    "#rename index\n",
    "df.index.rename('new_index', inplace=True)\n",
    "print(\"DF with Index\" , '\\n', df)\n",
    "print()\n",
    "\n",
    "print(\"Note that inplace=True tells pandas to retain all of the original DataFrame properties.\")"
   ]
  },
  {
   "cell_type": "markdown",
   "id": "bf2a5718",
   "metadata": {},
   "source": [
    "### How to Change One or More Index Values in Pandas\n",
    "1. Change a single index value in a pandas DataFrame : **df.rename(index={'Old_Value':'New_Value'}, inplace=True)**\n",
    "2. Change several index values at once : **df.rename(index={'Old1':'New1', 'Old2':'New2'}, inplace=True)**"
   ]
  },
  {
   "cell_type": "code",
   "execution_count": 4,
   "id": "fb750e97",
   "metadata": {},
   "outputs": [
    {
     "name": "stdout",
     "output_type": "stream",
     "text": [
      "Normal DF \n",
      "       points  assists  rebounds\n",
      "team                           \n",
      "A         25        5        11\n",
      "B         12        7         8\n",
      "C         15        7        10\n",
      "D         14        9         6\n",
      "E         19       12         6\n",
      "F         23        9         5\n",
      "G         25        9         9\n",
      "H         29        4        12\n",
      "\n",
      "Replace A as P \n",
      "       points  assists  rebounds\n",
      "team                           \n",
      "P         25        5        11\n",
      "B         12        7         8\n",
      "C         15        7        10\n",
      "D         14        9         6\n",
      "E         19       12         6\n",
      "F         23        9         5\n",
      "G         25        9         9\n",
      "H         29        4        12\n"
     ]
    }
   ],
   "source": [
    "# 1: Change One Index Value in Pandas DataFrame\n",
    "import pandas as pd\n",
    "\n",
    "#create DataFrame\n",
    "df = pd.DataFrame({'team': ['A', 'B', 'C', 'D', 'E', 'F', 'G', 'H'],\n",
    "                   'points': [25, 12, 15, 14, 19, 23, 25, 29],\n",
    "                   'assists': [5, 7, 7, 9, 12, 9, 9, 4],\n",
    "                   'rebounds': [11, 8, 10, 6, 6, 5, 9, 12]})\n",
    "\n",
    "#make 'team' column the index column\n",
    "df.set_index('team', inplace=True)\n",
    "\n",
    "#view DataFrame\n",
    "print(\"Normal DF\", '\\n', df)\n",
    "print()\n",
    "# replace the ‘A’ value in the index column to be ‘P’ instead:\n",
    "\n",
    "#replace 'A' with 'P' in index\n",
    "df.rename(index={'A':'P'}, inplace=True)\n",
    "\n",
    "#view updated DataFrame\n",
    "print(\"Replace A as P\", '\\n' , df)"
   ]
  },
  {
   "cell_type": "code",
   "execution_count": 5,
   "id": "4ea9e7fb",
   "metadata": {},
   "outputs": [
    {
     "data": {
      "text/html": [
       "<div>\n",
       "<style scoped>\n",
       "    .dataframe tbody tr th:only-of-type {\n",
       "        vertical-align: middle;\n",
       "    }\n",
       "\n",
       "    .dataframe tbody tr th {\n",
       "        vertical-align: top;\n",
       "    }\n",
       "\n",
       "    .dataframe thead th {\n",
       "        text-align: right;\n",
       "    }\n",
       "</style>\n",
       "<table border=\"1\" class=\"dataframe\">\n",
       "  <thead>\n",
       "    <tr style=\"text-align: right;\">\n",
       "      <th></th>\n",
       "      <th>points</th>\n",
       "      <th>assists</th>\n",
       "      <th>rebounds</th>\n",
       "    </tr>\n",
       "    <tr>\n",
       "      <th>team</th>\n",
       "      <th></th>\n",
       "      <th></th>\n",
       "      <th></th>\n",
       "    </tr>\n",
       "  </thead>\n",
       "  <tbody>\n",
       "    <tr>\n",
       "      <th>P</th>\n",
       "      <td>25</td>\n",
       "      <td>5</td>\n",
       "      <td>11</td>\n",
       "    </tr>\n",
       "    <tr>\n",
       "      <th>Q</th>\n",
       "      <td>12</td>\n",
       "      <td>7</td>\n",
       "      <td>8</td>\n",
       "    </tr>\n",
       "    <tr>\n",
       "      <th>C</th>\n",
       "      <td>15</td>\n",
       "      <td>7</td>\n",
       "      <td>10</td>\n",
       "    </tr>\n",
       "    <tr>\n",
       "      <th>D</th>\n",
       "      <td>14</td>\n",
       "      <td>9</td>\n",
       "      <td>6</td>\n",
       "    </tr>\n",
       "    <tr>\n",
       "      <th>E</th>\n",
       "      <td>19</td>\n",
       "      <td>12</td>\n",
       "      <td>6</td>\n",
       "    </tr>\n",
       "    <tr>\n",
       "      <th>F</th>\n",
       "      <td>23</td>\n",
       "      <td>9</td>\n",
       "      <td>5</td>\n",
       "    </tr>\n",
       "    <tr>\n",
       "      <th>G</th>\n",
       "      <td>25</td>\n",
       "      <td>9</td>\n",
       "      <td>9</td>\n",
       "    </tr>\n",
       "    <tr>\n",
       "      <th>H</th>\n",
       "      <td>29</td>\n",
       "      <td>4</td>\n",
       "      <td>12</td>\n",
       "    </tr>\n",
       "  </tbody>\n",
       "</table>\n",
       "</div>"
      ],
      "text/plain": [
       "      points  assists  rebounds\n",
       "team                           \n",
       "P         25        5        11\n",
       "Q         12        7         8\n",
       "C         15        7        10\n",
       "D         14        9         6\n",
       "E         19       12         6\n",
       "F         23        9         5\n",
       "G         25        9         9\n",
       "H         29        4        12"
      ]
     },
     "execution_count": 5,
     "metadata": {},
     "output_type": "execute_result"
    }
   ],
   "source": [
    "# 2: Change Multiple Index Values in Pandas DataFrame\n",
    "#replace 'A' with 'P' and replace 'B' with 'Q' in index\n",
    "df.rename(index={'A':'P', 'B':'Q'}, inplace=True)\n",
    "\n",
    "#view updated DataFrame\n",
    "df"
   ]
  },
  {
   "cell_type": "markdown",
   "id": "b8cfd59d",
   "metadata": {},
   "source": [
    "### How to Shift a Column in Pandas\n",
    "1. shift values down by 1 : **df['column1'] = df['column1'].shift(1)**\n",
    "2. shift values up by 1 : **df['column1'] = df['column1'].shift(-1)**"
   ]
  },
  {
   "cell_type": "code",
   "execution_count": 6,
   "id": "7f3718cf",
   "metadata": {},
   "outputs": [
    {
     "name": "stdout",
     "output_type": "stream",
     "text": [
      "Normal DF -: \n",
      "   product  sales\n",
      "0       A      4\n",
      "1       B      7\n",
      "2       C      8\n",
      "3       D     12\n",
      "4       E     15\n",
      "5       F     19\n",
      "\n",
      "shift all 'product' values down by 1 -: \n",
      "   product  sales\n",
      "0     NaN      4\n",
      "1       A      7\n",
      "2       B      8\n",
      "3       C     12\n",
      "4       D     15\n",
      "5       E     19\n"
     ]
    }
   ],
   "source": [
    "#create DataFrame\n",
    "df = pd.DataFrame({'product': ['A', 'B', 'C', 'D', 'E', 'F'],\n",
    "                   'sales': [4, 7, 8, 12, 15, 19]})\n",
    "\n",
    "#view DataFrame\n",
    "print(\"Normal DF -:\" , '\\n' , df)\n",
    "print()\n",
    "# 1: Shift One Column Up or Down\n",
    "\n",
    "#shift all 'product' values down by 1\n",
    "df['product'] = df['product'].shift(1)\n",
    "print(\"shift all 'product' values down by 1 -:\" , '\\n' , df)"
   ]
  },
  {
   "cell_type": "code",
   "execution_count": 7,
   "id": "efbecfc0",
   "metadata": {},
   "outputs": [
    {
     "name": "stdout",
     "output_type": "stream",
     "text": [
      "Shift all 'product' and 'sales' values up by 2 \n",
      "   product  sales\n",
      "0       B    8.0\n",
      "1       C   12.0\n",
      "2       D   15.0\n",
      "3       E   19.0\n",
      "4     NaN    NaN\n",
      "5     NaN    NaN\n"
     ]
    }
   ],
   "source": [
    "# 2: Shift Multiple Columns Up or Down\n",
    "\n",
    "#shift all 'product' and 'sales' values up by 2\n",
    "df[['product', 'sales']] = df[['product', 'sales']].shift(-2)\n",
    "\n",
    "#view updated DataFrame\n",
    "print(\"Shift all 'product' and 'sales' values up by 2\", '\\n', df)"
   ]
  },
  {
   "cell_type": "markdown",
   "id": "eaf2ff64",
   "metadata": {},
   "source": [
    "## How to Add a Column to a Pandas DataFrame\n",
    "1. By Using *assign()* function : **df.assign(col_name=[value1, value2, value3, ...])**\n",
    "2. By Using *inset()* function : **df.insert(position, 'col_name', [value1, value2, value3, ...])**"
   ]
  },
  {
   "cell_type": "code",
   "execution_count": 9,
   "id": "29a90f87",
   "metadata": {},
   "outputs": [
    {
     "name": "stdout",
     "output_type": "stream",
     "text": [
      "Normal DF -: \n",
      "    points  assists  rebounds\n",
      "0      25        5        11\n",
      "1      12        7         8\n",
      "2      15        7        10\n",
      "3      14        9         6\n",
      "4      19       12         6\n",
      "5      23        9         5\n",
      "\n",
      "1. Add 'steals' column to end of DF -: \n",
      "    points  assists  rebounds  steals\n",
      "0      25        5        11       2\n",
      "1      12        7         8       2\n",
      "2      15        7        10       4\n",
      "3      14        9         6       7\n",
      "4      19       12         6       4\n",
      "5      23        9         5       1\n"
     ]
    }
   ],
   "source": [
    "#create DataFrame\n",
    "df = pd.DataFrame({'points': [25, 12, 15, 14, 19, 23],\n",
    "                   'assists': [5, 7, 7, 9, 12, 9],\n",
    "                   'rebounds': [11, 8, 10, 6, 6, 5]})\n",
    "\n",
    "#view DataFrame\n",
    "print(\"Normal DF -:\" , '\\n' , df)\n",
    "print()\n",
    "\n",
    "# 1: Add New Column to End of DataFrame\n",
    "#add 'steals' column to end of DataFrame\n",
    "df = df.assign(steals=[2, 2, 4, 7, 4, 1])\n",
    "\n",
    "#view DataFrame\n",
    "print(\"1. Add 'steals' column to end of DF -:\" , '\\n', df)"
   ]
  },
  {
   "cell_type": "code",
   "execution_count": 11,
   "id": "608ac3f7",
   "metadata": {},
   "outputs": [
    {
     "name": "stdout",
     "output_type": "stream",
     "text": [
      "2. Add 'steals' and 'blocks' columns to end of DF \n",
      "    points  assists  rebounds  steals  blocks  half_pts\n",
      "0      25        5        11       2       0      12.5\n",
      "1      12        7         8       2       1       6.0\n",
      "2      15        7        10       4       1       7.5\n",
      "3      14        9         6       7       3       7.0\n",
      "4      19       12         6       4       2       9.5\n",
      "5      23        9         5       1       5      11.5\n",
      "\n",
      "3. Add 'half_pts' to end of DF \n",
      "    points  assists  rebounds  steals  blocks  half_pts\n",
      "0      25        5        11       2       0      12.5\n",
      "1      12        7         8       2       1       6.0\n",
      "2      15        7        10       4       1       7.5\n",
      "3      14        9         6       7       3       7.0\n",
      "4      19       12         6       4       2       9.5\n",
      "5      23        9         5       1       5      11.5\n",
      "\n",
      "4. Add 'steals' to column index position 2 in DF \n",
      "    points  assists  steals2  rebounds  steals  blocks  half_pts\n",
      "0      25        5        2        11       2       0      12.5\n",
      "1      12        7        2         8       2       1       6.0\n",
      "2      15        7        4        10       4       1       7.5\n",
      "3      14        9        7         6       7       3       7.0\n",
      "4      19       12        4         6       4       2       9.5\n",
      "5      23        9        1         5       1       5      11.5\n"
     ]
    }
   ],
   "source": [
    "# 2: Add Multiple Columns to End of DataFrame\n",
    "#add 'steals' and 'blocks' columns to end of DataFrame\n",
    "df = df.assign(steals=[2, 2, 4, 7, 4, 1],\n",
    "               blocks=[0, 1, 1, 3, 2, 5])\n",
    "\n",
    "# view DF\n",
    "print(\"2. Add 'steals' and 'blocks' columns to end of DF\", '\\n', df)\n",
    "print()\n",
    "\n",
    "# 3: Add New Column Using Existing Column\n",
    "\n",
    "#add 'half_pts' to end of DataFrame\n",
    "df = df.assign(half_pts=lambda x: x.points / 2)\n",
    "\n",
    "#view DataFrame\n",
    "print(\"3. Add 'half_pts' to end of DF\", '\\n' , df)\n",
    "print()\n",
    "\n",
    "# 4: Add New Column in Specific Location of DataFrame\n",
    "\n",
    "#add 'steals' to column index position 2 in DataFrame\n",
    "df.insert(2, 'steals2', [2, 2, 4, 7, 4, 1])\n",
    "\n",
    "#view DataFrame\n",
    "print(\"4. Add 'steals' to column index position 2 in DF\", '\\n', df)"
   ]
  },
  {
   "cell_type": "markdown",
   "id": "cbd19e8e",
   "metadata": {},
   "source": [
    "### How to Add Rows to a Pandas DataFrame\n",
    "1. By Using *df.loc()* function : **df.loc[len(df.index)] = [value1, value2, value3, ...]**\n",
    "2. By Using df.append() : **df.append(df2, ignore_index = True)**"
   ]
  },
  {
   "cell_type": "code",
   "execution_count": 12,
   "id": "b5b1ab44",
   "metadata": {},
   "outputs": [
    {
     "name": "stdout",
     "output_type": "stream",
     "text": [
      "Normal DF _: \n",
      "    points  rebounds  assists\n",
      "0      10         7       11\n",
      "1      12         7        8\n",
      "2      12         8       10\n",
      "3      14        13        6\n",
      "4      13         7        6\n",
      "5      18         4        5\n",
      "\n",
      "1. Added Row at the end of DF -: \n",
      "    points  rebounds  assists\n",
      "0      10         7       11\n",
      "1      12         7        8\n",
      "2      12         8       10\n",
      "3      14        13        6\n",
      "4      13         7        6\n",
      "5      18         4        5\n",
      "6      20         7        5\n"
     ]
    }
   ],
   "source": [
    "# 1: Add One Row to Pandas DataFrame\n",
    "\n",
    "import pandas as pd\n",
    "\n",
    "#create DataFrame\n",
    "df = pd.DataFrame({'points': [10, 12, 12, 14, 13, 18],\n",
    "                   'rebounds': [7, 7, 8, 13, 7, 4],\n",
    "                   'assists': [11, 8, 10, 6, 6, 5]})\n",
    "\n",
    "#view DataFrame\n",
    "print(\"Normal DF _:\", '\\n', df)\n",
    "print()\n",
    "\n",
    "# add new row to end of DataFrame\n",
    "df.loc[len(df.index)] = [20, 7, 5]\n",
    "\n",
    "#view updated DataFrame\n",
    "print(\"1. Added Row at the end of DF -:\", '\\n', df)"
   ]
  },
  {
   "cell_type": "code",
   "execution_count": 13,
   "id": "fcc89832",
   "metadata": {},
   "outputs": [
    {
     "name": "stdout",
     "output_type": "stream",
     "text": [
      "1st DF -: \n",
      "    points  rebounds  assists\n",
      "0      10         7       11\n",
      "1      12         7        8\n",
      "2      12         8       10\n",
      "3      14        13        6\n",
      "4      13         7        6\n",
      "5      18         4        5\n",
      "\n",
      "2nd DF -: \n",
      "    points  rebounds  assists\n",
      "0      21         7       11\n",
      "1      25         7        3\n",
      "2      26        13        3\n",
      "\n",
      "Added Two DF Row-wise _: \n",
      "    points  rebounds  assists\n",
      "0      10         7       11\n",
      "1      12         7        8\n",
      "2      12         8       10\n",
      "3      14        13        6\n",
      "4      13         7        6\n",
      "5      18         4        5\n",
      "6      21         7       11\n",
      "7      25         7        3\n",
      "8      26        13        3\n"
     ]
    }
   ],
   "source": [
    "# 2: Add Several Rows to Pandas DataFrame\n",
    "#create DataFrame\n",
    "df = pd.DataFrame({'points': [10, 12, 12, 14, 13, 18],\n",
    "                   'rebounds': [7, 7, 8, 13, 7, 4],\n",
    "                   'assists': [11, 8, 10, 6, 6, 5]})\n",
    "\n",
    "#view DataFrame\n",
    "print(\"1st DF -:\", '\\n', df)\n",
    "print()\n",
    "\n",
    "#define second DataFrame\n",
    "df2 = pd.DataFrame({'points': [21, 25, 26],\n",
    "                    'rebounds': [7, 7, 13],\n",
    "                    'assists': [11, 3, 3]})\n",
    "\n",
    "print(\"2nd DF -:\", '\\n' , df2)\n",
    "print()\n",
    "\n",
    "#add new row to end of DataFrame\n",
    "df = df.append(df2, ignore_index = True)\n",
    "\n",
    "#view updated DataFrame\n",
    "print(\"Added Two DF Row-wise _:\" , '\\n', df)"
   ]
  },
  {
   "cell_type": "markdown",
   "id": "9f4a5084",
   "metadata": {},
   "source": [
    "### How to Add Header Row to Pandas DataFrame\n",
    "1. Add header row when creating DataFrame : **pd.DataFrame(data=[data_values],columns=['col1', 'col2', 'col3'])**\n",
    "2. Add header row after creating DataFrame : **pd.DataFrame(data=[data_values])\n",
    "df.columns = ['A', 'B', 'C']**\n",
    "3. Add header row when importing CSV : **pd.read_csv('data.csv', names=['A', 'B', 'C'])**"
   ]
  },
  {
   "cell_type": "code",
   "execution_count": 1,
   "id": "a3caf29e",
   "metadata": {},
   "outputs": [
    {
     "name": "stdout",
     "output_type": "stream",
     "text": [
      "Add Header Row when  Creating DF -: \n",
      "     A   B   C\n",
      "0  43  53  81\n",
      "1  90   8  63\n",
      "2  82  86  77\n",
      "3  99   3  60\n",
      "4  55  47  29\n",
      "5  72   9  91\n",
      "6  51  83  83\n",
      "7  54  19  81\n",
      "8   3  15  65\n",
      "9   5  88  64\n"
     ]
    }
   ],
   "source": [
    "#  1: Add Header Row When Creating DataFrame\n",
    "import pandas as pd\n",
    "import numpy as np\n",
    "\n",
    "#add header row when creating DataFrame \n",
    "df = pd.DataFrame(data=np.random.randint(0, 100, (10, 3)),\n",
    "                  columns =['A', 'B', 'C'])\n",
    "\n",
    "#view DataFrame\n",
    "print(\"Add Header Row when  Creating DF -:\", '\\n' , df)"
   ]
  },
  {
   "cell_type": "code",
   "execution_count": 2,
   "id": "46bcdf08",
   "metadata": {},
   "outputs": [
    {
     "name": "stdout",
     "output_type": "stream",
     "text": [
      "Add Header Row after Creating DF -: \n",
      "     A   B   C\n",
      "0  89  78  94\n",
      "1  20  27  85\n",
      "2  64  17  83\n",
      "3   7   0  93\n",
      "4  47  55  72\n",
      "5  87  13  12\n",
      "6  53  44  79\n",
      "7  66  63  71\n",
      "8  85  25   5\n",
      "9   7  28  38\n"
     ]
    }
   ],
   "source": [
    "# 2: Add Header Row After Creating DataFrame\n",
    "#create DataFrame\n",
    "df = pd.DataFrame(data=np.random.randint(0, 100, (10, 3))) \n",
    "\n",
    "#add header row to DataFrame\n",
    "df.columns = ['A', 'B', 'C']\n",
    "\n",
    "#view DataFrame\n",
    "print(\"Add Header Row after Creating DF -:\", '\\n', df)"
   ]
  },
  {
   "cell_type": "markdown",
   "id": "84d09f62",
   "metadata": {},
   "source": [
    "### How to Get First Column of Pandas DataFrame\n",
    "1. Get the first column of a pandas DataFrame: **df.iloc[:, 0]**\n",
    "2. **df.iloc[:, :1]**"
   ]
  },
  {
   "cell_type": "code",
   "execution_count": 5,
   "id": "65447d4b",
   "metadata": {
    "scrolled": true
   },
   "outputs": [
    {
     "name": "stdout",
     "output_type": "stream",
     "text": [
      "Head of DF \n",
      "    points  assists  rebounds\n",
      "0      25        5        11\n",
      "1      12        7         8\n",
      "2      15        7        10\n",
      "3      14        9         6\n",
      "4      19       12         6\n",
      "\n",
      "Extract the 1st Column only -: \n",
      " 0    25\n",
      "1    12\n",
      "2    15\n",
      "3    14\n",
      "4    19\n",
      "5    23\n",
      "6    25\n",
      "7    29\n",
      "Name: points, dtype: int64\n"
     ]
    }
   ],
   "source": [
    "# 1: Get First Column of Pandas DataFrame (Return a Series)\n",
    "\n",
    "import pandas as pd\n",
    "\n",
    "#create DataFrame\n",
    "df = pd.DataFrame({'points': [25, 12, 15, 14, 19, 23, 25, 29],\n",
    "                   'assists': [5, 7, 7, 9, 12, 9, 9, 4],\n",
    "                   'rebounds': [11, 8, 10, 6, 6, 5, 9, 12]})\n",
    "\n",
    "#view DataFrame\n",
    "print(\"Head of DF\",'\\n', df.head())\n",
    "print()\n",
    "\n",
    "#get first column\n",
    "first_col = df.iloc[:, 0]\n",
    "\n",
    "#view first column\n",
    "print(\"Extract the 1st Column only -:\", '\\n', first_col)"
   ]
  },
  {
   "cell_type": "code",
   "execution_count": 6,
   "id": "8c7d9966",
   "metadata": {},
   "outputs": [
    {
     "name": "stdout",
     "output_type": "stream",
     "text": [
      "Extract 1st columns and return a DF -: \n",
      "    points\n",
      "0      25\n",
      "1      12\n",
      "2      15\n",
      "3      14\n",
      "4      19\n",
      "5      23\n",
      "6      25\n",
      "7      29\n"
     ]
    }
   ],
   "source": [
    "#get first column (and return a DataFrame)\n",
    "first_col = df.iloc[:, :1]\n",
    "\n",
    "#view first column\n",
    "print(\"Extract 1st columns and return a DF -:\" ,'\\n',first_col)"
   ]
  },
  {
   "cell_type": "markdown",
   "id": "855911dc",
   "metadata": {},
   "source": [
    "### How to Get First Row of Pandas DataFrame\n",
    "1. Get the first row of a pandas DataFrame : **df.head(1)**\n",
    "2. Get the first row of values for specific columns in a pandas DataFrame : **df[['column1', 'column2']].head(1)**\n",
    "3. Get the first row of a pandas DataFrame based on certain criteria : **df[(df.column1 < value) & (df.column2 > value)].head(1)**"
   ]
  },
  {
   "cell_type": "code",
   "execution_count": 8,
   "id": "d9967f54",
   "metadata": {},
   "outputs": [
    {
     "name": "stdout",
     "output_type": "stream",
     "text": [
      "Normal DF -: \n",
      "    points  assists  rebounds\n",
      "0      25        5        11\n",
      "1      12        7         8\n",
      "2      15        7        10\n",
      "3      14        9         6\n",
      "4      19       12         6\n",
      "5      23        9         5\n",
      "6      25        9         9\n",
      "7      29        4        12\n",
      "\n",
      "1. Extract the only 1st row of all Columns using *df.head(1)* -: \n",
      "    points  assists  rebounds\n",
      "0      25        5        11\n",
      "\n",
      "2. Extract the Only 1st row of specific Column using *df[['column1', 'column2']].head(1)* _: \n",
      "    points  rebounds\n",
      "0      25        11\n",
      "\n",
      "3. Extract the only first row with Conditions *df[(df.points < 20) & (df.assists > 10)].head(1)* -: \n",
      "    points  assists  rebounds\n",
      "4      19       12         6\n"
     ]
    }
   ],
   "source": [
    "#create DataFrame\n",
    "df = pd.DataFrame({'points': [25, 12, 15, 14, 19, 23, 25, 29],\n",
    "                   'assists': [5, 7, 7, 9, 12, 9, 9, 4],\n",
    "                   'rebounds': [11, 8, 10, 6, 6, 5, 9, 12]})\n",
    "\n",
    "#view DataFrame\n",
    "print(\"Normal DF -:\", '\\n', df)\n",
    "print()\n",
    "\n",
    "# 1: Get First Row of Pandas DataFrame\n",
    "\n",
    "#get first row of DataFrame\n",
    "h1 = df.head(1)\n",
    "print(\"1. Extract the only 1st row of all Columns using *df.head(1)* -:\", '\\n' , h1)\n",
    "print()\n",
    "\n",
    "# 2: Get First Row of Pandas DataFrame for Specific Columns\n",
    "\n",
    "#get first row of values for points and rebounds columns\n",
    "h2 = df[['points', 'rebounds']].head(1)\n",
    "print(\"2. Extract the Only 1st row of specific Column using *df[['column1', 'column2']].head(1)* _:\", '\\n', h2)\n",
    "print()\n",
    "\n",
    "# 3: Get First Row of Pandas DataFrame Based on Criteria\n",
    "#get first row where points < 20 and assists > 10\n",
    "h3 = df[(df.points < 20) & (df.assists > 10)].head(1)\n",
    "print(\"3. Extract the only first row with Conditions *df[(df.points < 20) & (df.assists > 10)].head(1)* -:\", '\\n', h3)"
   ]
  },
  {
   "cell_type": "markdown",
   "id": "fa5c91f4",
   "metadata": {},
   "source": [
    "### How to Get Cell Value from Pandas DataFrame\n",
    "1. By iloc method : **df.iloc[0]['column_name']**\n",
    "2. By at method : **df.at[0,'column_name']**\n",
    "3. By values method : **df['column_name'].values[0]**"
   ]
  },
  {
   "cell_type": "code",
   "execution_count": 11,
   "id": "ef627d2c",
   "metadata": {},
   "outputs": [
    {
     "name": "stdout",
     "output_type": "stream",
     "text": [
      "N DF -: \n",
      "    points  assists  rebounds\n",
      "0      25        5        11\n",
      "1      12        7         8\n",
      "2      15        7        10\n",
      "3      14        9         6\n",
      "4      19       12         6\n",
      "5      23        9         5\n",
      "6      25        9         9\n",
      "7      29        4        12\n",
      "\n",
      "Get Value in 1st row in point col -: 25\n",
      "\n",
      "Get value in second row in 'assists' col -: 7\n",
      "\n"
     ]
    }
   ],
   "source": [
    "#create DataFrame\n",
    "df = pd.DataFrame({'points': [25, 12, 15, 14, 19, 23, 25, 29],\n",
    "                   'assists': [5, 7, 7, 9, 12, 9, 9, 4],\n",
    "                   'rebounds': [11, 8, 10, 6, 6, 5, 9, 12]})\n",
    "\n",
    "#view DataFrame\n",
    "print(\"N DF -:\", '\\n' , df)\n",
    "print()\n",
    "\n",
    "# 1: Get Cell Value Using iloc Function\n",
    "#get value in first row in 'points' column\n",
    "r1 = df.iloc[0]['points']\n",
    "print(\"Get Value in 1st row in point col -:\", r1)\n",
    "print()\n",
    "\n",
    "#get value in second row in 'assists' column\n",
    "r2= df.iloc[1]['assists']\n",
    "print(\"Get value in second row in 'assists' col -:\", r2)\n",
    "print()"
   ]
  },
  {
   "cell_type": "code",
   "execution_count": 12,
   "id": "7e6986c5",
   "metadata": {},
   "outputs": [
    {
     "name": "stdout",
     "output_type": "stream",
     "text": [
      "Get Value in 1st row in point col -: 25\n",
      "\n",
      "Get value in second row in 'assists' col -: 7\n"
     ]
    }
   ],
   "source": [
    "# 2: Get Cell Value Using at Function\n",
    "\n",
    "#get value in first row in 'points' column\n",
    "r3 = df.at[0, 'points']\n",
    "print(\"Get Value in 1st row in point col -:\", r3)\n",
    "print()\n",
    "\n",
    "#get value in second row in 'assists' column\n",
    "r4 = df.at[1, 'assists']\n",
    "print(\"Get value in second row in 'assists' col -:\", r4)"
   ]
  },
  {
   "cell_type": "code",
   "execution_count": 13,
   "id": "b9954822",
   "metadata": {},
   "outputs": [
    {
     "name": "stdout",
     "output_type": "stream",
     "text": [
      "Get Value in 1st row in point col -: 25\n",
      "\n",
      "Get value in second row in 'assists' col -: 7\n"
     ]
    }
   ],
   "source": [
    "# 3: Get Cell Value Using values Function\n",
    "\n",
    "#get value in first row in 'points' column\n",
    "r5 = df['points'].values[0] \n",
    "print(\"Get Value in 1st row in point col -:\", r5)\n",
    "print()\n",
    "\n",
    "\n",
    "#get value in second row in 'assists' column\n",
    "r6 = df['assists'].values[1] \n",
    "print(\"Get value in second row in 'assists' col -:\", r6)"
   ]
  },
  {
   "cell_type": "markdown",
   "id": "444eb483",
   "metadata": {},
   "source": [
    "### How to Set Value for a Specific Cell in Pandas DataFrame\n",
    "Set value at row index 0 and column 'col_name' to be 99 : **df.at[0, 'col_name'] = 99**"
   ]
  },
  {
   "cell_type": "code",
   "execution_count": 14,
   "id": "ae97e6bf",
   "metadata": {},
   "outputs": [
    {
     "name": "stdout",
     "output_type": "stream",
     "text": [
      "N DF -: \n",
      "    points  assists  rebounds\n",
      "0      25        5        11\n",
      "1      12        7         8\n",
      "2      15        7        10\n",
      "3      14        9         6\n",
      "4      19       12         6\n",
      "5      23        9         5\n",
      "6      25        9         9\n",
      "7      29        4        12\n",
      "\n",
      "   points  assists  rebounds\n",
      "0      25        5        11\n",
      "1      12        7         8\n",
      "2      15        7        10\n",
      "3      99        9         6\n",
      "4      19       12         6\n",
      "5      23        9         5\n",
      "6      25        9         9\n",
      "7      29        4        12\n"
     ]
    }
   ],
   "source": [
    "#create DataFrame\n",
    "df = pd.DataFrame({'points': [25, 12, 15, 14, 19, 23, 25, 29],\n",
    "                   'assists': [5, 7, 7, 9, 12, 9, 9, 4],\n",
    "                   'rebounds': [11, 8, 10, 6, 6, 5, 9, 12]})\n",
    "\n",
    "#view DataFrame\n",
    "print(\"N DF -:\" , '\\n', df)\n",
    "print()\n",
    "\n",
    "# 1: Set Value of One Cell in Pandas \n",
    "#set value in 3rd index position and 'points' column to be 99\n",
    "df.at[3, 'points'] = 99\n",
    "print(df)"
   ]
  },
  {
   "cell_type": "code",
   "execution_count": 15,
   "id": "46abccfa",
   "metadata": {},
   "outputs": [
    {
     "data": {
      "text/html": [
       "<div>\n",
       "<style scoped>\n",
       "    .dataframe tbody tr th:only-of-type {\n",
       "        vertical-align: middle;\n",
       "    }\n",
       "\n",
       "    .dataframe tbody tr th {\n",
       "        vertical-align: top;\n",
       "    }\n",
       "\n",
       "    .dataframe thead th {\n",
       "        text-align: right;\n",
       "    }\n",
       "</style>\n",
       "<table border=\"1\" class=\"dataframe\">\n",
       "  <thead>\n",
       "    <tr style=\"text-align: right;\">\n",
       "      <th></th>\n",
       "      <th>points</th>\n",
       "      <th>assists</th>\n",
       "      <th>rebounds</th>\n",
       "    </tr>\n",
       "  </thead>\n",
       "  <tbody>\n",
       "    <tr>\n",
       "      <th>0</th>\n",
       "      <td>99</td>\n",
       "      <td>5</td>\n",
       "      <td>11</td>\n",
       "    </tr>\n",
       "    <tr>\n",
       "      <th>1</th>\n",
       "      <td>99</td>\n",
       "      <td>7</td>\n",
       "      <td>8</td>\n",
       "    </tr>\n",
       "    <tr>\n",
       "      <th>2</th>\n",
       "      <td>99</td>\n",
       "      <td>7</td>\n",
       "      <td>10</td>\n",
       "    </tr>\n",
       "    <tr>\n",
       "      <th>3</th>\n",
       "      <td>99</td>\n",
       "      <td>9</td>\n",
       "      <td>6</td>\n",
       "    </tr>\n",
       "    <tr>\n",
       "      <th>4</th>\n",
       "      <td>19</td>\n",
       "      <td>12</td>\n",
       "      <td>6</td>\n",
       "    </tr>\n",
       "    <tr>\n",
       "      <th>5</th>\n",
       "      <td>23</td>\n",
       "      <td>9</td>\n",
       "      <td>5</td>\n",
       "    </tr>\n",
       "    <tr>\n",
       "      <th>6</th>\n",
       "      <td>25</td>\n",
       "      <td>9</td>\n",
       "      <td>9</td>\n",
       "    </tr>\n",
       "    <tr>\n",
       "      <th>7</th>\n",
       "      <td>29</td>\n",
       "      <td>4</td>\n",
       "      <td>12</td>\n",
       "    </tr>\n",
       "  </tbody>\n",
       "</table>\n",
       "</div>"
      ],
      "text/plain": [
       "   points  assists  rebounds\n",
       "0      99        5        11\n",
       "1      99        7         8\n",
       "2      99        7        10\n",
       "3      99        9         6\n",
       "4      19       12         6\n",
       "5      23        9         5\n",
       "6      25        9         9\n",
       "7      29        4        12"
      ]
     },
     "execution_count": 15,
     "metadata": {},
     "output_type": "execute_result"
    }
   ],
   "source": [
    "# 2: Set Value of Multiple Cells in Pandas\n",
    "\n",
    "#set values in index positions 0 to 3 in 'points' column to be 99 \n",
    "df.at[0:3, 'points'] = 99\n",
    "\n",
    "#view updated DataFrame\n",
    "df"
   ]
  },
  {
   "cell_type": "code",
   "execution_count": 16,
   "id": "88d8a474",
   "metadata": {},
   "outputs": [
    {
     "data": {
      "text/html": [
       "<div>\n",
       "<style scoped>\n",
       "    .dataframe tbody tr th:only-of-type {\n",
       "        vertical-align: middle;\n",
       "    }\n",
       "\n",
       "    .dataframe tbody tr th {\n",
       "        vertical-align: top;\n",
       "    }\n",
       "\n",
       "    .dataframe thead th {\n",
       "        text-align: right;\n",
       "    }\n",
       "</style>\n",
       "<table border=\"1\" class=\"dataframe\">\n",
       "  <thead>\n",
       "    <tr style=\"text-align: right;\">\n",
       "      <th></th>\n",
       "      <th>points</th>\n",
       "      <th>assists</th>\n",
       "      <th>rebounds</th>\n",
       "    </tr>\n",
       "  </thead>\n",
       "  <tbody>\n",
       "    <tr>\n",
       "      <th>0</th>\n",
       "      <td>99</td>\n",
       "      <td>5</td>\n",
       "      <td>99</td>\n",
       "    </tr>\n",
       "    <tr>\n",
       "      <th>1</th>\n",
       "      <td>99</td>\n",
       "      <td>7</td>\n",
       "      <td>99</td>\n",
       "    </tr>\n",
       "    <tr>\n",
       "      <th>2</th>\n",
       "      <td>99</td>\n",
       "      <td>7</td>\n",
       "      <td>99</td>\n",
       "    </tr>\n",
       "    <tr>\n",
       "      <th>3</th>\n",
       "      <td>99</td>\n",
       "      <td>9</td>\n",
       "      <td>99</td>\n",
       "    </tr>\n",
       "    <tr>\n",
       "      <th>4</th>\n",
       "      <td>19</td>\n",
       "      <td>12</td>\n",
       "      <td>6</td>\n",
       "    </tr>\n",
       "    <tr>\n",
       "      <th>5</th>\n",
       "      <td>23</td>\n",
       "      <td>9</td>\n",
       "      <td>99</td>\n",
       "    </tr>\n",
       "    <tr>\n",
       "      <th>6</th>\n",
       "      <td>25</td>\n",
       "      <td>9</td>\n",
       "      <td>99</td>\n",
       "    </tr>\n",
       "    <tr>\n",
       "      <th>7</th>\n",
       "      <td>29</td>\n",
       "      <td>4</td>\n",
       "      <td>99</td>\n",
       "    </tr>\n",
       "  </tbody>\n",
       "</table>\n",
       "</div>"
      ],
      "text/plain": [
       "   points  assists  rebounds\n",
       "0      99        5        99\n",
       "1      99        7        99\n",
       "2      99        7        99\n",
       "3      99        9        99\n",
       "4      19       12         6\n",
       "5      23        9        99\n",
       "6      25        9        99\n",
       "7      29        4        99"
      ]
     },
     "execution_count": 16,
     "metadata": {},
     "output_type": "execute_result"
    }
   ],
   "source": [
    "#3: Set Values Conditionally in Pandas\n",
    "\n",
    "#set values in 'rebounds' column to be 99 if value in points column is greater than 20\n",
    "df.loc[df['points']>20, ['rebounds']] = 99\n",
    "\n",
    "#view updated DataFrame\n",
    "df"
   ]
  },
  {
   "cell_type": "markdown",
   "id": "58b392d1",
   "metadata": {},
   "source": [
    "### How to Find Unique Values in Multiple Columns in Pandas\n",
    "1. **unique()** : Returns unique values in order of appearance.\n",
    "2. **ravel()** : Returns a flattened data series."
   ]
  },
  {
   "cell_type": "code",
   "execution_count": 17,
   "id": "876ff452",
   "metadata": {},
   "outputs": [
    {
     "name": "stdout",
     "output_type": "stream",
     "text": [
      "  col1 col2  col3\n",
      "0    a    a    11\n",
      "1    b    c     8\n",
      "2    c    e    10\n",
      "3    d    f     6\n",
      "4    e    g     6\n",
      "\n"
     ]
    },
    {
     "data": {
      "text/plain": [
       "array(['a', 'b', 'c', 'e', 'd', 'f', 'g'], dtype=object)"
      ]
     },
     "execution_count": 17,
     "metadata": {},
     "output_type": "execute_result"
    }
   ],
   "source": [
    "#create DataFrame\n",
    "df = pd.DataFrame({'col1': ['a', 'b', 'c', 'd', 'e'],\n",
    "                   'col2': ['a', 'c', 'e', 'f', 'g'],\n",
    "                   'col3': [11, 8, 10, 6, 6]})\n",
    "\n",
    "#view DataFrame \n",
    "print(df)\n",
    "print()\n",
    "\n",
    "# Return Array of Unique Values\n",
    "\n",
    "pd.unique(df[['col1', 'col2']].values.ravel())"
   ]
  },
  {
   "cell_type": "code",
   "execution_count": 18,
   "id": "7ad9f7a4",
   "metadata": {},
   "outputs": [
    {
     "data": {
      "text/plain": [
       "7"
      ]
     },
     "execution_count": 18,
     "metadata": {},
     "output_type": "execute_result"
    }
   ],
   "source": [
    "uniques = pd.unique(df[['col1', 'col2']].values.ravel())\n",
    "\n",
    "len(uniques)"
   ]
  },
  {
   "cell_type": "markdown",
   "id": "2e4003f9",
   "metadata": {},
   "source": [
    "### How to Count Unique Values Using Pandas GroupBy\n",
    "**df.groupby('group_column')['count_column'].nunique()**"
   ]
  },
  {
   "cell_type": "code",
   "execution_count": 19,
   "id": "2eebb2d0",
   "metadata": {},
   "outputs": [
    {
     "name": "stdout",
     "output_type": "stream",
     "text": [
      "Normal DF -: \n",
      "   team position  points  rebounds\n",
      "0    A        G       5        11\n",
      "1    A        G       7         8\n",
      "2    A        G       7        10\n",
      "3    A        F       9         6\n",
      "4    A        F      12         6\n",
      "5    B        G       9         5\n",
      "6    B        G       9         9\n",
      "7    B        F       4        12\n",
      "8    B        F       7        13\n",
      "9    B        F       7        15\n",
      "\n"
     ]
    },
    {
     "data": {
      "text/plain": [
       "team\n",
       "A    4\n",
       "B    3\n",
       "Name: points, dtype: int64"
      ]
     },
     "execution_count": 19,
     "metadata": {},
     "output_type": "execute_result"
    }
   ],
   "source": [
    "import pandas as pd\n",
    "\n",
    "#create DataFrame\n",
    "df = pd.DataFrame({'team': ['A', 'A', 'A', 'A', 'A', 'B', 'B', 'B', 'B', 'B'],\n",
    "                   'position': ['G', 'G', 'G', 'F', 'F', 'G', 'G', 'F', 'F', 'F'],\n",
    "                   'points': [5, 7, 7, 9, 12, 9, 9, 4, 7, 7],\n",
    "                   'rebounds': [11, 8, 10, 6, 6, 5, 9, 12, 13, 15]})\n",
    "\n",
    "#view DataFrame\n",
    "print(\"Normal DF -:\", '\\n', df)\n",
    "print()\n",
    "\n",
    "# 1: Group By One Column & Count Unique Values\n",
    "#count number of unique values in 'points' column grouped by 'team' column\n",
    "df.groupby('team')['points'].nunique()"
   ]
  },
  {
   "cell_type": "code",
   "execution_count": 20,
   "id": "b4b54460",
   "metadata": {},
   "outputs": [
    {
     "data": {
      "text/plain": [
       "team\n",
       "A    [5, 7, 9, 12]\n",
       "B        [9, 4, 7]\n",
       "Name: points, dtype: object"
      ]
     },
     "execution_count": 20,
     "metadata": {},
     "output_type": "execute_result"
    }
   ],
   "source": [
    "#display unique values in 'points' column grouped by 'team'\n",
    "df.groupby('team')['points'].unique()"
   ]
  },
  {
   "cell_type": "code",
   "execution_count": 21,
   "id": "5d979b88",
   "metadata": {},
   "outputs": [
    {
     "data": {
      "text/plain": [
       "team  position\n",
       "A     F           2\n",
       "      G           2\n",
       "B     F           2\n",
       "      G           1\n",
       "Name: points, dtype: int64"
      ]
     },
     "execution_count": 21,
     "metadata": {},
     "output_type": "execute_result"
    }
   ],
   "source": [
    "# 2: Group By Multiple Columns & Count Unique Values\n",
    "#count number of unique values in 'points' column grouped by 'team' and 'position'\n",
    "df.groupby(['team', 'position'])['points'].nunique()"
   ]
  },
  {
   "cell_type": "markdown",
   "id": "baab1f67",
   "metadata": {},
   "source": [
    "### How to Count Unique Values in Pandas \n",
    "1. count unique values in each column : **df.nunique()**\n",
    "2. count unique values in each row : **df.nunique(axis=1)**"
   ]
  },
  {
   "cell_type": "code",
   "execution_count": 22,
   "id": "6e840cff",
   "metadata": {},
   "outputs": [
    {
     "name": "stdout",
     "output_type": "stream",
     "text": [
      "  team  points  assists  rebounds\n",
      "0    A       8        5        11\n",
      "1    A       8        8         8\n",
      "2    A      13        7        11\n",
      "3    A      13        9         6\n",
      "4    B      22       12         6\n",
      "5    B      22        9         5\n",
      "6    B      25        9         9\n",
      "7    B      29        4        12\n"
     ]
    },
    {
     "data": {
      "text/plain": [
       "team        2\n",
       "points      5\n",
       "assists     6\n",
       "rebounds    6\n",
       "dtype: int64"
      ]
     },
     "execution_count": 22,
     "metadata": {},
     "output_type": "execute_result"
    }
   ],
   "source": [
    "#create DataFrame\n",
    "df = pd.DataFrame({'team': ['A', 'A', 'A', 'A', 'B', 'B', 'B', 'B'],\n",
    "                   'points': [8, 8, 13, 13, 22, 22, 25, 29],\n",
    "                   'assists': [5, 8, 7, 9, 12, 9, 9, 4],\n",
    "                   'rebounds': [11, 8, 11, 6, 6, 5, 9, 12]})\n",
    "\n",
    "#view DataFrame\n",
    "print(df)\n",
    "\n",
    "#  1: Count Unique Values in Each Column\n",
    "#count unique values in each column\n",
    "df.nunique()"
   ]
  },
  {
   "cell_type": "code",
   "execution_count": 23,
   "id": "ebc2c21b",
   "metadata": {},
   "outputs": [
    {
     "data": {
      "text/plain": [
       "0    4\n",
       "1    2\n",
       "2    4\n",
       "3    4\n",
       "4    4\n",
       "5    4\n",
       "6    3\n",
       "7    4\n",
       "dtype: int64"
      ]
     },
     "execution_count": 23,
     "metadata": {},
     "output_type": "execute_result"
    }
   ],
   "source": [
    "# 2: Count Unique Values in Each Row\n",
    "#count unique values in each row\n",
    "df.nunique(axis=1)"
   ]
  },
  {
   "cell_type": "code",
   "execution_count": 24,
   "id": "9aa4c9d3",
   "metadata": {},
   "outputs": [
    {
     "data": {
      "text/plain": [
       "team\n",
       "A    2\n",
       "B    3\n",
       "Name: points, dtype: int64"
      ]
     },
     "execution_count": 24,
     "metadata": {},
     "output_type": "execute_result"
    }
   ],
   "source": [
    "# 3: Count Unique Values by Group\n",
    "\n",
    "#count unique 'points' values, grouped by team\n",
    "df.groupby('team')['points'].nunique()"
   ]
  },
  {
   "cell_type": "markdown",
   "id": "6503deb3",
   "metadata": {},
   "source": [
    "### How to Count Occurrences of Specific Value\n",
    "**df['col_name'].value_count()[value]**\n",
    "1. Count Occurrence of String in Column\n",
    "2. Count Occurrence of Numeric Value in Column"
   ]
  },
  {
   "cell_type": "code",
   "execution_count": 25,
   "id": "5b70c877",
   "metadata": {},
   "outputs": [
    {
     "name": "stdout",
     "output_type": "stream",
     "text": [
      "How many times is B occurs in column team -: 4\n",
      "\n",
      "Occurrence of vlues in column team -: \n",
      " B    4\n",
      "C    2\n",
      "A    2\n",
      "Name: team, dtype: int64\n"
     ]
    }
   ],
   "source": [
    "# 1: Count Occurrences of String in Column\n",
    "#create DataFrame\n",
    "df = pd.DataFrame({'team': ['A', 'A', 'B', 'B', 'B', 'B', 'C', 'C'],\n",
    "                   'points': [25, 12, 15, 14, 19, 23, 25, 29],\n",
    "                   'assists': [5, 7, 7, 9, 12, 9, 9, 4],\n",
    "                   'rebounds': [11, 8, 10, 6, 6, 5, 9, 12]})\n",
    "\n",
    "#count occurrences of the value 'B' in the 'team' column\n",
    "ob = df['team'].value_counts()['B']\n",
    "print(\"How many times is B occurs in column team -:\", ob)\n",
    "print()\n",
    "\n",
    "#count occurrences of every unique value in the 'team' column\n",
    "ov= df['team'].value_counts()\n",
    "print(\"Occurrence of vlues in column team -:\", '\\n', ov)"
   ]
  },
  {
   "cell_type": "code",
   "execution_count": 26,
   "id": "89b68353",
   "metadata": {},
   "outputs": [
    {
     "name": "stdout",
     "output_type": "stream",
     "text": [
      "9 Occurs in column assists -: 3\n",
      "\n",
      "Values Occurs in column assists -: 9     3\n",
      "7     2\n",
      "12    1\n",
      "5     1\n",
      "4     1\n",
      "Name: assists, dtype: int64\n"
     ]
    }
   ],
   "source": [
    "#count occurrences of the value 9 in the 'assists' column\n",
    "on = df['assists'].value_counts()[9]\n",
    "print(\"9 Occurs in column assists -:\", on)\n",
    "print()\n",
    "\n",
    "#count occurrences of every unique value in the 'assists' column\n",
    "vo= df['assists'].value_counts()\n",
    "print(\"Values Occurs in column assists -:\" , vo)"
   ]
  },
  {
   "cell_type": "markdown",
   "id": "175aa262",
   "metadata": {},
   "source": [
    "### How to Group By Index and Perform Calculation\n",
    "1.  Group By One Index Column : **df.groupby('index1')['numeric_column'].max()**\n",
    "2. Group By Multiple Index Columns : **df.groupby(['index1', 'index2'])['numeric_column'].sum()**\n",
    "3. Group By Index Column and Regular Column : **df.groupby(['index1', 'numeric_column1'])['numeric_column2'].nunique()**"
   ]
  },
  {
   "cell_type": "code",
   "execution_count": 27,
   "id": "1994e877",
   "metadata": {},
   "outputs": [
    {
     "data": {
      "text/html": [
       "<div>\n",
       "<style scoped>\n",
       "    .dataframe tbody tr th:only-of-type {\n",
       "        vertical-align: middle;\n",
       "    }\n",
       "\n",
       "    .dataframe tbody tr th {\n",
       "        vertical-align: top;\n",
       "    }\n",
       "\n",
       "    .dataframe thead th {\n",
       "        text-align: right;\n",
       "    }\n",
       "</style>\n",
       "<table border=\"1\" class=\"dataframe\">\n",
       "  <thead>\n",
       "    <tr style=\"text-align: right;\">\n",
       "      <th></th>\n",
       "      <th></th>\n",
       "      <th>points</th>\n",
       "      <th>rebounds</th>\n",
       "    </tr>\n",
       "    <tr>\n",
       "      <th>team</th>\n",
       "      <th>position</th>\n",
       "      <th></th>\n",
       "      <th></th>\n",
       "    </tr>\n",
       "  </thead>\n",
       "  <tbody>\n",
       "    <tr>\n",
       "      <th rowspan=\"5\" valign=\"top\">A</th>\n",
       "      <th>G</th>\n",
       "      <td>7</td>\n",
       "      <td>8</td>\n",
       "    </tr>\n",
       "    <tr>\n",
       "      <th>G</th>\n",
       "      <td>7</td>\n",
       "      <td>8</td>\n",
       "    </tr>\n",
       "    <tr>\n",
       "      <th>G</th>\n",
       "      <td>7</td>\n",
       "      <td>8</td>\n",
       "    </tr>\n",
       "    <tr>\n",
       "      <th>F</th>\n",
       "      <td>19</td>\n",
       "      <td>10</td>\n",
       "    </tr>\n",
       "    <tr>\n",
       "      <th>F</th>\n",
       "      <td>16</td>\n",
       "      <td>11</td>\n",
       "    </tr>\n",
       "    <tr>\n",
       "      <th rowspan=\"5\" valign=\"top\">B</th>\n",
       "      <th>G</th>\n",
       "      <td>9</td>\n",
       "      <td>12</td>\n",
       "    </tr>\n",
       "    <tr>\n",
       "      <th>G</th>\n",
       "      <td>10</td>\n",
       "      <td>13</td>\n",
       "    </tr>\n",
       "    <tr>\n",
       "      <th>F</th>\n",
       "      <td>10</td>\n",
       "      <td>13</td>\n",
       "    </tr>\n",
       "    <tr>\n",
       "      <th>F</th>\n",
       "      <td>8</td>\n",
       "      <td>15</td>\n",
       "    </tr>\n",
       "    <tr>\n",
       "      <th>F</th>\n",
       "      <td>8</td>\n",
       "      <td>11</td>\n",
       "    </tr>\n",
       "  </tbody>\n",
       "</table>\n",
       "</div>"
      ],
      "text/plain": [
       "               points  rebounds\n",
       "team position                  \n",
       "A    G              7         8\n",
       "     G              7         8\n",
       "     G              7         8\n",
       "     F             19        10\n",
       "     F             16        11\n",
       "B    G              9        12\n",
       "     G             10        13\n",
       "     F             10        13\n",
       "     F              8        15\n",
       "     F              8        11"
      ]
     },
     "execution_count": 27,
     "metadata": {},
     "output_type": "execute_result"
    }
   ],
   "source": [
    "#create DataFrame\n",
    "df = pd.DataFrame({'team': ['A', 'A', 'A', 'A', 'A', 'B', 'B', 'B', 'B', 'B'],\n",
    "                   'position': ['G', 'G', 'G', 'F', 'F', 'G', 'G', 'F', 'F', 'F'],\n",
    "                   'points': [7, 7, 7, 19, 16, 9, 10, 10, 8, 8],\n",
    "                   'rebounds': [8, 8, 8, 10, 11, 12, 13, 13, 15, 11]})\n",
    "\n",
    "#set 'team' column to be index column\n",
    "df.set_index(['team', 'position'], inplace=True)\n",
    "\n",
    "#view DataFrame\n",
    "df"
   ]
  },
  {
   "cell_type": "code",
   "execution_count": 28,
   "id": "ecef6382",
   "metadata": {},
   "outputs": [
    {
     "data": {
      "text/plain": [
       "position\n",
       "F    19\n",
       "G    10\n",
       "Name: points, dtype: int64"
      ]
     },
     "execution_count": 28,
     "metadata": {},
     "output_type": "execute_result"
    }
   ],
   "source": [
    "# 1: Group By One Index Column\n",
    "\n",
    "#find max value of 'points' grouped by 'position index column\n",
    "df.groupby('position')['points'].max()"
   ]
  },
  {
   "cell_type": "code",
   "execution_count": 29,
   "id": "c55cae29",
   "metadata": {},
   "outputs": [
    {
     "data": {
      "text/plain": [
       "team  position\n",
       "A     F           35\n",
       "      G           21\n",
       "B     F           26\n",
       "      G           19\n",
       "Name: points, dtype: int64"
      ]
     },
     "execution_count": 29,
     "metadata": {},
     "output_type": "execute_result"
    }
   ],
   "source": [
    "# 2: Group By Multiple Index Columns\n",
    "\n",
    "#find max value of 'points' grouped by 'position index column\n",
    "df.groupby(['team', 'position'])['points'].sum()"
   ]
  },
  {
   "cell_type": "code",
   "execution_count": 30,
   "id": "46aab006",
   "metadata": {},
   "outputs": [
    {
     "data": {
      "text/plain": [
       "team  points\n",
       "A     7         1\n",
       "      16        1\n",
       "      19        1\n",
       "B     8         2\n",
       "      9         1\n",
       "      10        1\n",
       "Name: rebounds, dtype: int64"
      ]
     },
     "execution_count": 30,
     "metadata": {},
     "output_type": "execute_result"
    }
   ],
   "source": [
    "# 3: Group By Index Column & Regular Column\n",
    "\n",
    "#find max value of 'points' grouped by 'position index column\n",
    "df.groupby(['team', 'points'])['rebounds'].nunique()"
   ]
  },
  {
   "cell_type": "markdown",
   "id": "bfc674b8",
   "metadata": {},
   "source": [
    "### How to Use GroupBy and Value Counts\n",
    "**df.groupby(['column1', 'column2']).size().unstack(fill_value=0)**"
   ]
  },
  {
   "cell_type": "code",
   "execution_count": 31,
   "id": "ce817836",
   "metadata": {},
   "outputs": [
    {
     "name": "stdout",
     "output_type": "stream",
     "text": [
      "Normal DF \n",
      "   team position  points\n",
      "0    A        G       8\n",
      "1    A        G       8\n",
      "2    A        F      10\n",
      "3    A        F      10\n",
      "4    A        C      11\n",
      "5    B        G       8\n",
      "6    B        F       9\n",
      "7    B        F      10\n",
      "8    B        F      10\n",
      "9    B        F      10\n",
      "\n",
      "Count freq -: \n",
      " points         8   9   10  11\n",
      "team position                \n",
      "A    C          0   0   0   1\n",
      "     F          0   0   2   0\n",
      "     G          2   0   0   0\n",
      "B    F          0   1   3   0\n",
      "     G          1   0   0   0\n",
      "\n",
      "Count freq -: \n",
      " position  C  F  G\n",
      "team             \n",
      "A         1  2  2\n",
      "B         0  4  1\n"
     ]
    }
   ],
   "source": [
    "# Use GroupBy and Value Counts in Pandas\n",
    "#create DataFrame\n",
    "df = pd.DataFrame({'team': ['A', 'A', 'A', 'A', 'A', 'B', 'B', 'B', 'B', 'B'],\n",
    "                   'position':['G', 'G', 'F', 'F', 'C', 'G', 'F', 'F', 'F', 'F'],\n",
    "                   'points': [8, 8, 10, 10, 11, 8, 9, 10, 10, 10]})\n",
    "\n",
    "#view DataFrame\n",
    "print('Normal DF' ,'\\n',df)\n",
    "print()\n",
    "\n",
    "#count frequency of points values, grouped by team and position\n",
    "cf = df.groupby(['team', 'position', 'points']).size().unstack(fill_value=0)\n",
    "print(\"Count freq -:\", '\\n', cf)\n",
    "print()\n",
    "\n",
    "#count frequency of positions, grouped by team\n",
    "cf1 = df.groupby(['team', 'position']).size().unstack(fill_value=0)\n",
    "print(\"Count freq -:\", '\\n', cf1)"
   ]
  },
  {
   "cell_type": "markdown",
   "id": "adadcb05",
   "metadata": {},
   "source": [
    "### How to Use idxmax() Function \n",
    "You can use the **pandas.DataFrame.idxmax()** function to return the index of the maximum value across a specified axis in a pandas DataFrame.\n",
    "$$DataFrame.idxmax(axis=0, skipna=True)$$\n",
    "where, **axis:** The axis to use (0 = rows, 1 = columns). Default is 0.\n",
    "<br>**skipna:** Whether or not to exclude NA or null values. Default is True."
   ]
  },
  {
   "cell_type": "code",
   "execution_count": 32,
   "id": "bebfa17a",
   "metadata": {},
   "outputs": [
    {
     "name": "stdout",
     "output_type": "stream",
     "text": [
      "Normal DF -: \n",
      "        points  assists  rebounds\n",
      "Andy       25        5        11\n",
      "Bob        12        7         8\n",
      "Chad       15        7        11\n",
      "Dan         8        9         6\n",
      "Eric        9       12         6\n",
      "Frank      23        9         5\n",
      "\n",
      "Max Value for each column -: \n",
      " points      Andy\n",
      "assists     Eric\n",
      "rebounds    Andy\n",
      "dtype: object\n",
      "\n",
      "Max value for each row -: \n",
      " Andy      points\n",
      "Bob       points\n",
      "Chad      points\n",
      "Dan      assists\n",
      "Eric     assists\n",
      "Frank     points\n",
      "dtype: object\n"
     ]
    }
   ],
   "source": [
    "#create DataFrame\n",
    "df = pd.DataFrame({'points': [25, 12, 15, 8, 9, 23],\n",
    "                   'assists': [5, 7, 7, 9, 12, 9],\n",
    "                   'rebounds': [11, 8, 11, 6, 6, 5]},\n",
    "                   index=['Andy','Bob', 'Chad', 'Dan', 'Eric', 'Frank'])\n",
    "\n",
    "#view DataFrame\n",
    "print(\"Normal DF -:\", '\\n' , df)\n",
    "print()\n",
    "\n",
    "# 1: Find Index that has Max Value for Each Column\n",
    "\n",
    "#find index that has max value for each column\n",
    "max = df.idxmax(axis=0)\n",
    "print(\"Max Value for each column -:\", '\\n', max)\n",
    "print()\n",
    "\n",
    "# 2: Find Column that has Max Value for Each Row\n",
    "#find column that has max value for each row\n",
    "maxr = df.idxmax(axis=1)\n",
    "print(\"Max value for each row -:\", '\\n', maxr)"
   ]
  },
  {
   "cell_type": "markdown",
   "id": "bbb1e06c",
   "metadata": {},
   "source": [
    "### How to Use describe() Function\n",
    "$$df.describe()$$\n",
    "1. Describe all Numeric columns : $df.describe()$\n",
    "2. Describe all columns : $df.describe(include= 'all')$\n",
    "3. Describe Specific Columns : $df['col1', 'col2',...].describe()$"
   ]
  },
  {
   "cell_type": "code",
   "execution_count": 33,
   "id": "c17587d9",
   "metadata": {},
   "outputs": [
    {
     "data": {
      "text/html": [
       "<div>\n",
       "<style scoped>\n",
       "    .dataframe tbody tr th:only-of-type {\n",
       "        vertical-align: middle;\n",
       "    }\n",
       "\n",
       "    .dataframe tbody tr th {\n",
       "        vertical-align: top;\n",
       "    }\n",
       "\n",
       "    .dataframe thead th {\n",
       "        text-align: right;\n",
       "    }\n",
       "</style>\n",
       "<table border=\"1\" class=\"dataframe\">\n",
       "  <thead>\n",
       "    <tr style=\"text-align: right;\">\n",
       "      <th></th>\n",
       "      <th>points</th>\n",
       "      <th>assists</th>\n",
       "      <th>rebounds</th>\n",
       "    </tr>\n",
       "  </thead>\n",
       "  <tbody>\n",
       "    <tr>\n",
       "      <th>count</th>\n",
       "      <td>8.000000</td>\n",
       "      <td>8.00000</td>\n",
       "      <td>8.000000</td>\n",
       "    </tr>\n",
       "    <tr>\n",
       "      <th>mean</th>\n",
       "      <td>20.250000</td>\n",
       "      <td>7.75000</td>\n",
       "      <td>8.375000</td>\n",
       "    </tr>\n",
       "    <tr>\n",
       "      <th>std</th>\n",
       "      <td>6.158618</td>\n",
       "      <td>2.54951</td>\n",
       "      <td>2.559994</td>\n",
       "    </tr>\n",
       "    <tr>\n",
       "      <th>min</th>\n",
       "      <td>12.000000</td>\n",
       "      <td>4.00000</td>\n",
       "      <td>5.000000</td>\n",
       "    </tr>\n",
       "    <tr>\n",
       "      <th>25%</th>\n",
       "      <td>14.750000</td>\n",
       "      <td>6.50000</td>\n",
       "      <td>6.000000</td>\n",
       "    </tr>\n",
       "    <tr>\n",
       "      <th>50%</th>\n",
       "      <td>21.000000</td>\n",
       "      <td>8.00000</td>\n",
       "      <td>8.500000</td>\n",
       "    </tr>\n",
       "    <tr>\n",
       "      <th>75%</th>\n",
       "      <td>25.000000</td>\n",
       "      <td>9.00000</td>\n",
       "      <td>10.250000</td>\n",
       "    </tr>\n",
       "    <tr>\n",
       "      <th>max</th>\n",
       "      <td>29.000000</td>\n",
       "      <td>12.00000</td>\n",
       "      <td>12.000000</td>\n",
       "    </tr>\n",
       "  </tbody>\n",
       "</table>\n",
       "</div>"
      ],
      "text/plain": [
       "          points   assists   rebounds\n",
       "count   8.000000   8.00000   8.000000\n",
       "mean   20.250000   7.75000   8.375000\n",
       "std     6.158618   2.54951   2.559994\n",
       "min    12.000000   4.00000   5.000000\n",
       "25%    14.750000   6.50000   6.000000\n",
       "50%    21.000000   8.00000   8.500000\n",
       "75%    25.000000   9.00000  10.250000\n",
       "max    29.000000  12.00000  12.000000"
      ]
     },
     "execution_count": 33,
     "metadata": {},
     "output_type": "execute_result"
    }
   ],
   "source": [
    "#create DataFrame\n",
    "df = pd.DataFrame({'team': ['A', 'A', 'B', 'B', 'B', 'C', 'C', 'C'],\n",
    "                   'points': [25, 12, 15, 14, 19, 23, 25, 29],\n",
    "                   'assists': [5, 7, 7, 9, 12, 9, 9, 4],\n",
    "                   'rebounds': [11, 8, 10, 6, 6, 5, 9, 12]})\n",
    "\n",
    "# 1: Describe All Numeric Columns\n",
    "\n",
    "#generate descriptive statistics for all numeric columns\n",
    "df.describe()"
   ]
  },
  {
   "cell_type": "code",
   "execution_count": 34,
   "id": "630c87d9",
   "metadata": {},
   "outputs": [
    {
     "data": {
      "text/html": [
       "<div>\n",
       "<style scoped>\n",
       "    .dataframe tbody tr th:only-of-type {\n",
       "        vertical-align: middle;\n",
       "    }\n",
       "\n",
       "    .dataframe tbody tr th {\n",
       "        vertical-align: top;\n",
       "    }\n",
       "\n",
       "    .dataframe thead th {\n",
       "        text-align: right;\n",
       "    }\n",
       "</style>\n",
       "<table border=\"1\" class=\"dataframe\">\n",
       "  <thead>\n",
       "    <tr style=\"text-align: right;\">\n",
       "      <th></th>\n",
       "      <th>team</th>\n",
       "      <th>points</th>\n",
       "      <th>assists</th>\n",
       "      <th>rebounds</th>\n",
       "    </tr>\n",
       "  </thead>\n",
       "  <tbody>\n",
       "    <tr>\n",
       "      <th>count</th>\n",
       "      <td>8</td>\n",
       "      <td>8.000000</td>\n",
       "      <td>8.00000</td>\n",
       "      <td>8.000000</td>\n",
       "    </tr>\n",
       "    <tr>\n",
       "      <th>unique</th>\n",
       "      <td>3</td>\n",
       "      <td>NaN</td>\n",
       "      <td>NaN</td>\n",
       "      <td>NaN</td>\n",
       "    </tr>\n",
       "    <tr>\n",
       "      <th>top</th>\n",
       "      <td>B</td>\n",
       "      <td>NaN</td>\n",
       "      <td>NaN</td>\n",
       "      <td>NaN</td>\n",
       "    </tr>\n",
       "    <tr>\n",
       "      <th>freq</th>\n",
       "      <td>3</td>\n",
       "      <td>NaN</td>\n",
       "      <td>NaN</td>\n",
       "      <td>NaN</td>\n",
       "    </tr>\n",
       "    <tr>\n",
       "      <th>mean</th>\n",
       "      <td>NaN</td>\n",
       "      <td>20.250000</td>\n",
       "      <td>7.75000</td>\n",
       "      <td>8.375000</td>\n",
       "    </tr>\n",
       "    <tr>\n",
       "      <th>std</th>\n",
       "      <td>NaN</td>\n",
       "      <td>6.158618</td>\n",
       "      <td>2.54951</td>\n",
       "      <td>2.559994</td>\n",
       "    </tr>\n",
       "    <tr>\n",
       "      <th>min</th>\n",
       "      <td>NaN</td>\n",
       "      <td>12.000000</td>\n",
       "      <td>4.00000</td>\n",
       "      <td>5.000000</td>\n",
       "    </tr>\n",
       "    <tr>\n",
       "      <th>25%</th>\n",
       "      <td>NaN</td>\n",
       "      <td>14.750000</td>\n",
       "      <td>6.50000</td>\n",
       "      <td>6.000000</td>\n",
       "    </tr>\n",
       "    <tr>\n",
       "      <th>50%</th>\n",
       "      <td>NaN</td>\n",
       "      <td>21.000000</td>\n",
       "      <td>8.00000</td>\n",
       "      <td>8.500000</td>\n",
       "    </tr>\n",
       "    <tr>\n",
       "      <th>75%</th>\n",
       "      <td>NaN</td>\n",
       "      <td>25.000000</td>\n",
       "      <td>9.00000</td>\n",
       "      <td>10.250000</td>\n",
       "    </tr>\n",
       "    <tr>\n",
       "      <th>max</th>\n",
       "      <td>NaN</td>\n",
       "      <td>29.000000</td>\n",
       "      <td>12.00000</td>\n",
       "      <td>12.000000</td>\n",
       "    </tr>\n",
       "  </tbody>\n",
       "</table>\n",
       "</div>"
      ],
      "text/plain": [
       "       team     points   assists   rebounds\n",
       "count     8   8.000000   8.00000   8.000000\n",
       "unique    3        NaN       NaN        NaN\n",
       "top       B        NaN       NaN        NaN\n",
       "freq      3        NaN       NaN        NaN\n",
       "mean    NaN  20.250000   7.75000   8.375000\n",
       "std     NaN   6.158618   2.54951   2.559994\n",
       "min     NaN  12.000000   4.00000   5.000000\n",
       "25%     NaN  14.750000   6.50000   6.000000\n",
       "50%     NaN  21.000000   8.00000   8.500000\n",
       "75%     NaN  25.000000   9.00000  10.250000\n",
       "max     NaN  29.000000  12.00000  12.000000"
      ]
     },
     "execution_count": 34,
     "metadata": {},
     "output_type": "execute_result"
    }
   ],
   "source": [
    "# 2: Describe All Columns\n",
    "#generate descriptive statistics for all columns\n",
    "df.describe(include='all')"
   ]
  },
  {
   "cell_type": "code",
   "execution_count": 35,
   "id": "051a8a9a",
   "metadata": {},
   "outputs": [
    {
     "data": {
      "text/html": [
       "<div>\n",
       "<style scoped>\n",
       "    .dataframe tbody tr th:only-of-type {\n",
       "        vertical-align: middle;\n",
       "    }\n",
       "\n",
       "    .dataframe tbody tr th {\n",
       "        vertical-align: top;\n",
       "    }\n",
       "\n",
       "    .dataframe thead th {\n",
       "        text-align: right;\n",
       "    }\n",
       "</style>\n",
       "<table border=\"1\" class=\"dataframe\">\n",
       "  <thead>\n",
       "    <tr style=\"text-align: right;\">\n",
       "      <th></th>\n",
       "      <th>points</th>\n",
       "      <th>assists</th>\n",
       "    </tr>\n",
       "  </thead>\n",
       "  <tbody>\n",
       "    <tr>\n",
       "      <th>count</th>\n",
       "      <td>8.000000</td>\n",
       "      <td>8.00000</td>\n",
       "    </tr>\n",
       "    <tr>\n",
       "      <th>mean</th>\n",
       "      <td>20.250000</td>\n",
       "      <td>7.75000</td>\n",
       "    </tr>\n",
       "    <tr>\n",
       "      <th>std</th>\n",
       "      <td>6.158618</td>\n",
       "      <td>2.54951</td>\n",
       "    </tr>\n",
       "    <tr>\n",
       "      <th>min</th>\n",
       "      <td>12.000000</td>\n",
       "      <td>4.00000</td>\n",
       "    </tr>\n",
       "    <tr>\n",
       "      <th>25%</th>\n",
       "      <td>14.750000</td>\n",
       "      <td>6.50000</td>\n",
       "    </tr>\n",
       "    <tr>\n",
       "      <th>50%</th>\n",
       "      <td>21.000000</td>\n",
       "      <td>8.00000</td>\n",
       "    </tr>\n",
       "    <tr>\n",
       "      <th>75%</th>\n",
       "      <td>25.000000</td>\n",
       "      <td>9.00000</td>\n",
       "    </tr>\n",
       "    <tr>\n",
       "      <th>max</th>\n",
       "      <td>29.000000</td>\n",
       "      <td>12.00000</td>\n",
       "    </tr>\n",
       "  </tbody>\n",
       "</table>\n",
       "</div>"
      ],
      "text/plain": [
       "          points   assists\n",
       "count   8.000000   8.00000\n",
       "mean   20.250000   7.75000\n",
       "std     6.158618   2.54951\n",
       "min    12.000000   4.00000\n",
       "25%    14.750000   6.50000\n",
       "50%    21.000000   8.00000\n",
       "75%    25.000000   9.00000\n",
       "max    29.000000  12.00000"
      ]
     },
     "execution_count": 35,
     "metadata": {},
     "output_type": "execute_result"
    }
   ],
   "source": [
    "# 3: Describe Specific Columns\n",
    "#calculate descriptive statistics for 'points' and 'assists' columns only\n",
    "df[['points', 'assists']].describe()"
   ]
  },
  {
   "cell_type": "markdown",
   "id": "e68fa8db",
   "metadata": {},
   "source": [
    "### How to Use where() Function\n",
    "The **where()** function can be used to replace certain values in a pandas DataFrame.\n",
    "<br>This function uses the following basic syntax:\n",
    "$$df.where(cond, other=nan)$$\n",
    "For every value in a pandas DataFrame where cond is True, the original value is retained.\n",
    "<br>For every value where cond is False, the original value is replaced by the value specified by the other argument.\n",
    "\n",
    "Replace Values in Specific Column of DataFrame :\n",
    "$$df['col'] = df['col'].where(df['col']>15, other='low')$$"
   ]
  },
  {
   "cell_type": "code",
   "execution_count": 36,
   "id": "e2151282",
   "metadata": {},
   "outputs": [
    {
     "name": "stdout",
     "output_type": "stream",
     "text": [
      "Normal DF -: \n",
      "    points  assists  rebounds\n",
      "0      25        5        11\n",
      "1      12        7         8\n",
      "2      15        7        10\n",
      "3      14        9         6\n",
      "4      19       12         6\n",
      "5      23        9         5\n",
      "6      25        9         9\n",
      "7      29        4        12\n",
      "\n",
      "Values greater than 7, less replace by NaN -: \n",
      "    points  assists  rebounds\n",
      "0      25      NaN      11.0\n",
      "1      12      NaN       8.0\n",
      "2      15      NaN      10.0\n",
      "3      14      9.0       NaN\n",
      "4      19     12.0       NaN\n",
      "5      23      9.0       NaN\n",
      "6      25      9.0       9.0\n",
      "7      29      NaN      12.0\n",
      "\n",
      "Values greater than 7, less replace by low -: \n",
      "    points assists rebounds\n",
      "0      25     low       11\n",
      "1      12     low        8\n",
      "2      15     low       10\n",
      "3      14       9      low\n",
      "4      19      12      low\n",
      "5      23       9      low\n",
      "6      25       9        9\n",
      "7      29     low       12\n"
     ]
    }
   ],
   "source": [
    "#define DataFrame\n",
    "df = pd.DataFrame({'points': [25, 12, 15, 14, 19, 23, 25, 29],\n",
    "                   'assists': [5, 7, 7, 9, 12, 9, 9, 4],\n",
    "                   'rebounds': [11, 8, 10, 6, 6, 5, 9, 12]})\n",
    "\n",
    "#view DataFrame\n",
    "print(\"Normal DF -:\", '\\n', df)\n",
    "print()\n",
    "\n",
    "# 1: Replace Values in Entire DataFrame\n",
    "#keep values that are greater than 7, but replace all others with NaN\n",
    "g7 = df.where(df>7)\n",
    "print(\"Values greater than 7, less replace by NaN -:\", '\\n', g7)\n",
    "print()\n",
    "\n",
    "#keep values that are greater than 7, but replace all others with 'low'\n",
    "gl = df.where(df>7, other='low')\n",
    "print(\"Values greater than 7, less replace by low -:\", '\\n', gl)"
   ]
  },
  {
   "cell_type": "code",
   "execution_count": 37,
   "id": "53166efd",
   "metadata": {},
   "outputs": [
    {
     "data": {
      "text/html": [
       "<div>\n",
       "<style scoped>\n",
       "    .dataframe tbody tr th:only-of-type {\n",
       "        vertical-align: middle;\n",
       "    }\n",
       "\n",
       "    .dataframe tbody tr th {\n",
       "        vertical-align: top;\n",
       "    }\n",
       "\n",
       "    .dataframe thead th {\n",
       "        text-align: right;\n",
       "    }\n",
       "</style>\n",
       "<table border=\"1\" class=\"dataframe\">\n",
       "  <thead>\n",
       "    <tr style=\"text-align: right;\">\n",
       "      <th></th>\n",
       "      <th>points</th>\n",
       "      <th>assists</th>\n",
       "      <th>rebounds</th>\n",
       "    </tr>\n",
       "  </thead>\n",
       "  <tbody>\n",
       "    <tr>\n",
       "      <th>0</th>\n",
       "      <td>25</td>\n",
       "      <td>5</td>\n",
       "      <td>11</td>\n",
       "    </tr>\n",
       "    <tr>\n",
       "      <th>1</th>\n",
       "      <td>low</td>\n",
       "      <td>7</td>\n",
       "      <td>8</td>\n",
       "    </tr>\n",
       "    <tr>\n",
       "      <th>2</th>\n",
       "      <td>low</td>\n",
       "      <td>7</td>\n",
       "      <td>10</td>\n",
       "    </tr>\n",
       "    <tr>\n",
       "      <th>3</th>\n",
       "      <td>low</td>\n",
       "      <td>9</td>\n",
       "      <td>6</td>\n",
       "    </tr>\n",
       "    <tr>\n",
       "      <th>4</th>\n",
       "      <td>19</td>\n",
       "      <td>12</td>\n",
       "      <td>6</td>\n",
       "    </tr>\n",
       "    <tr>\n",
       "      <th>5</th>\n",
       "      <td>23</td>\n",
       "      <td>9</td>\n",
       "      <td>5</td>\n",
       "    </tr>\n",
       "    <tr>\n",
       "      <th>6</th>\n",
       "      <td>25</td>\n",
       "      <td>9</td>\n",
       "      <td>9</td>\n",
       "    </tr>\n",
       "    <tr>\n",
       "      <th>7</th>\n",
       "      <td>29</td>\n",
       "      <td>4</td>\n",
       "      <td>12</td>\n",
       "    </tr>\n",
       "  </tbody>\n",
       "</table>\n",
       "</div>"
      ],
      "text/plain": [
       "  points  assists  rebounds\n",
       "0     25        5        11\n",
       "1    low        7         8\n",
       "2    low        7        10\n",
       "3    low        9         6\n",
       "4     19       12         6\n",
       "5     23        9         5\n",
       "6     25        9         9\n",
       "7     29        4        12"
      ]
     },
     "execution_count": 37,
     "metadata": {},
     "output_type": "execute_result"
    }
   ],
   "source": [
    "# 2: Replace Values in Specific Column of DataFrame\n",
    "\n",
    "#keep values greater than 15 in 'points' column, but replace others with 'low'\n",
    "df['points'] = df['points'].where(df['points']>15, other='low')\n",
    "\n",
    "#view DataFrame\n",
    "df"
   ]
  },
  {
   "cell_type": "markdown",
   "id": "09def8f2",
   "metadata": {},
   "source": [
    "### How to Use Pandas value_counts() Function\n",
    "We can use the value_counts() function to count the frequency of unique values in a pandas Series : **series.value_counts()**\n",
    "1. Count Frequency of Unique Values : **series.value_counts()**\n",
    "2. Count Frequency of Unique Values (Including NaNs)  : **series.value_counts(dropna=False)**\n",
    "3. Count Relative Frequency of Unique Values : **series.value_counts(normalize=True)**\n",
    "4. 4: Count Frequency in Bins : **series.value_counts(bins=3)**\n",
    "5. Count Frequency of Values in Pandas DataFrame : **df['col'].value_counts()**"
   ]
  },
  {
   "cell_type": "code",
   "execution_count": 38,
   "id": "53afda99",
   "metadata": {},
   "outputs": [
    {
     "data": {
      "text/plain": [
       "3    4\n",
       "4    2\n",
       "7    2\n",
       "8    1\n",
       "9    1\n",
       "dtype: int64"
      ]
     },
     "execution_count": 38,
     "metadata": {},
     "output_type": "execute_result"
    }
   ],
   "source": [
    "#create pandas Series\n",
    "my_series = pd.Series([3, 3, 3, 3, 4, 4, 7, 7, 8, 9])\n",
    "\n",
    "#count occurrences of unique values in Series\n",
    "my_series.value_counts()"
   ]
  },
  {
   "cell_type": "code",
   "execution_count": 39,
   "id": "4db249f5",
   "metadata": {},
   "outputs": [
    {
     "data": {
      "text/plain": [
       "3.0    4\n",
       "7.0    2\n",
       "4.0    2\n",
       "NaN    2\n",
       "8.0    1\n",
       "9.0    1\n",
       "dtype: int64"
      ]
     },
     "execution_count": 39,
     "metadata": {},
     "output_type": "execute_result"
    }
   ],
   "source": [
    "# 2: Count Frequency of Unique Values (Including NaNs)\n",
    "import pandas as pd\n",
    "import numpy as np\n",
    "\n",
    "#create pandas Series with some NaN values\n",
    "my_series = pd.Series([3, 3, 3, 3, 4, 4, 7, 7, 8, 9, np.nan, np.nan])\n",
    "\n",
    "#count occurrences of unique values in Series, including NaNs\n",
    "my_series.value_counts(dropna=False)"
   ]
  },
  {
   "cell_type": "code",
   "execution_count": 40,
   "id": "2dbc9f99",
   "metadata": {},
   "outputs": [
    {
     "data": {
      "text/plain": [
       "3    0.4\n",
       "4    0.2\n",
       "7    0.2\n",
       "8    0.1\n",
       "9    0.1\n",
       "dtype: float64"
      ]
     },
     "execution_count": 40,
     "metadata": {},
     "output_type": "execute_result"
    }
   ],
   "source": [
    "# 3: Count Relative Frequency of Unique Values\n",
    "#create pandas Series\n",
    "my_series = pd.Series([3, 3, 3, 3, 4, 4, 7, 7, 8, 9])\n",
    "\n",
    "#count occurrences of unique values in Series\n",
    "my_series.value_counts(normalize=True)"
   ]
  },
  {
   "cell_type": "code",
   "execution_count": 41,
   "id": "1f36a2b5",
   "metadata": {},
   "outputs": [
    {
     "data": {
      "text/plain": [
       "(2.9930000000000003, 5.0]    6\n",
       "(5.0, 7.0]                   2\n",
       "(7.0, 9.0]                   2\n",
       "dtype: int64"
      ]
     },
     "execution_count": 41,
     "metadata": {},
     "output_type": "execute_result"
    }
   ],
   "source": [
    "# 4: Count Frequency in Bins\n",
    "#create pandas Series\n",
    "my_series = pd.Series([3, 3, 3, 3, 4, 4, 7, 7, 8, 9])\n",
    "\n",
    "#count occurrences of unique values in Series\n",
    "my_series.value_counts(bins=3)"
   ]
  },
  {
   "cell_type": "code",
   "execution_count": 42,
   "id": "f9d0d65f",
   "metadata": {},
   "outputs": [
    {
     "data": {
      "text/plain": [
       "9     3\n",
       "10    2\n",
       "13    1\n",
       "22    1\n",
       "15    1\n",
       "Name: points, dtype: int64"
      ]
     },
     "execution_count": 42,
     "metadata": {},
     "output_type": "execute_result"
    }
   ],
   "source": [
    "# 5: Count Frequency of Values in Pandas DataFrame\n",
    "#create DataFrame\n",
    "df = pd.DataFrame({'points': [9, 9, 9, 10, 10, 13, 15, 22],\n",
    "                   'assists': [5, 7, 7, 9, 12, 9, 9, 4],\n",
    "                   'rebounds': [11, 8, 10, 6, 6, 5, 9, 12]})\n",
    "#count occurrences of unique values in 'points' column\n",
    "df['points'].value_counts()"
   ]
  },
  {
   "cell_type": "markdown",
   "id": "dc40a41f",
   "metadata": {},
   "source": [
    "### How to Use Pandas head() Function \n",
    "1. View first five rows of DataFrame : **df.head()**\n",
    "2. View First n Rows of DataFrame : **df.head(n)**\n",
    "3. View First n Rows of Specific Column : **df['col1'].head()**\n",
    "4. View First n Rows of Several Columns : **df[['col1', 'col2', ....]].head()**\n",
    "\n",
    "### How to Impute Missing Values\n",
    "**df['column_name'] = df['column_name'].interpolate()**"
   ]
  },
  {
   "cell_type": "code",
   "execution_count": 43,
   "id": "282b3a8b",
   "metadata": {},
   "outputs": [
    {
     "name": "stdout",
     "output_type": "stream",
     "text": [
      "N DF \n",
      "     day  sales\n",
      "0     1    3.0\n",
      "1     2    6.0\n",
      "2     3    8.0\n",
      "3     4   10.0\n",
      "4     5   14.0\n",
      "5     6   17.0\n",
      "6     7   20.0\n",
      "7     8    NaN\n",
      "8     9    NaN\n",
      "9    10    NaN\n",
      "10   11    NaN\n",
      "11   12   35.0\n",
      "12   13   39.0\n",
      "13   14   44.0\n",
      "14   15   49.0\n",
      "\n"
     ]
    },
    {
     "data": {
      "text/plain": [
       "<AxesSubplot:>"
      ]
     },
     "execution_count": 43,
     "metadata": {},
     "output_type": "execute_result"
    },
    {
     "data": {
      "image/png": "[encoded data removed]",
      "text/plain": [
       "<Figure size 432x288 with 1 Axes>"
      ]
     },
     "metadata": {
      "needs_background": "light"
     },
     "output_type": "display_data"
    }
   ],
   "source": [
    "#create DataFrame\n",
    "df = pd.DataFrame({'day': [1, 2, 3, 4, 5, 6, 7, 8, 9, 10, 11, 12, 13, 14, 15],\n",
    "                   'sales': [3, 6, 8, 10, 14, 17, 20, np.nan, np.nan, np.nan,\n",
    "                             np.nan, 35, 39, 44, 49]})\n",
    "\n",
    "#view DataFrame\n",
    "print('N DF','\\n',df)\n",
    "print()\n",
    "\n",
    "#create line chart to visualize sales\n",
    "df['sales'].plot()"
   ]
  },
  {
   "cell_type": "code",
   "execution_count": 44,
   "id": "af0b7086",
   "metadata": {},
   "outputs": [
    {
     "name": "stdout",
     "output_type": "stream",
     "text": [
      "    day  sales\n",
      "0     1    3.0\n",
      "1     2    6.0\n",
      "2     3    8.0\n",
      "3     4   10.0\n",
      "4     5   14.0\n",
      "5     6   17.0\n",
      "6     7   20.0\n",
      "7     8   23.0\n",
      "8     9   26.0\n",
      "9    10   29.0\n",
      "10   11   32.0\n",
      "11   12   35.0\n",
      "12   13   39.0\n",
      "13   14   44.0\n",
      "14   15   49.0\n"
     ]
    },
    {
     "data": {
      "text/plain": [
       "<AxesSubplot:>"
      ]
     },
     "execution_count": 44,
     "metadata": {},
     "output_type": "execute_result"
    },
    {
     "data": {
      "image/png": "[encoded data removed]",
      "text/plain": [
       "<Figure size 432x288 with 1 Axes>"
      ]
     },
     "metadata": {
      "needs_background": "light"
     },
     "output_type": "display_data"
    }
   ],
   "source": [
    "#interpolate missing values in 'sales' column\n",
    "df['sales'] = df['sales'].interpolate()\n",
    "\n",
    "#view DataFrame\n",
    "print(df)\n",
    "\n",
    "#create line chart to visualize sales\n",
    "df['sales'].plot()"
   ]
  },
  {
   "cell_type": "markdown",
   "id": "90a9cba7",
   "metadata": {},
   "source": [
    "### How to Count Missing Values\n",
    "1. Count the Total Missing Values in Entire DataFrame : $df.isnull().sum().sum()$\n",
    "2. Count the Total Missing Values per Column : $df.isnull().sum()$\n",
    "3. Missing values as a percentage of the entire column : $df.isnull().sum()/len(df)*100$\n",
    "4. Count the Total Missing Values per Row : $df.isnull().sum(axis=1)$"
   ]
  },
  {
   "cell_type": "code",
   "execution_count": 46,
   "id": "57f1f7b3",
   "metadata": {},
   "outputs": [
    {
     "name": "stdout",
     "output_type": "stream",
     "text": [
      "N DF \n",
      "       a     b     c\n",
      "0   4.0   NaN  11.0\n",
      "1   NaN   6.0   8.0\n",
      "2   NaN   8.0  10.0\n",
      "3   7.0  14.0   6.0\n",
      "4   8.0  29.0   6.0\n",
      "5  12.0   NaN   NaN\n",
      "\n",
      "Total no. missing obs. in entire DF -: 5\n"
     ]
    }
   ],
   "source": [
    "#create DataFrame with some missing values\n",
    "df = pd.DataFrame({'a': [4, np.nan, np.nan, 7, 8, 12],\n",
    "                   'b': [np.nan, 6, 8, 14, 29, np.nan],\n",
    "                   'c': [11, 8, 10, 6, 6, np.nan]})\n",
    "\n",
    "#view DataFrame\n",
    "print('N DF' , '\\n', df)\n",
    "print()\n",
    "\n",
    "# Count the Total Missing Values in Entire DataFrame\n",
    "mv = df.isnull().sum().sum()\n",
    "print(\"Total no. missing obs. in entire DF -:\", mv)"
   ]
  },
  {
   "cell_type": "code",
   "execution_count": 50,
   "id": "cae4f688",
   "metadata": {},
   "outputs": [
    {
     "name": "stdout",
     "output_type": "stream",
     "text": [
      "Total Missing Values per Column -: \n",
      " a    2\n",
      "b    2\n",
      "c    1\n",
      "dtype: int64\n",
      "\n",
      "Total Missing Values % per Column -: \n",
      " a    33.333333\n",
      "b    33.333333\n",
      "c    16.666667\n",
      "dtype: float64\n",
      "\n",
      "Total Missing Values per row -: \n",
      " 0    1\n",
      "1    1\n",
      "2    1\n",
      "3    0\n",
      "4    0\n",
      "5    2\n",
      "dtype: int64\n"
     ]
    }
   ],
   "source": [
    "# Count the Total Missing Values per Column\n",
    "mvc = df.isnull().sum()\n",
    "print(\"Total Missing Values per Column -:\", '\\n', mvc)\n",
    "print()\n",
    "\n",
    "# Number of missing values as a percentage of the entire column:\n",
    "mvp = df.isnull().sum()/len(df)*100\n",
    "print(\"Total Missing Values % per Column -:\", '\\n', mvp)\n",
    "print()\n",
    "\n",
    "# Count the Total Missing Values per Row\n",
    "mvr = df.isnull().sum(axis=1)\n",
    "print(\"Total Missing Values per row -:\", '\\n', mvr)"
   ]
  },
  {
   "cell_type": "markdown",
   "id": "6335fb1f",
   "metadata": {},
   "source": [
    "### How to Count Number of Rows in Pandas DataFrame\n",
    "1. Count number of rows in index column of data frame : $len(df.index)$\n",
    "2. Find length of data frame : $len(df)$\n",
    "3. Find number of rows in data frame : $df.shape[0]$\n",
    "\n",
    "### Create a Date Range in Pandas\n",
    "$$pandas.date_range(start, end, periods, freq, …)$$\n",
    "where , **start:** The start date\n",
    "<br>**end:** The end date\n",
    "<br>**periods:** The number of periods to generate\n",
    "<br>**freq:** The frequency to use (refer to this list for frequency aliases)\n",
    "\n",
    "### How to Filter a Pandas DataFrame by Column Values\n",
    "$$df.query('condition')$$"
   ]
  },
  {
   "cell_type": "code",
   "execution_count": 51,
   "id": "b3463f87",
   "metadata": {},
   "outputs": [
    {
     "name": "stdout",
     "output_type": "stream",
     "text": [
      "N DF -: \n",
      "   team  points  assists  rebounds\n",
      "0    A      25        5        11\n",
      "1    A      12        7         8\n",
      "2    B      15        7        10\n",
      "3    B      14        9         6\n",
      "4    C      19       12         6\n",
      "\n",
      "1. Row of column *points* equal to 15 -: \n",
      "   team  points  assists  rebounds\n",
      "2    B      15        7        10\n",
      "\n",
      "2. Row of column *points* equal to 15 OR 14 -: \n",
      "   team  points  assists  rebounds\n",
      "2    B      15        7        10\n",
      "\n"
     ]
    }
   ],
   "source": [
    "#create DataFrame\n",
    "df = pd.DataFrame({'team': ['A', 'A', 'B', 'B', 'C'],\n",
    "                   'points': [25, 12, 15, 14, 19],\n",
    "                   'assists': [5, 7, 7, 9, 12],\n",
    "                   'rebounds': [11, 8, 10, 6, 6]})\n",
    "\n",
    "#view DataFrame \n",
    "print(\"N DF -:\", '\\n' , df)\n",
    "print()\n",
    "\n",
    "# 1: Filter Based on One Column\n",
    "r15 = df.query('points == 15')\n",
    "print(\"1. Row of column *points* equal to 15 -:\", '\\n', r15)\n",
    "print()\n",
    "\n",
    "# 2: Filter Based on Multiple Columns\n",
    "#return rows where points is equal to 15 or 14\n",
    "df.query('points == 15 | points == 14')\n",
    "print(\"2. Row of column *points* equal to 15 OR 14 -:\", '\\n', r15)\n",
    "print()"
   ]
  },
  {
   "cell_type": "code",
   "execution_count": 53,
   "id": "fc0fb08a",
   "metadata": {},
   "outputs": [
    {
     "data": {
      "text/html": [
       "<div>\n",
       "<style scoped>\n",
       "    .dataframe tbody tr th:only-of-type {\n",
       "        vertical-align: middle;\n",
       "    }\n",
       "\n",
       "    .dataframe tbody tr th {\n",
       "        vertical-align: top;\n",
       "    }\n",
       "\n",
       "    .dataframe thead th {\n",
       "        text-align: right;\n",
       "    }\n",
       "</style>\n",
       "<table border=\"1\" class=\"dataframe\">\n",
       "  <thead>\n",
       "    <tr style=\"text-align: right;\">\n",
       "      <th></th>\n",
       "      <th>team</th>\n",
       "      <th>points</th>\n",
       "      <th>assists</th>\n",
       "      <th>rebounds</th>\n",
       "    </tr>\n",
       "  </thead>\n",
       "  <tbody>\n",
       "    <tr>\n",
       "      <th>0</th>\n",
       "      <td>A</td>\n",
       "      <td>25</td>\n",
       "      <td>5</td>\n",
       "      <td>11</td>\n",
       "    </tr>\n",
       "    <tr>\n",
       "      <th>1</th>\n",
       "      <td>A</td>\n",
       "      <td>12</td>\n",
       "      <td>7</td>\n",
       "      <td>8</td>\n",
       "    </tr>\n",
       "    <tr>\n",
       "      <th>4</th>\n",
       "      <td>C</td>\n",
       "      <td>19</td>\n",
       "      <td>12</td>\n",
       "      <td>6</td>\n",
       "    </tr>\n",
       "  </tbody>\n",
       "</table>\n",
       "</div>"
      ],
      "text/plain": [
       "  team  points  assists  rebounds\n",
       "0    A      25        5        11\n",
       "1    A      12        7         8\n",
       "4    C      19       12         6"
      ]
     },
     "execution_count": 53,
     "metadata": {},
     "output_type": "execute_result"
    }
   ],
   "source": [
    "# 3: Filter Based on Values in a List\n",
    "#define list of values\n",
    "value_list = [12, 19, 25]\n",
    "\n",
    "#return rows where points is in the list of values\n",
    "df.query('points in @value_list')"
   ]
  },
  {
   "cell_type": "code",
   "execution_count": 54,
   "id": "ae8022d7",
   "metadata": {},
   "outputs": [
    {
     "data": {
      "text/html": [
       "<div>\n",
       "<style scoped>\n",
       "    .dataframe tbody tr th:only-of-type {\n",
       "        vertical-align: middle;\n",
       "    }\n",
       "\n",
       "    .dataframe tbody tr th {\n",
       "        vertical-align: top;\n",
       "    }\n",
       "\n",
       "    .dataframe thead th {\n",
       "        text-align: right;\n",
       "    }\n",
       "</style>\n",
       "<table border=\"1\" class=\"dataframe\">\n",
       "  <thead>\n",
       "    <tr style=\"text-align: right;\">\n",
       "      <th></th>\n",
       "      <th>team</th>\n",
       "      <th>points</th>\n",
       "      <th>assists</th>\n",
       "      <th>rebounds</th>\n",
       "    </tr>\n",
       "  </thead>\n",
       "  <tbody>\n",
       "    <tr>\n",
       "      <th>2</th>\n",
       "      <td>B</td>\n",
       "      <td>15</td>\n",
       "      <td>7</td>\n",
       "      <td>10</td>\n",
       "    </tr>\n",
       "    <tr>\n",
       "      <th>3</th>\n",
       "      <td>B</td>\n",
       "      <td>14</td>\n",
       "      <td>9</td>\n",
       "      <td>6</td>\n",
       "    </tr>\n",
       "  </tbody>\n",
       "</table>\n",
       "</div>"
      ],
      "text/plain": [
       "  team  points  assists  rebounds\n",
       "2    B      15        7        10\n",
       "3    B      14        9         6"
      ]
     },
     "execution_count": 54,
     "metadata": {},
     "output_type": "execute_result"
    }
   ],
   "source": [
    "#return rows where points is not in the list of values\n",
    "df.query('points not in @value_list') "
   ]
  },
  {
   "cell_type": "markdown",
   "id": "7115a0a9",
   "metadata": {},
   "source": [
    "### How to Select Rows by Multiple Conditions Using Pandas loc\n",
    "1. Select Rows that Meet Multiple Conditions : **df.loc[((df['col1'] == 'A') & (df['col2'] == 'G'))]**\n",
    "2. Select Rows that Meet One of Multiple Conditions : **df.loc[((df['col1'] > 10) | (df['col2'] < 8))]** "
   ]
  },
  {
   "cell_type": "code",
   "execution_count": 55,
   "id": "ae156e09",
   "metadata": {},
   "outputs": [
    {
     "name": "stdout",
     "output_type": "stream",
     "text": [
      "Normal DF -: \n",
      "   team position  assists  rebounds\n",
      "0    A        G        5        11\n",
      "1    A        G        7         8\n",
      "2    A        F        7        10\n",
      "3    A        F        9         6\n",
      "4    B        G       12         6\n",
      "5    B        G        9         5\n",
      "6    B        F        9         9\n",
      "7    B        F        4        12\n"
     ]
    },
    {
     "data": {
      "text/html": [
       "<div>\n",
       "<style scoped>\n",
       "    .dataframe tbody tr th:only-of-type {\n",
       "        vertical-align: middle;\n",
       "    }\n",
       "\n",
       "    .dataframe tbody tr th {\n",
       "        vertical-align: top;\n",
       "    }\n",
       "\n",
       "    .dataframe thead th {\n",
       "        text-align: right;\n",
       "    }\n",
       "</style>\n",
       "<table border=\"1\" class=\"dataframe\">\n",
       "  <thead>\n",
       "    <tr style=\"text-align: right;\">\n",
       "      <th></th>\n",
       "      <th>team</th>\n",
       "      <th>position</th>\n",
       "      <th>assists</th>\n",
       "      <th>rebounds</th>\n",
       "    </tr>\n",
       "  </thead>\n",
       "  <tbody>\n",
       "    <tr>\n",
       "      <th>0</th>\n",
       "      <td>A</td>\n",
       "      <td>G</td>\n",
       "      <td>5</td>\n",
       "      <td>11</td>\n",
       "    </tr>\n",
       "    <tr>\n",
       "      <th>1</th>\n",
       "      <td>A</td>\n",
       "      <td>G</td>\n",
       "      <td>7</td>\n",
       "      <td>8</td>\n",
       "    </tr>\n",
       "  </tbody>\n",
       "</table>\n",
       "</div>"
      ],
      "text/plain": [
       "  team position  assists  rebounds\n",
       "0    A        G        5        11\n",
       "1    A        G        7         8"
      ]
     },
     "execution_count": 55,
     "metadata": {},
     "output_type": "execute_result"
    }
   ],
   "source": [
    "#create DataFrame\n",
    "df = pd.DataFrame({'team': ['A', 'A', 'A', 'A', 'B', 'B', 'B', 'B'],\n",
    "                   'position': ['G', 'G', 'F', 'F', 'G', 'G', 'F', 'F'],\n",
    "                   'assists': [5, 7, 7, 9, 12, 9, 9, 4],\n",
    "                   'rebounds': [11, 8, 10, 6, 6, 5, 9, 12]})\n",
    "\n",
    "#view DataFrame\n",
    "print(\"Normal DF -:\", '\\n' , df)\n",
    "\n",
    "# 1: Select Rows that Meet Multiple Conditions\n",
    "\n",
    "#select rows where team is equal to 'A' and position is equal to 'G'\n",
    "df.loc[((df['team'] == 'A') & (df['position'] == 'G'))]"
   ]
  },
  {
   "cell_type": "code",
   "execution_count": 56,
   "id": "0ec3e0b4",
   "metadata": {},
   "outputs": [
    {
     "data": {
      "text/html": [
       "<div>\n",
       "<style scoped>\n",
       "    .dataframe tbody tr th:only-of-type {\n",
       "        vertical-align: middle;\n",
       "    }\n",
       "\n",
       "    .dataframe tbody tr th {\n",
       "        vertical-align: top;\n",
       "    }\n",
       "\n",
       "    .dataframe thead th {\n",
       "        text-align: right;\n",
       "    }\n",
       "</style>\n",
       "<table border=\"1\" class=\"dataframe\">\n",
       "  <thead>\n",
       "    <tr style=\"text-align: right;\">\n",
       "      <th></th>\n",
       "      <th>team</th>\n",
       "      <th>position</th>\n",
       "      <th>assists</th>\n",
       "      <th>rebounds</th>\n",
       "    </tr>\n",
       "  </thead>\n",
       "  <tbody>\n",
       "    <tr>\n",
       "      <th>3</th>\n",
       "      <td>A</td>\n",
       "      <td>F</td>\n",
       "      <td>9</td>\n",
       "      <td>6</td>\n",
       "    </tr>\n",
       "    <tr>\n",
       "      <th>4</th>\n",
       "      <td>B</td>\n",
       "      <td>G</td>\n",
       "      <td>12</td>\n",
       "      <td>6</td>\n",
       "    </tr>\n",
       "    <tr>\n",
       "      <th>5</th>\n",
       "      <td>B</td>\n",
       "      <td>G</td>\n",
       "      <td>9</td>\n",
       "      <td>5</td>\n",
       "    </tr>\n",
       "  </tbody>\n",
       "</table>\n",
       "</div>"
      ],
      "text/plain": [
       "  team position  assists  rebounds\n",
       "3    A        F        9         6\n",
       "4    B        G       12         6\n",
       "5    B        G        9         5"
      ]
     },
     "execution_count": 56,
     "metadata": {},
     "output_type": "execute_result"
    }
   ],
   "source": [
    "# 2: Select Rows that Meet One of Multiple Conditions\n",
    "\n",
    "#select rows where assists is greater than 10 or rebounds is less than 8\n",
    "df.loc[((df['assists'] > 10) | (df['rebounds'] < 8))]"
   ]
  },
  {
   "cell_type": "markdown",
   "id": "37875b00",
   "metadata": {},
   "source": [
    "### Pandas loc vs. iloc: What’s the Difference?\n",
    "When it comes to selecting rows and columns of a pandas DataFrame, **loc** and **iloc** are two commonly used functions.\n",
    "<br>Here is the subtle difference between the two functions:\n",
    "1. **loc** selects rows and columns with specific labels\n",
    "2. **iloc** selects rows and columns at specific integer positions"
   ]
  },
  {
   "cell_type": "code",
   "execution_count": 57,
   "id": "254829ea",
   "metadata": {},
   "outputs": [
    {
     "name": "stdout",
     "output_type": "stream",
     "text": [
      "Normal DF -: \n",
      "   team  points  assists\n",
      "A    A       5       11\n",
      "B    A       7        8\n",
      "C    A       7       10\n",
      "D    A       9        6\n",
      "E    B      12        6\n",
      "F    B       9        5\n",
      "G    B       9        9\n",
      "H    B       4       12\n",
      "\n"
     ]
    },
    {
     "data": {
      "text/html": [
       "<div>\n",
       "<style scoped>\n",
       "    .dataframe tbody tr th:only-of-type {\n",
       "        vertical-align: middle;\n",
       "    }\n",
       "\n",
       "    .dataframe tbody tr th {\n",
       "        vertical-align: top;\n",
       "    }\n",
       "\n",
       "    .dataframe thead th {\n",
       "        text-align: right;\n",
       "    }\n",
       "</style>\n",
       "<table border=\"1\" class=\"dataframe\">\n",
       "  <thead>\n",
       "    <tr style=\"text-align: right;\">\n",
       "      <th></th>\n",
       "      <th>team</th>\n",
       "      <th>points</th>\n",
       "      <th>assists</th>\n",
       "    </tr>\n",
       "  </thead>\n",
       "  <tbody>\n",
       "    <tr>\n",
       "      <th>E</th>\n",
       "      <td>B</td>\n",
       "      <td>12</td>\n",
       "      <td>6</td>\n",
       "    </tr>\n",
       "    <tr>\n",
       "      <th>F</th>\n",
       "      <td>B</td>\n",
       "      <td>9</td>\n",
       "      <td>5</td>\n",
       "    </tr>\n",
       "  </tbody>\n",
       "</table>\n",
       "</div>"
      ],
      "text/plain": [
       "  team  points  assists\n",
       "E    B      12        6\n",
       "F    B       9        5"
      ]
     },
     "execution_count": 57,
     "metadata": {},
     "output_type": "execute_result"
    }
   ],
   "source": [
    "#create DataFrame\n",
    "df = pd.DataFrame({'team': ['A', 'A', 'A', 'A', 'B', 'B', 'B', 'B'],\n",
    "                   'points': [5, 7, 7, 9, 12, 9, 9, 4],\n",
    "                   'assists': [11, 8, 10, 6, 6, 5, 9, 12]},\n",
    "                   index=['A', 'B', 'C', 'D', 'E', 'F', 'G', 'H'])\n",
    "\n",
    "#view DataFrame\n",
    "print(\"Normal DF -:\", '\\n' , df)\n",
    "print()\n",
    "\n",
    "# loc to select specific rows of the DataFrame based on their index labels:\n",
    "\n",
    "#select rows with index labels 'E' and 'F'\n",
    "df.loc[['E', 'F']]"
   ]
  },
  {
   "cell_type": "code",
   "execution_count": 58,
   "id": "6756ed33",
   "metadata": {},
   "outputs": [
    {
     "data": {
      "text/html": [
       "<div>\n",
       "<style scoped>\n",
       "    .dataframe tbody tr th:only-of-type {\n",
       "        vertical-align: middle;\n",
       "    }\n",
       "\n",
       "    .dataframe tbody tr th {\n",
       "        vertical-align: top;\n",
       "    }\n",
       "\n",
       "    .dataframe thead th {\n",
       "        text-align: right;\n",
       "    }\n",
       "</style>\n",
       "<table border=\"1\" class=\"dataframe\">\n",
       "  <thead>\n",
       "    <tr style=\"text-align: right;\">\n",
       "      <th></th>\n",
       "      <th>team</th>\n",
       "      <th>points</th>\n",
       "      <th>assists</th>\n",
       "    </tr>\n",
       "  </thead>\n",
       "  <tbody>\n",
       "    <tr>\n",
       "      <th>E</th>\n",
       "      <td>B</td>\n",
       "      <td>12</td>\n",
       "      <td>6</td>\n",
       "    </tr>\n",
       "    <tr>\n",
       "      <th>F</th>\n",
       "      <td>B</td>\n",
       "      <td>9</td>\n",
       "      <td>5</td>\n",
       "    </tr>\n",
       "    <tr>\n",
       "      <th>G</th>\n",
       "      <td>B</td>\n",
       "      <td>9</td>\n",
       "      <td>9</td>\n",
       "    </tr>\n",
       "    <tr>\n",
       "      <th>H</th>\n",
       "      <td>B</td>\n",
       "      <td>4</td>\n",
       "      <td>12</td>\n",
       "    </tr>\n",
       "  </tbody>\n",
       "</table>\n",
       "</div>"
      ],
      "text/plain": [
       "  team  points  assists\n",
       "E    B      12        6\n",
       "F    B       9        5\n",
       "G    B       9        9\n",
       "H    B       4       12"
      ]
     },
     "execution_count": 58,
     "metadata": {},
     "output_type": "execute_result"
    }
   ],
   "source": [
    "# loc with the : argument to select ranges of rows and columns based on their labels:\n",
    "\n",
    "#select 'E' and 'F' rows and 'team' and 'assists' columns\n",
    "df.loc['E': , :'assists']"
   ]
  },
  {
   "cell_type": "code",
   "execution_count": 59,
   "id": "39eab10a",
   "metadata": {},
   "outputs": [
    {
     "data": {
      "text/html": [
       "<div>\n",
       "<style scoped>\n",
       "    .dataframe tbody tr th:only-of-type {\n",
       "        vertical-align: middle;\n",
       "    }\n",
       "\n",
       "    .dataframe tbody tr th {\n",
       "        vertical-align: top;\n",
       "    }\n",
       "\n",
       "    .dataframe thead th {\n",
       "        text-align: right;\n",
       "    }\n",
       "</style>\n",
       "<table border=\"1\" class=\"dataframe\">\n",
       "  <thead>\n",
       "    <tr style=\"text-align: right;\">\n",
       "      <th></th>\n",
       "      <th>team</th>\n",
       "      <th>points</th>\n",
       "      <th>assists</th>\n",
       "    </tr>\n",
       "  </thead>\n",
       "  <tbody>\n",
       "    <tr>\n",
       "      <th>E</th>\n",
       "      <td>B</td>\n",
       "      <td>12</td>\n",
       "      <td>6</td>\n",
       "    </tr>\n",
       "    <tr>\n",
       "      <th>F</th>\n",
       "      <td>B</td>\n",
       "      <td>9</td>\n",
       "      <td>5</td>\n",
       "    </tr>\n",
       "  </tbody>\n",
       "</table>\n",
       "</div>"
      ],
      "text/plain": [
       "  team  points  assists\n",
       "E    B      12        6\n",
       "F    B       9        5"
      ]
     },
     "execution_count": 59,
     "metadata": {},
     "output_type": "execute_result"
    }
   ],
   "source": [
    "# 2: How to Use iloc in Pandas\n",
    "\n",
    "# iloc to select specific rows of the DataFrame based on their integer position:\n",
    "\n",
    "#select rows in index positions 4 through 6 (not including 6)\n",
    "df.iloc[4:6]"
   ]
  },
  {
   "cell_type": "code",
   "execution_count": 60,
   "id": "a3a00afb",
   "metadata": {},
   "outputs": [
    {
     "data": {
      "text/html": [
       "<div>\n",
       "<style scoped>\n",
       "    .dataframe tbody tr th:only-of-type {\n",
       "        vertical-align: middle;\n",
       "    }\n",
       "\n",
       "    .dataframe tbody tr th {\n",
       "        vertical-align: top;\n",
       "    }\n",
       "\n",
       "    .dataframe thead th {\n",
       "        text-align: right;\n",
       "    }\n",
       "</style>\n",
       "<table border=\"1\" class=\"dataframe\">\n",
       "  <thead>\n",
       "    <tr style=\"text-align: right;\">\n",
       "      <th></th>\n",
       "      <th>team</th>\n",
       "      <th>points</th>\n",
       "    </tr>\n",
       "  </thead>\n",
       "  <tbody>\n",
       "    <tr>\n",
       "      <th>E</th>\n",
       "      <td>B</td>\n",
       "      <td>12</td>\n",
       "    </tr>\n",
       "    <tr>\n",
       "      <th>F</th>\n",
       "      <td>B</td>\n",
       "      <td>9</td>\n",
       "    </tr>\n",
       "  </tbody>\n",
       "</table>\n",
       "</div>"
      ],
      "text/plain": [
       "  team  points\n",
       "E    B      12\n",
       "F    B       9"
      ]
     },
     "execution_count": 60,
     "metadata": {},
     "output_type": "execute_result"
    }
   ],
   "source": [
    "# iloc to select specific rows and specific columns of the DataFrame based on their index positions:\n",
    "\n",
    "#select rows in range 4 through 6 and columns in range 0 through 2\n",
    "df.iloc[4:6, 0:2]"
   ]
  },
  {
   "cell_type": "code",
   "execution_count": 61,
   "id": "82300f50",
   "metadata": {},
   "outputs": [
    {
     "data": {
      "text/html": [
       "<div>\n",
       "<style scoped>\n",
       "    .dataframe tbody tr th:only-of-type {\n",
       "        vertical-align: middle;\n",
       "    }\n",
       "\n",
       "    .dataframe tbody tr th {\n",
       "        vertical-align: top;\n",
       "    }\n",
       "\n",
       "    .dataframe thead th {\n",
       "        text-align: right;\n",
       "    }\n",
       "</style>\n",
       "<table border=\"1\" class=\"dataframe\">\n",
       "  <thead>\n",
       "    <tr style=\"text-align: right;\">\n",
       "      <th></th>\n",
       "      <th>team</th>\n",
       "      <th>points</th>\n",
       "      <th>assists</th>\n",
       "    </tr>\n",
       "  </thead>\n",
       "  <tbody>\n",
       "    <tr>\n",
       "      <th>E</th>\n",
       "      <td>B</td>\n",
       "      <td>12</td>\n",
       "      <td>6</td>\n",
       "    </tr>\n",
       "    <tr>\n",
       "      <th>F</th>\n",
       "      <td>B</td>\n",
       "      <td>9</td>\n",
       "      <td>5</td>\n",
       "    </tr>\n",
       "    <tr>\n",
       "      <th>G</th>\n",
       "      <td>B</td>\n",
       "      <td>9</td>\n",
       "      <td>9</td>\n",
       "    </tr>\n",
       "    <tr>\n",
       "      <th>H</th>\n",
       "      <td>B</td>\n",
       "      <td>4</td>\n",
       "      <td>12</td>\n",
       "    </tr>\n",
       "  </tbody>\n",
       "</table>\n",
       "</div>"
      ],
      "text/plain": [
       "  team  points  assists\n",
       "E    B      12        6\n",
       "F    B       9        5\n",
       "G    B       9        9\n",
       "H    B       4       12"
      ]
     },
     "execution_count": 61,
     "metadata": {},
     "output_type": "execute_result"
    }
   ],
   "source": [
    "# iloc with the : argument to select ranges of rows and columns based on their labels:\n",
    "\n",
    "#select rows from 4 through end of rows and columns up to third column\n",
    "df.iloc[4: , :3]"
   ]
  },
  {
   "cell_type": "markdown",
   "id": "0c0884d2",
   "metadata": {},
   "source": [
    "### How to Use “NOT IN” Filter\n",
    "**df[~df['col_name'].isin(values_list)]**"
   ]
  },
  {
   "cell_type": "code",
   "execution_count": 62,
   "id": "e1c58c67",
   "metadata": {},
   "outputs": [
    {
     "data": {
      "text/html": [
       "<div>\n",
       "<style scoped>\n",
       "    .dataframe tbody tr th:only-of-type {\n",
       "        vertical-align: middle;\n",
       "    }\n",
       "\n",
       "    .dataframe tbody tr th {\n",
       "        vertical-align: top;\n",
       "    }\n",
       "\n",
       "    .dataframe thead th {\n",
       "        text-align: right;\n",
       "    }\n",
       "</style>\n",
       "<table border=\"1\" class=\"dataframe\">\n",
       "  <thead>\n",
       "    <tr style=\"text-align: right;\">\n",
       "      <th></th>\n",
       "      <th>team</th>\n",
       "      <th>points</th>\n",
       "      <th>assists</th>\n",
       "      <th>rebounds</th>\n",
       "    </tr>\n",
       "  </thead>\n",
       "  <tbody>\n",
       "    <tr>\n",
       "      <th>6</th>\n",
       "      <td>C</td>\n",
       "      <td>25</td>\n",
       "      <td>9</td>\n",
       "      <td>9</td>\n",
       "    </tr>\n",
       "    <tr>\n",
       "      <th>7</th>\n",
       "      <td>C</td>\n",
       "      <td>29</td>\n",
       "      <td>4</td>\n",
       "      <td>12</td>\n",
       "    </tr>\n",
       "  </tbody>\n",
       "</table>\n",
       "</div>"
      ],
      "text/plain": [
       "  team  points  assists  rebounds\n",
       "6    C      25        9         9\n",
       "7    C      29        4        12"
      ]
     },
     "execution_count": 62,
     "metadata": {},
     "output_type": "execute_result"
    }
   ],
   "source": [
    "# 1: Perform “NOT IN” Filter with One Column\n",
    "\n",
    "#create DataFrame\n",
    "df = pd.DataFrame({'team': ['A', 'A', 'B', 'B', 'B', 'B', 'C', 'C'],\n",
    "                   'points': [25, 12, 15, 14, 19, 23, 25, 29],\n",
    "                   'assists': [5, 7, 7, 9, 12, 9, 9, 4],\n",
    "                   'rebounds': [11, 8, 10, 6, 6, 5, 9, 12]})\n",
    "\n",
    "#define list of teams we don't want\n",
    "values_list = ['A', 'B']\n",
    "\n",
    "#filter for rows where team name is not in list\n",
    "df[~df['team'].isin(values_list)]"
   ]
  },
  {
   "cell_type": "code",
   "execution_count": 63,
   "id": "b2c39f3c",
   "metadata": {},
   "outputs": [
    {
     "data": {
      "text/html": [
       "<div>\n",
       "<style scoped>\n",
       "    .dataframe tbody tr th:only-of-type {\n",
       "        vertical-align: middle;\n",
       "    }\n",
       "\n",
       "    .dataframe tbody tr th {\n",
       "        vertical-align: top;\n",
       "    }\n",
       "\n",
       "    .dataframe thead th {\n",
       "        text-align: right;\n",
       "    }\n",
       "</style>\n",
       "<table border=\"1\" class=\"dataframe\">\n",
       "  <thead>\n",
       "    <tr style=\"text-align: right;\">\n",
       "      <th></th>\n",
       "      <th>team</th>\n",
       "      <th>points</th>\n",
       "      <th>assists</th>\n",
       "      <th>rebounds</th>\n",
       "    </tr>\n",
       "  </thead>\n",
       "  <tbody>\n",
       "    <tr>\n",
       "      <th>0</th>\n",
       "      <td>A</td>\n",
       "      <td>25</td>\n",
       "      <td>5</td>\n",
       "      <td>11</td>\n",
       "    </tr>\n",
       "    <tr>\n",
       "      <th>1</th>\n",
       "      <td>A</td>\n",
       "      <td>12</td>\n",
       "      <td>7</td>\n",
       "      <td>8</td>\n",
       "    </tr>\n",
       "    <tr>\n",
       "      <th>2</th>\n",
       "      <td>B</td>\n",
       "      <td>15</td>\n",
       "      <td>7</td>\n",
       "      <td>10</td>\n",
       "    </tr>\n",
       "    <tr>\n",
       "      <th>3</th>\n",
       "      <td>B</td>\n",
       "      <td>14</td>\n",
       "      <td>9</td>\n",
       "      <td>6</td>\n",
       "    </tr>\n",
       "    <tr>\n",
       "      <th>4</th>\n",
       "      <td>B</td>\n",
       "      <td>19</td>\n",
       "      <td>12</td>\n",
       "      <td>6</td>\n",
       "    </tr>\n",
       "    <tr>\n",
       "      <th>5</th>\n",
       "      <td>B</td>\n",
       "      <td>23</td>\n",
       "      <td>9</td>\n",
       "      <td>5</td>\n",
       "    </tr>\n",
       "    <tr>\n",
       "      <th>6</th>\n",
       "      <td>C</td>\n",
       "      <td>25</td>\n",
       "      <td>9</td>\n",
       "      <td>9</td>\n",
       "    </tr>\n",
       "    <tr>\n",
       "      <th>7</th>\n",
       "      <td>C</td>\n",
       "      <td>29</td>\n",
       "      <td>4</td>\n",
       "      <td>12</td>\n",
       "    </tr>\n",
       "  </tbody>\n",
       "</table>\n",
       "</div>"
      ],
      "text/plain": [
       "  team  points  assists  rebounds\n",
       "0    A      25        5        11\n",
       "1    A      12        7         8\n",
       "2    B      15        7        10\n",
       "3    B      14        9         6\n",
       "4    B      19       12         6\n",
       "5    B      23        9         5\n",
       "6    C      25        9         9\n",
       "7    C      29        4        12"
      ]
     },
     "execution_count": 63,
     "metadata": {},
     "output_type": "execute_result"
    }
   ],
   "source": [
    "#define list of values we don't want\n",
    "values_list = [12, 15, 25]\n",
    "\n",
    "#filter for rows where team name is not in list\n",
    "df[~df['team'].isin(values_list)]"
   ]
  },
  {
   "cell_type": "code",
   "execution_count": 64,
   "id": "1ba2b801",
   "metadata": {},
   "outputs": [
    {
     "data": {
      "text/html": [
       "<div>\n",
       "<style scoped>\n",
       "    .dataframe tbody tr th:only-of-type {\n",
       "        vertical-align: middle;\n",
       "    }\n",
       "\n",
       "    .dataframe tbody tr th {\n",
       "        vertical-align: top;\n",
       "    }\n",
       "\n",
       "    .dataframe thead th {\n",
       "        text-align: right;\n",
       "    }\n",
       "</style>\n",
       "<table border=\"1\" class=\"dataframe\">\n",
       "  <thead>\n",
       "    <tr style=\"text-align: right;\">\n",
       "      <th></th>\n",
       "      <th>star_team</th>\n",
       "      <th>backup_team</th>\n",
       "      <th>points</th>\n",
       "      <th>assists</th>\n",
       "      <th>rebounds</th>\n",
       "    </tr>\n",
       "  </thead>\n",
       "  <tbody>\n",
       "    <tr>\n",
       "      <th>0</th>\n",
       "      <td>A</td>\n",
       "      <td>B</td>\n",
       "      <td>25</td>\n",
       "      <td>5</td>\n",
       "      <td>11</td>\n",
       "    </tr>\n",
       "    <tr>\n",
       "      <th>1</th>\n",
       "      <td>A</td>\n",
       "      <td>B</td>\n",
       "      <td>12</td>\n",
       "      <td>7</td>\n",
       "      <td>8</td>\n",
       "    </tr>\n",
       "    <tr>\n",
       "      <th>4</th>\n",
       "      <td>B</td>\n",
       "      <td>D</td>\n",
       "      <td>19</td>\n",
       "      <td>12</td>\n",
       "      <td>6</td>\n",
       "    </tr>\n",
       "    <tr>\n",
       "      <th>5</th>\n",
       "      <td>B</td>\n",
       "      <td>D</td>\n",
       "      <td>23</td>\n",
       "      <td>9</td>\n",
       "      <td>5</td>\n",
       "    </tr>\n",
       "  </tbody>\n",
       "</table>\n",
       "</div>"
      ],
      "text/plain": [
       "  star_team backup_team  points  assists  rebounds\n",
       "0         A           B      25        5        11\n",
       "1         A           B      12        7         8\n",
       "4         B           D      19       12         6\n",
       "5         B           D      23        9         5"
      ]
     },
     "execution_count": 64,
     "metadata": {},
     "output_type": "execute_result"
    }
   ],
   "source": [
    "# 2: Perform “NOT IN” Filter with Multiple Columns\n",
    "\n",
    "#create DataFrame\n",
    "df = pd.DataFrame({'star_team': ['A', 'A', 'B', 'B', 'B', 'B', 'C', 'C'],\n",
    "                   'backup_team': ['B', 'B', 'C', 'C', 'D', 'D', 'D', 'E'],\n",
    "                   'points': [25, 12, 15, 14, 19, 23, 25, 29],\n",
    "                   'assists': [5, 7, 7, 9, 12, 9, 9, 4],\n",
    "                   'rebounds': [11, 8, 10, 6, 6, 5, 9, 12]})\n",
    "\n",
    "#define list of teams we don't want\n",
    "values_list = ['C', 'E']\n",
    "\n",
    "#filter for rows where team name is not in one of several columns\n",
    "df[~df[['star_team', 'backup_team']].isin(values_list).any(axis=1)] "
   ]
  },
  {
   "cell_type": "markdown",
   "id": "f0f8fb91",
   "metadata": {},
   "source": [
    "### How to Split String Column in Pandas into Multiple Columns\n",
    "1. split column A into two columns: column A and column B : **df[['A', 'B']] = df['A'].str.split(',', 1, expand=True)**\n",
    "\n",
    "### How to Convert a Numpy Array Pandas DataFrame\n",
    "1. Create a Numpy Array : **np.array([[1,7,6,7,6],[4,4,5,6,2]])**\n",
    "<br>> Convert Numpyarray to pandas Df : **pd.DataFrame(data=array_name)**"
   ]
  },
  {
   "cell_type": "code",
   "execution_count": 3,
   "id": "d338943b",
   "metadata": {},
   "outputs": [
    {
     "name": "stdout",
     "output_type": "stream",
     "text": [
      "Array -: [[1 7 6 5 6]\n",
      " [4 4 4 3 1]]\n",
      "\n",
      "DataFrame of Array -: \n",
      "    0  1  2  3  4\n",
      "0  1  7  6  5  6\n",
      "1  4  4  4  3  1\n",
      "\n",
      "Modified DF \n",
      "     A  B  C  D  E\n",
      "r1  1  7  6  5  6\n",
      "r2  4  4  4  3  1\n"
     ]
    }
   ],
   "source": [
    "import numpy as np\n",
    "\n",
    "#create NumPy array\n",
    "data = np.array([[1, 7, 6, 5, 6], [4, 4, 4, 3, 1]])\n",
    "\n",
    "#print NumPy array\n",
    "print('Array -:',data)\n",
    "print()\n",
    "\n",
    "import pandas as pd\n",
    "\n",
    "#convert NumPy array to pandas DataFrame\n",
    "df = pd.DataFrame(data=data)\n",
    "\n",
    "#print DataFrame\n",
    "print('DataFrame of Array -:','\\n',df)\n",
    "print()\n",
    "\n",
    "#convert array to DataFrame and specify rows & columns\n",
    "df = pd.DataFrame(data=data, index=[\"r1\", \"r2\"], columns=[\"A\", \"B\", \"C\", \"D\", \"E\"])\n",
    "\n",
    "#print the DataFrame\n",
    "print('Modified DF','\\n', df)      "
   ]
  },
  {
   "cell_type": "markdown",
   "id": "607f875b",
   "metadata": {},
   "source": [
    "### How to Convert Categorical Variable to Numeric in Pandas\n",
    "1. Convert a categorical variable to a numeric variable in a pandas DataFrame : **df['column_name'] = pd.factorize(df['column_name'])[0]**\n",
    "2. Identify all categorical variables : **cat_columns = df.select_dtypes(['object']).columns**\n",
    "3. convert all categorical variables to numeric : **df[cat_columns] = df[cat_columns].apply(lambda x: pd.factorize(x)[0])**"
   ]
  },
  {
   "cell_type": "code",
   "execution_count": 1,
   "id": "9c353f75",
   "metadata": {},
   "outputs": [
    {
     "name": "stdout",
     "output_type": "stream",
     "text": [
      "Normal DF -: \n",
      "   team position  points  rebounds\n",
      "0    A        G       5        11\n",
      "1    A        G       7         8\n",
      "2    A        F       7        10\n",
      "3    B        G       9         6\n",
      "4    B        F      12         6\n",
      "5    B        C       9         5\n",
      "6    C        G       9         9\n",
      "7    C        F       4        12\n",
      "8    C        C      13        10\n",
      "\n",
      "Updated Data Frame -: \n",
      "    team position  points  rebounds\n",
      "0     0        G       5        11\n",
      "1     0        G       7         8\n",
      "2     0        F       7        10\n",
      "3     1        G       9         6\n",
      "4     1        F      12         6\n",
      "5     1        C       9         5\n",
      "6     2        G       9         9\n",
      "7     2        F       4        12\n",
      "8     2        C      13        10\n"
     ]
    }
   ],
   "source": [
    "import pandas as pd\n",
    "\n",
    "#create DataFrame\n",
    "df = pd.DataFrame({'team': ['A', 'A', 'A', 'B', 'B', 'B', 'C', 'C', 'C'],\n",
    "                   'position': ['G', 'G', 'F', 'G', 'F', 'C', 'G', 'F', 'C'],\n",
    "                   'points': [5, 7, 7, 9, 12, 9, 9, 4, 13],\n",
    "                   'rebounds': [11, 8, 10, 6, 6, 5, 9, 12, 10]})\n",
    "\n",
    "#view DataFrame\n",
    "print(\"Normal DF -:\" , '\\n', df)\n",
    "print()\n",
    "\n",
    "# Convert 'team' column to numeric\n",
    "df['team'] = pd.factorize(df['team'])[0]\n",
    "\n",
    "# view updated DF\n",
    "print(\"Updated Data Frame -:\" , '\\n' , df)"
   ]
  },
  {
   "cell_type": "code",
   "execution_count": 2,
   "id": "3b5b5d99",
   "metadata": {},
   "outputs": [
    {
     "name": "stdout",
     "output_type": "stream",
     "text": [
      "Multiple Categorical Data Frame -: \n",
      "   team position  points  rebounds\n",
      "0    A        G       5        11\n",
      "1    A        G       7         8\n",
      "2    A        F       7        10\n",
      "3    B        G       9         6\n",
      "4    B        F      12         6\n",
      "5    B        C       9         5\n",
      "6    C        G       9         9\n",
      "7    C        F       4        12\n",
      "8    C        C      13        10\n",
      "\n",
      "All Categoical Columns \n",
      " Index(['team', 'position'], dtype='object')\n",
      "\n",
      "Updated Data Frame -: \n",
      "    team  position  points  rebounds\n",
      "0     0         0       5        11\n",
      "1     0         0       7         8\n",
      "2     0         1       7        10\n",
      "3     1         0       9         6\n",
      "4     1         1      12         6\n",
      "5     1         2       9         5\n",
      "6     2         0       9         9\n",
      "7     2         1       4        12\n",
      "8     2         2      13        10\n"
     ]
    }
   ],
   "source": [
    "# Convert Multiple Categorical Variables to Numeric\n",
    "#create DataFrame\n",
    "df = pd.DataFrame({'team': ['A', 'A', 'A', 'B', 'B', 'B', 'C', 'C', 'C'],\n",
    "                   'position': ['G', 'G', 'F', 'G', 'F', 'C', 'G', 'F', 'C'],\n",
    "                   'points': [5, 7, 7, 9, 12, 9, 9, 4, 13],\n",
    "                   'rebounds': [11, 8, 10, 6, 6, 5, 9, 12, 10]})\n",
    "\n",
    "#view DataFrame\n",
    "print(\"Multiple Categorical Data Frame -:\", '\\n', df)\n",
    "print()\n",
    "\n",
    "# Get all Categorical Columns\n",
    "cat_col = df.select_dtypes(['object']).columns\n",
    "print('All Categoical Columns', '\\n', cat_col)\n",
    "print()\n",
    "\n",
    "# Convert all Categorical columns to numeric\n",
    "df[cat_col] = df[cat_col].apply(lambda x : pd.factorize(x)[0])\n",
    "\n",
    "# Updated Data Frame\n",
    "print(\"Updated Data Frame -:\", '\\n' , df)"
   ]
  },
  {
   "cell_type": "markdown",
   "id": "0b1e86cb",
   "metadata": {},
   "source": [
    "### How to Add Row to Matrix in Numpy\n",
    "1. Add new_row to current_matrix : **current_matrix = np.vstack([current_matrix, new_row])**\n",
    "2. Anly add rows where first element is less than 10 : **current_matrix = np.vstack((current_matrix, new_rows[new_rows[:,0] < 10]))**"
   ]
  },
  {
   "cell_type": "code",
   "execution_count": 4,
   "id": "10f95625",
   "metadata": {},
   "outputs": [
    {
     "name": "stdout",
     "output_type": "stream",
     "text": [
      "1st Matrix - : \n",
      " [[1 2 3]\n",
      " [4 5 6]\n",
      " [7 8 9]]\n",
      "\n",
      "Row added Matrix -: \n",
      " [[ 1  2  3]\n",
      " [ 4  5  6]\n",
      " [ 7  8  9]\n",
      " [10 11 12]]\n"
     ]
    }
   ],
   "source": [
    "#define matrix\n",
    "import numpy as np\n",
    "\n",
    "current_matrix = np.array([[1 ,2 ,3], [4, 5, 6], [7, 8, 9]])\n",
    "\n",
    "print(\"1st Matrix - :\", '\\n', current_matrix)\n",
    "print()\n",
    "\n",
    "#define row to add\n",
    "new_row = np.array([10, 11, 12])\n",
    "\n",
    "#add new row to matrix\n",
    "current_matrix = np.vstack([current_matrix, new_row])\n",
    "\n",
    "#view updated matrix\n",
    "print(\"Row added Matrix -:\" , '\\n' , current_matrix)"
   ]
  },
  {
   "cell_type": "code",
   "execution_count": 5,
   "id": "d1c1788e",
   "metadata": {},
   "outputs": [
    {
     "data": {
      "text/plain": [
       "array([[ 1,  2,  3],\n",
       "       [ 4,  5,  6],\n",
       "       [ 7,  8,  9],\n",
       "       [ 6,  8, 10],\n",
       "       [ 8, 10, 12]])"
      ]
     },
     "execution_count": 5,
     "metadata": {},
     "output_type": "execute_result"
    }
   ],
   "source": [
    "# Add Rows to Matrix Based on Condition\n",
    "#define matrix\n",
    "current_matrix = np.array([[1, 2, 3], [4, 5, 6], [7, 8, 9]])\n",
    "\n",
    "#define potential new rows to add\n",
    "new_rows = np.array([[6, 8, 10], [8, 10, 12], [10, 12, 14]])\n",
    "\n",
    "#only add rows where first element in row is less than 10\n",
    "current_matrix = np.vstack((current_matrix, new_rows[new_rows[:,0] < 10]))\n",
    "\n",
    "#view updated matrix\n",
    "current_matrix"
   ]
  },
  {
   "cell_type": "markdown",
   "id": "856b8be5",
   "metadata": {},
   "source": [
    "### Dot Product Using NumPy\n",
    "$$np.dot(a, b)$$\n",
    "\n",
    "###  Calculate the Magnitude of a Vector Using NumPy\n",
    "1. Use linalg.norm() : **np.linalg.norm(v)**\n",
    "2. Use Custom NumPy Functions : **np.sqrt(x.dot(x))**\n",
    "\n",
    "### Find Index of Value in Numpy\n",
    "1. Find All Index Positions of Value : $np.where(x==value)$\n",
    "2. Find First Index Position of Value : $np.where(x==value)[0][0]$\n",
    "3. Find First Index Position of Several Values :\n",
    "<br>*define values of interest* : **vals = np.array([value1, value2, value3])**\n",
    "<br>*find index location of first occurrence of each value of interest* : **sorter = np.argsort(x)**\n",
    "<br>**sorter[np.searchsorted(x, vals, sorter=sorter)]**\n",
    "\n",
    "### How to Select Rows by Index in a Pandas DataFrame\n",
    "1. If you’d like to select rows based on integer indexing, you can use the **df.iloc[[col1_index , col2_indec,...]]** function. *OR* **df.iloc[[col1_index : colr_indec]]**\n",
    "2. If you’d like to select rows based on label indexing, you can use the **df.loc[[col1_index , col2_indec,...]]** function. *OR* **df.loc[[col1_index : colr_indec]]**\n",
    "\n",
    "**The Difference Between .iloc and .loc -**\n",
    "<br>$\\star$ **.iloc** selects rows based on an **integer index**. So, if you want to select the 5th row in a DataFrame, you would use df.iloc[[4]] since the first row is at index 0, the second row is at index 1, and so on.\n",
    "<br>$\\star$ **.loc** selects rows based on a **labeled index**. So, if you want to select the row with an index label of 5, you would directly use df.loc[[5]].\n",
    "\n",
    "### How to Select Rows Based on Column Values\n",
    "1. Select Rows where Column is Equal to Specific Value : **df.loc[df['col1'] == value]**\n",
    "2. Select Rows where Column Value is in List of Values : **df.loc[df['col1'].isin([value1, value2, value3, ...])]**\n",
    "3. Select Rows Based on Multiple Column Conditions : **df.loc[(df['col1'] == value) & (df['col2'] < value)]**\n",
    "\n",
    "### How to Make a Scatterplot From a Pandas DataFrame\n",
    "1. Use pandas.DataFrame.plot.scatter\n",
    "<br>**import pandas as pd\n",
    "<br>df.plot.scatter(x = 'x_column_name', y = 'y_columnn_name')**\n",
    "2. Use matplotlib.pyplot.scatter\n",
    "<br>**import matplotlib.pyplot as plt\n",
    "<br>plt.scatter(df.x, df.y)**"
   ]
  },
  {
   "cell_type": "code",
   "execution_count": 6,
   "id": "d03a9190",
   "metadata": {},
   "outputs": [
    {
     "data": {
      "text/plain": [
       "<AxesSubplot:xlabel='x', ylabel='y'>"
      ]
     },
     "execution_count": 6,
     "metadata": {},
     "output_type": "execute_result"
    },
    {
     "data": {
      "image/png": "[encoded data removed]",
      "text/plain": [
       "<Figure size 432x288 with 1 Axes>"
      ]
     },
     "metadata": {
      "needs_background": "light"
     },
     "output_type": "display_data"
    }
   ],
   "source": [
    "# 1: Use Pandas\n",
    "import pandas as pd\n",
    "\n",
    "#create DataFrame\n",
    "df = pd.DataFrame({'x': [1, 3, 3, 4, 5, 7, 9, 12, 13, 15],\n",
    "                   'y': [5, 7, 9, 7, 6, 12, 14, 18, 15, 22]})\n",
    "\n",
    "#create scatterplot\n",
    "df.plot.scatter(x='x', y='y')"
   ]
  },
  {
   "cell_type": "code",
   "execution_count": 7,
   "id": "c214981b",
   "metadata": {},
   "outputs": [
    {
     "data": {
      "text/plain": [
       "<AxesSubplot:xlabel='x', ylabel='y'>"
      ]
     },
     "execution_count": 7,
     "metadata": {},
     "output_type": "execute_result"
    },
    {
     "data": {
      "image/png": "[encoded data removed]",
      "text/plain": [
       "<Figure size 432x288 with 1 Axes>"
      ]
     },
     "metadata": {
      "needs_background": "light"
     },
     "output_type": "display_data"
    }
   ],
   "source": [
    "df.plot.scatter(x='x', y='y', s=60, c='green')"
   ]
  },
  {
   "cell_type": "code",
   "execution_count": 8,
   "id": "1e3d998c",
   "metadata": {},
   "outputs": [
    {
     "data": {
      "text/plain": [
       "<matplotlib.collections.PathCollection at 0x19c3b466fd0>"
      ]
     },
     "execution_count": 8,
     "metadata": {},
     "output_type": "execute_result"
    },
    {
     "data": {
      "image/png": "[encoded data removed]",
      "text/plain": [
       "<Figure size 432x288 with 1 Axes>"
      ]
     },
     "metadata": {
      "needs_background": "light"
     },
     "output_type": "display_data"
    }
   ],
   "source": [
    "# 2: Use Matplotlib\n",
    "import pandas as pd\n",
    "import matplotlib.pyplot as plt\n",
    "\n",
    "#create DataFrame\n",
    "df = pd.DataFrame({'x': [1, 3, 3, 4, 5, 7, 9, 12, 13, 15],\n",
    "                   'y': [5, 7, 9, 7, 6, 12, 14, 18, 15, 22]})\n",
    "\n",
    "#create scatterplot\n",
    "plt.scatter(df.x, df.y)"
   ]
  },
  {
   "cell_type": "markdown",
   "id": "93ab59e2",
   "metadata": {},
   "source": [
    "### How to Fill NA Values for Multiple Columns in Pandas\n",
    "$$fillna()$$\n",
    "1. Replace all missing values with zero : **df.fillna(value=0, inplace=True)**\n",
    "2. Fill in Missing Values of Multiple Columns : **df[['col1', 'col2']] = df[['col1', 'col2']].fillna(value=0)**\n",
    "3. Fill in Missing Values of Multiple Columns with Different Values : **df.fillna({'col1':'Unknown', 'col2': 0, 'col3': 'zero'}, inplace=True)**\n",
    "<br>where , Here we convert missing values of *col1* by *Unknown* , *col2* by *0* & *col3* by *zero*\n",
    "\n",
    "### How to Perform a SUMIF Function in Pandas\n",
    "1. Find sum of each column, grouped by one column : **df.groupby('group_column').sum()**\n",
    "2. Find sum of one specific column, grouped by one column : **df.groupby('group_column')['sum_column'].sum()** "
   ]
  },
  {
   "cell_type": "code",
   "execution_count": 9,
   "id": "13a8a11d",
   "metadata": {},
   "outputs": [
    {
     "name": "stdout",
     "output_type": "stream",
     "text": [
      "Normal DF -: \n",
      "   team  points  assists  rebounds\n",
      "0    a       5        8         1\n",
      "1    a       8        8         2\n",
      "2    b      14        9         2\n",
      "3    b      18        3         1\n",
      "4    b       5        8         0\n",
      "5    c       7        7         4\n",
      "6    c       7        4         1\n",
      "\n",
      "SUMIF by One Column -: \n",
      " team\n",
      "a    13\n",
      "b    37\n",
      "c    14\n",
      "Name: points, dtype: int64\n",
      "\n",
      "SUMIF by Multiple Columns -: \n",
      "       points  rebounds\n",
      "team                  \n",
      "a         13         3\n",
      "b         37         3\n",
      "c         14         5\n",
      "\n",
      "SUMIF by All Columns -: \n",
      "       points  assists  rebounds\n",
      "team                           \n",
      "a         13       16         3\n",
      "b         37       20         3\n",
      "c         14       11         5\n"
     ]
    }
   ],
   "source": [
    "#create DataFrame\n",
    "df = pd.DataFrame({'team': ['a', 'a', 'b', 'b', 'b', 'c', 'c'],\n",
    "                   'points': [5, 8, 14, 18, 5, 7, 7],\n",
    "                   'assists': [8, 8, 9, 3, 8, 7, 4],\n",
    "                   'rebounds': [1, 2, 2, 1, 0, 4, 1]})\n",
    "\n",
    "#view DataFrame\n",
    "print(\"Normal DF -:\",'\\n', df)\n",
    "print()\n",
    "\n",
    "# Perform a SUMIF function on One Column\n",
    "sif1 = df.groupby('team')['points'].sum() \n",
    "print(\"SUMIF by One Column -:\", '\\n', sif1)\n",
    "print()\n",
    "\n",
    "# Perfom a SUMIF function on Multiple Columns\n",
    "sifm = df.groupby('team')[['points' , 'rebounds']].sum()\n",
    "print(\"SUMIF by Multiple Columns -:\", '\\n', sifm)\n",
    "print()\n",
    "\n",
    "# Perform a SUMIF function on All Columns\n",
    "sifa = df.groupby('team').sum()\n",
    "print(\"SUMIF by All Columns -:\", '\\n', sifa)"
   ]
  },
  {
   "cell_type": "markdown",
   "id": "b7b746b3",
   "metadata": {},
   "source": [
    "### How to Compare Two Columns in Pandas \n",
    "**conditions=[(condition1),(condition2)]\n",
    "<br>choices=[\"choice1\",\"choice2\"]\n",
    "<br>df[\"new_column_name\"]=np.select(conditions, choices, default)**\n",
    "<br>Here’s what this code does:\n",
    "<br>**conditions** are the conditions to check for between the two columns\n",
    "<br>**choices** are the results to return based on the conditions\n",
    "<br>**np.select** is used to return the results to the new column"
   ]
  },
  {
   "cell_type": "code",
   "execution_count": 10,
   "id": "3f630d46",
   "metadata": {},
   "outputs": [
    {
     "name": "stdout",
     "output_type": "stream",
     "text": [
      "N DF -: \n",
      "    A_points  B_points\n",
      "0         1         4\n",
      "1         3         5\n",
      "2         3         2\n",
      "3         3         3\n",
      "4         5         2\n",
      "\n",
      "Compared DF -: \n",
      "    A_points  B_points winner\n",
      "0         1         4      B\n",
      "1         3         5      B\n",
      "2         3         2      A\n",
      "3         3         3    Tie\n",
      "4         5         2      A\n"
     ]
    }
   ],
   "source": [
    "# create DataFrame\n",
    "df = pd.DataFrame({'A_points': [1, 3, 3, 3, 5],\n",
    "                   'B_points': [4, 5, 2, 3, 2]})\n",
    "             \n",
    "#view DataFrame  \n",
    "print('N DF -:', '\\n' , df)\n",
    "print()\n",
    "\n",
    "#define conditions\n",
    "conditions = [df['A_points'] > df['B_points'], \n",
    "              df['A_points'] < df['B_points']]\n",
    "\n",
    "#define choices\n",
    "choices = ['A', 'B']\n",
    "\n",
    "#create new column in DataFrame that displays results of comparisons\n",
    "df['winner'] = np.select(conditions, choices, default='Tie')\n",
    "\n",
    "#view the DataFrame\n",
    "print(\"Compared DF -:\",'\\n',df)"
   ]
  },
  {
   "cell_type": "markdown",
   "id": "e66efca9",
   "metadata": {},
   "source": [
    "### How to Calculate Correlation Between Two Columns in Pandas\n",
    "**df['column1'].corr(df['column2'])**\n",
    "\n",
    "### How to Create Boxplot from Pandas DataFrame\n",
    "1. create boxplot of one column : **df.boxplot(column=['col1'])** *OR* **df.boxplot(column=['col1'] , grid = True/False , colors = '?')**\n",
    "2. create boxplot of multiple columns : **df.boxplot(column=['col1', 'col2'])**\n",
    "3. create boxplot grouped by one column : **df.boxplot(column=['col1'], by='col2')** \n",
    "\n",
    "### How to Create Pie Chart from Pandas DataFrame\n",
    "1. **df.groupby(['group_column']).sum().plot(kind='pie', y='value_column')**\n",
    "2. Create Custom Pie Chart\n",
    "<br>**autopct**: Display percentages in pie chart\n",
    "<br>**colors**: Specify colors to use in pie chart\n",
    "<br>**title**: Add title to pie chart\n",
    "<br>**f.groupby(['cat_column']).sum().plot(kind='pie', y='num_column', \n",
    "<br>autopct='%1.0f%%',\n",
    "<br>colors = ['red', 'pink', 'steelblue'],\n",
    "<br>title='TITLE'))**\n",
    "\n",
    "### How to Create a Histogram from Pandas DataFrame\n",
    "**df.hist(column='col_name')**\n",
    "1. Plot a Single Histogram : **df.hist(column='col_name')**\n",
    "2. create custom histogram for One column : **df.hist(column='col_name', bins=5, grid=False, rwidth=.9, color='purple')**\n",
    "3. lot Multiple Histograms : **df.hist(column='num_col_1', <br>by='cat_col1', bins=3, grid=False, rwidth=0.9,\n",
    "<br>color='purple', sharex=True)**\n",
    "<br>Note that the **sharex** argument specifies that the two histograms should share the same x-axis.\n",
    "\n",
    "### How to Create and Customize Plot Legends in Pandas\n",
    "**plt.legend(['A', 'B', 'C', 'D'], loc='center left', title='Legend Title')**\n",
    "\n",
    "### How to Create a Scatter Matrix in Pandas\n",
    "**pd.plotting.scatter_matrix(df)**"
   ]
  },
  {
   "cell_type": "code",
   "execution_count": 1,
   "id": "edaee8a3",
   "metadata": {},
   "outputs": [
    {
     "name": "stdout",
     "output_type": "stream",
     "text": [
      "Head of Data Frame -: \n",
      "      points   assists  rebounds\n",
      "0  1.764052  0.555963 -1.532921\n",
      "1  0.400157  0.892474 -1.711970\n",
      "2  0.978738 -0.422315  0.046135\n",
      "3  2.240893  0.104714 -0.958374\n",
      "4  1.867558  0.228053 -0.080812\n",
      "\n"
     ]
    },
    {
     "data": {
      "text/plain": [
       "array([[<AxesSubplot:xlabel='points', ylabel='points'>,\n",
       "        <AxesSubplot:xlabel='assists', ylabel='points'>,\n",
       "        <AxesSubplot:xlabel='rebounds', ylabel='points'>],\n",
       "       [<AxesSubplot:xlabel='points', ylabel='assists'>,\n",
       "        <AxesSubplot:xlabel='assists', ylabel='assists'>,\n",
       "        <AxesSubplot:xlabel='rebounds', ylabel='assists'>],\n",
       "       [<AxesSubplot:xlabel='points', ylabel='rebounds'>,\n",
       "        <AxesSubplot:xlabel='assists', ylabel='rebounds'>,\n",
       "        <AxesSubplot:xlabel='rebounds', ylabel='rebounds'>]], dtype=object)"
      ]
     },
     "execution_count": 1,
     "metadata": {},
     "output_type": "execute_result"
    },
    {
     "data": {
      "image/png": "[encoded data removed]",
      "text/plain": [
       "<Figure size 432x288 with 9 Axes>"
      ]
     },
     "metadata": {
      "needs_background": "light"
     },
     "output_type": "display_data"
    }
   ],
   "source": [
    "import pandas as pd\n",
    "import numpy as np\n",
    "\n",
    "#make this example reproducible\n",
    "np.random.seed(0)\n",
    "\n",
    "#create DataFrame\n",
    "df = pd.DataFrame({'points': np.random.randn(1000),\n",
    "                   'assists': np.random.randn(1000),\n",
    "                   'rebounds': np.random.randn(1000)})\n",
    "\n",
    "#view first five rows of DataFrame\n",
    "print(\"Head of Data Frame -:\", '\\n' , df.head())\n",
    "print()\n",
    "\n",
    "# 1. Basic Scatter Matrix\n",
    "pd.plotting.scatter_matrix(df)"
   ]
  },
  {
   "cell_type": "code",
   "execution_count": 3,
   "id": "a8c45d1d",
   "metadata": {},
   "outputs": [
    {
     "data": {
      "text/plain": [
       "array([[<AxesSubplot:xlabel='points', ylabel='points'>,\n",
       "        <AxesSubplot:xlabel='assists', ylabel='points'>],\n",
       "       [<AxesSubplot:xlabel='points', ylabel='assists'>,\n",
       "        <AxesSubplot:xlabel='assists', ylabel='assists'>]], dtype=object)"
      ]
     },
     "execution_count": 3,
     "metadata": {},
     "output_type": "execute_result"
    },
    {
     "data": {
      "image/png": "[encoded data removed]",
      "text/plain": [
       "<Figure size 432x288 with 4 Axes>"
      ]
     },
     "metadata": {
      "needs_background": "light"
     },
     "output_type": "display_data"
    }
   ],
   "source": [
    "# 2. Scatter MAtrix for Specific Columns\n",
    "pd.plotting.scatter_matrix(df.iloc[:, 0:2])"
   ]
  },
  {
   "cell_type": "code",
   "execution_count": 4,
   "id": "a40ad0b6",
   "metadata": {},
   "outputs": [
    {
     "data": {
      "text/plain": [
       "array([[<AxesSubplot:xlabel='points', ylabel='points'>,\n",
       "        <AxesSubplot:xlabel='assists', ylabel='points'>,\n",
       "        <AxesSubplot:xlabel='rebounds', ylabel='points'>],\n",
       "       [<AxesSubplot:xlabel='points', ylabel='assists'>,\n",
       "        <AxesSubplot:xlabel='assists', ylabel='assists'>,\n",
       "        <AxesSubplot:xlabel='rebounds', ylabel='assists'>],\n",
       "       [<AxesSubplot:xlabel='points', ylabel='rebounds'>,\n",
       "        <AxesSubplot:xlabel='assists', ylabel='rebounds'>,\n",
       "        <AxesSubplot:xlabel='rebounds', ylabel='rebounds'>]], dtype=object)"
      ]
     },
     "execution_count": 4,
     "metadata": {},
     "output_type": "execute_result"
    },
    {
     "data": {
      "image/png": "[encoded data removed]",
      "text/plain": [
       "<Figure size 432x288 with 9 Axes>"
      ]
     },
     "metadata": {
      "needs_background": "light"
     },
     "output_type": "display_data"
    }
   ],
   "source": [
    "# Scatter Matrix with Custom Colors & Bins\n",
    "pd.plotting.scatter_matrix(df, color='red', \n",
    "                           hist_kwds={'bins':30, 'color':'green'})"
   ]
  },
  {
   "cell_type": "code",
   "execution_count": 5,
   "id": "f819ff64",
   "metadata": {},
   "outputs": [
    {
     "data": {
      "text/plain": [
       "array([[<AxesSubplot:xlabel='points', ylabel='points'>,\n",
       "        <AxesSubplot:xlabel='assists', ylabel='points'>,\n",
       "        <AxesSubplot:xlabel='rebounds', ylabel='points'>],\n",
       "       [<AxesSubplot:xlabel='points', ylabel='assists'>,\n",
       "        <AxesSubplot:xlabel='assists', ylabel='assists'>,\n",
       "        <AxesSubplot:xlabel='rebounds', ylabel='assists'>],\n",
       "       [<AxesSubplot:xlabel='points', ylabel='rebounds'>,\n",
       "        <AxesSubplot:xlabel='assists', ylabel='rebounds'>,\n",
       "        <AxesSubplot:xlabel='rebounds', ylabel='rebounds'>]], dtype=object)"
      ]
     },
     "execution_count": 5,
     "metadata": {},
     "output_type": "execute_result"
    },
    {
     "data": {
      "image/png": "[encoded data removed]",
      "text/plain": [
       "<Figure size 432x288 with 9 Axes>"
      ]
     },
     "metadata": {
      "needs_background": "light"
     },
     "output_type": "display_data"
    }
   ],
   "source": [
    "# 4. Scatter Matrix with KDE Plot\n",
    "pd.plotting.scatter_matrix(df, diagonal = 'kde')"
   ]
  },
  {
   "cell_type": "markdown",
   "id": "8c247fc7",
   "metadata": {},
   "source": [
    "### How to Add Titles to Plots in Pandas (With Examples)\n",
    "1. Create One Title : **df.plot(kind='hist', title='My Title')**\n",
    "2. Create Multiple Titles for Individual Subplots : **df.plot(kind='hist', subplots=True, title=['Title1', 'Title2'])**\n",
    "\n",
    "### How to Plot Multiple Series from a Pandas DF\n",
    "**plt.plot(df['col1'])\n",
    "<br>plt.plot(df['col2'])\n",
    "<br>plt.plot(df['col3'])**\n",
    "\n",
    "### Get Index of Rows whose Column Matches Value\n",
    "**df.index[df['col_name']==value].tolist()**\n",
    "\n",
    "### How to Plot Multiple Columns on Bar Chart\n",
    "**df[['x', 'var1', 'var2', 'var3']].plot(x='x', kind='bar')**  \n",
    "<br>***OR*** **Stacked Bar Chart\n",
    "<br>df[['x', 'var1', 'var2', 'var3']].plot(x='x', kind='bar', stacked=True,color=['red', 'pink', 'gold'])**\n",
    "<br>The **x** column will be used as the *x-axis* variable and **var1, var2, and var3** will be used as the *y-axis* variables."
   ]
  },
  {
   "cell_type": "code",
   "execution_count": 6,
   "id": "2c5e2688",
   "metadata": {},
   "outputs": [
    {
     "data": {
      "text/plain": [
       "<AxesSubplot:xlabel='period'>"
      ]
     },
     "execution_count": 6,
     "metadata": {},
     "output_type": "execute_result"
    },
    {
     "data": {
      "image/png": "[encoded data removed]",
      "text/plain": [
       "<Figure size 432x288 with 1 Axes>"
      ]
     },
     "metadata": {
      "needs_background": "light"
     },
     "output_type": "display_data"
    }
   ],
   "source": [
    "# 1: Plot Columns on a Bar Chart\n",
    "import pandas as pd\n",
    "import matplotlib.pyplot as plt\n",
    "\n",
    "#create fake data\n",
    "df = pd.DataFrame({'period': [1, 2, 3, 4, 5, 6, 7, 8],\n",
    "                   'A': [9, 12, 15, 14, 19, 23, 25, 29],\n",
    "                   'B': [5, 7, 7, 9, 12, 9, 9, 14],\n",
    "                   'C': [5, 4, 7, 13, 15, 15, 18, 31]})\n",
    "\n",
    "#plot columns on bar chart\n",
    "df[['period', 'A', 'B', 'C']].plot(x='period', kind='bar')"
   ]
  },
  {
   "cell_type": "code",
   "execution_count": 7,
   "id": "84e4d2b6",
   "metadata": {},
   "outputs": [
    {
     "data": {
      "text/plain": [
       "<AxesSubplot:xlabel='period'>"
      ]
     },
     "execution_count": 7,
     "metadata": {},
     "output_type": "execute_result"
    },
    {
     "data": {
      "image/png": "[encoded data removed]",
      "text/plain": [
       "<Figure size 432x288 with 1 Axes>"
      ]
     },
     "metadata": {
      "needs_background": "light"
     },
     "output_type": "display_data"
    }
   ],
   "source": [
    "# 2: Plot Columns on a Stacked Bar Chart\n",
    "#create stacked bar chart\n",
    "df[['period', 'A', 'B', 'C']].plot(x='period', kind='bar', stacked=True)"
   ]
  },
  {
   "cell_type": "code",
   "execution_count": 8,
   "id": "d95d9aa0",
   "metadata": {},
   "outputs": [
    {
     "data": {
      "text/plain": [
       "<AxesSubplot:xlabel='period'>"
      ]
     },
     "execution_count": 8,
     "metadata": {},
     "output_type": "execute_result"
    },
    {
     "data": {
      "image/png": "[encoded data removed]",
      "text/plain": [
       "<Figure size 432x288 with 1 Axes>"
      ]
     },
     "metadata": {
      "needs_background": "light"
     },
     "output_type": "display_data"
    }
   ],
   "source": [
    "df[['period', 'A', 'B', 'C']].plot(x='period', kind='bar', stacked=True,\n",
    "                                   color=['red', 'pink', 'gold'])\n"
   ]
  },
  {
   "cell_type": "markdown",
   "id": "b5975612",
   "metadata": {},
   "source": [
    "### How to Use Groupby and Plot (With Examples)\n",
    "1. Group By & Plot Multiple Lines in One Plot\n",
    "<br>define index column -\n",
    "<br>**df.set_index('day', inplace=True)**\n",
    "<br>group data by product and display sales as line chart -\n",
    "<br>**df.groupby('product')['sales'].plot(legend=True)**\n",
    "2. Group By & Plot Lines in Individual Subplots\n",
    "<br>**pd.pivot_table(df.reset_index(),\n",
    "<br>index='day', columns='product', \n",
    "<br>values='sales').plot(subplots=True)**"
   ]
  },
  {
   "cell_type": "code",
   "execution_count": 9,
   "id": "943d6293",
   "metadata": {},
   "outputs": [
    {
     "data": {
      "text/plain": [
       "product\n",
       "A    AxesSubplot(0.125,0.125;0.775x0.755)\n",
       "B    AxesSubplot(0.125,0.125;0.775x0.755)\n",
       "Name: sales, dtype: object"
      ]
     },
     "execution_count": 9,
     "metadata": {},
     "output_type": "execute_result"
    },
    {
     "data": {
      "image/png": "[encoded data removed]",
      "text/plain": [
       "<Figure size 432x288 with 1 Axes>"
      ]
     },
     "metadata": {
      "needs_background": "light"
     },
     "output_type": "display_data"
    }
   ],
   "source": [
    "#create DataFrame\n",
    "df = pd.DataFrame({'day': [1, 2, 3, 4, 5, 1, 2, 3, 4, 5],\n",
    "                   'product': ['A', 'A', 'A', 'A', 'A', 'B', 'B', 'B', 'B', 'B'],\n",
    "                   'sales': [4, 7, 8, 12, 15, 8, 11, 14, 19, 20]})\n",
    "\n",
    "# Define index column\n",
    "df.set_index('day', inplace = True)\n",
    "\n",
    "# Group data by product and Display sales as line chart\n",
    "df.groupby('product')['sales'].plot(legend = True)"
   ]
  },
  {
   "cell_type": "code",
   "execution_count": 10,
   "id": "6cda9df6",
   "metadata": {},
   "outputs": [
    {
     "data": {
      "text/plain": [
       "array([<AxesSubplot:xlabel='day'>, <AxesSubplot:xlabel='day'>],\n",
       "      dtype=object)"
      ]
     },
     "execution_count": 10,
     "metadata": {},
     "output_type": "execute_result"
    },
    {
     "data": {
      "image/png": "[encoded data removed]",
      "text/plain": [
       "<Figure size 432x288 with 2 Axes>"
      ]
     },
     "metadata": {
      "needs_background": "light"
     },
     "output_type": "display_data"
    }
   ],
   "source": [
    "# Group By & Plot Lines in Individual Subplots\n",
    "\n",
    "pd.pivot_table(df.reset_index(),\n",
    "               index='day', columns='product', values='sales'\n",
    "              ).plot(subplots=True)"
   ]
  },
  {
   "cell_type": "code",
   "execution_count": 11,
   "id": "13c2c16f",
   "metadata": {},
   "outputs": [
    {
     "data": {
      "text/plain": [
       "array([[<AxesSubplot:xlabel='day'>, <AxesSubplot:xlabel='day'>]],\n",
       "      dtype=object)"
      ]
     },
     "execution_count": 11,
     "metadata": {},
     "output_type": "execute_result"
    },
    {
     "data": {
      "image/png": "[encoded data removed]",
      "text/plain": [
       "<Figure size 432x288 with 2 Axes>"
      ]
     },
     "metadata": {
      "needs_background": "light"
     },
     "output_type": "display_data"
    }
   ],
   "source": [
    "pd.pivot_table(df.reset_index(),\n",
    "               index='day', columns='product', values='sales'\n",
    "              ).plot(subplots=True, layout=(1,2))"
   ]
  },
  {
   "cell_type": "markdown",
   "id": "8737cf6a",
   "metadata": {},
   "source": [
    "### How to Find the Difference Between Two Rows\n",
    "**df.diff(periods=1, axis=0)**\n",
    "<br>where , **periods:** The number of previous rows for calculating the difference.\n",
    "<br>**axis:** Find difference over rows (0) or columns (1).\n",
    "\n",
    "### How to Find the Difference Between Two Columns\n",
    "**df['difference'] = df['column1'] - df['column2']**\n",
    "\n",
    "### Pandas Join vs. Merge: What’s the Difference?\n",
    "Both the **join()** and the **merge()** functions can be used to combine two pandas DataFrames.\n",
    "<br>Here’s the main difference between the two functions:\n",
    "<br>$\\star$ The **join()** function combines two DataFrames by index.\n",
    "<br>$\\star$ The **merge()** function combines two DataFrames by whatever column you specify.\n",
    "<br>These functions use the following basic syntax:\n",
    "<br>*use join() to combine two DataFrames by index -*\n",
    "**df1.join(df2)**\n",
    "<br>*use merge() to combine two DataFrames by specific column name*\n",
    "<br>**df1.merge(df2, on='column_name')**\n",
    "\n",
    "In cases where you know that you want to join two DataFrames by index, the **join()** function can be used to save some typing."
   ]
  },
  {
   "cell_type": "code",
   "execution_count": 13,
   "id": "f80830bb",
   "metadata": {},
   "outputs": [
    {
     "name": "stdout",
     "output_type": "stream",
     "text": [
      "      points\n",
      "name        \n",
      "A          8\n",
      "B         12\n",
      "C         19\n",
      "\n",
      "      steals\n",
      "name        \n",
      "A          4\n",
      "B          5\n",
      "C          2\n"
     ]
    }
   ],
   "source": [
    "# 1: How to Use the join() Function\n",
    "import pandas as pd\n",
    "\n",
    "#create two DataFrames\n",
    "df1 = pd.DataFrame({'name': ['A', 'B', 'C'], 'points': [8, 12, 19]}).set_index('name')\n",
    "df2 = pd.DataFrame({'name': ['A', 'B', 'C'], 'steals': [4, 5, 2]}).set_index('name')\n",
    "\n",
    "#view two DataFrames\n",
    "print(df1); print(); print(df2)"
   ]
  },
  {
   "cell_type": "code",
   "execution_count": 14,
   "id": "9ffdf18b",
   "metadata": {},
   "outputs": [
    {
     "data": {
      "text/html": [
       "<div>\n",
       "<style scoped>\n",
       "    .dataframe tbody tr th:only-of-type {\n",
       "        vertical-align: middle;\n",
       "    }\n",
       "\n",
       "    .dataframe tbody tr th {\n",
       "        vertical-align: top;\n",
       "    }\n",
       "\n",
       "    .dataframe thead th {\n",
       "        text-align: right;\n",
       "    }\n",
       "</style>\n",
       "<table border=\"1\" class=\"dataframe\">\n",
       "  <thead>\n",
       "    <tr style=\"text-align: right;\">\n",
       "      <th></th>\n",
       "      <th>points</th>\n",
       "      <th>steals</th>\n",
       "    </tr>\n",
       "    <tr>\n",
       "      <th>name</th>\n",
       "      <th></th>\n",
       "      <th></th>\n",
       "    </tr>\n",
       "  </thead>\n",
       "  <tbody>\n",
       "    <tr>\n",
       "      <th>A</th>\n",
       "      <td>8</td>\n",
       "      <td>4</td>\n",
       "    </tr>\n",
       "    <tr>\n",
       "      <th>B</th>\n",
       "      <td>12</td>\n",
       "      <td>5</td>\n",
       "    </tr>\n",
       "    <tr>\n",
       "      <th>C</th>\n",
       "      <td>19</td>\n",
       "      <td>2</td>\n",
       "    </tr>\n",
       "  </tbody>\n",
       "</table>\n",
       "</div>"
      ],
      "text/plain": [
       "      points  steals\n",
       "name                \n",
       "A          8       4\n",
       "B         12       5\n",
       "C         19       2"
      ]
     },
     "execution_count": 14,
     "metadata": {},
     "output_type": "execute_result"
    }
   ],
   "source": [
    "#use join() function to join together two DataFrames\n",
    "df1.join(df2)"
   ]
  },
  {
   "cell_type": "code",
   "execution_count": 15,
   "id": "b60e28bf",
   "metadata": {},
   "outputs": [
    {
     "data": {
      "text/html": [
       "<div>\n",
       "<style scoped>\n",
       "    .dataframe tbody tr th:only-of-type {\n",
       "        vertical-align: middle;\n",
       "    }\n",
       "\n",
       "    .dataframe tbody tr th {\n",
       "        vertical-align: top;\n",
       "    }\n",
       "\n",
       "    .dataframe thead th {\n",
       "        text-align: right;\n",
       "    }\n",
       "</style>\n",
       "<table border=\"1\" class=\"dataframe\">\n",
       "  <thead>\n",
       "    <tr style=\"text-align: right;\">\n",
       "      <th></th>\n",
       "      <th>points</th>\n",
       "      <th>steals</th>\n",
       "    </tr>\n",
       "    <tr>\n",
       "      <th>name</th>\n",
       "      <th></th>\n",
       "      <th></th>\n",
       "    </tr>\n",
       "  </thead>\n",
       "  <tbody>\n",
       "    <tr>\n",
       "      <th>A</th>\n",
       "      <td>8</td>\n",
       "      <td>4</td>\n",
       "    </tr>\n",
       "    <tr>\n",
       "      <th>B</th>\n",
       "      <td>12</td>\n",
       "      <td>5</td>\n",
       "    </tr>\n",
       "    <tr>\n",
       "      <th>C</th>\n",
       "      <td>19</td>\n",
       "      <td>2</td>\n",
       "    </tr>\n",
       "  </tbody>\n",
       "</table>\n",
       "</div>"
      ],
      "text/plain": [
       "      points  steals\n",
       "name                \n",
       "A          8       4\n",
       "B         12       5\n",
       "C         19       2"
      ]
     },
     "execution_count": 15,
     "metadata": {},
     "output_type": "execute_result"
    }
   ],
   "source": [
    "#use join() function to join together two DataFrames\n",
    "df1.merge(df2, on='name')"
   ]
  },
  {
   "cell_type": "markdown",
   "id": "0de8e105",
   "metadata": {},
   "source": [
    "# Data Frame Functions\n",
    "### Calculate the Sum of Columns in Pandas\n",
    "1. Find the Sum of a Single Column : **df['col_name'].sum()**\n",
    "2. Find the Sum of Multiple Columns : **df[['col_1', 'col2', ..]].sum()**\n",
    "3. Find the Sum of all Columns : **df.sum()**\n",
    "\n",
    "### Calculate the Mean of Columns in Pandas\n",
    "1.  Find the Mean of a Single Column : **df['col_name'].mean()**\n",
    "2. Find the Mean of Multiple Columns : **df[['col_1', 'col2', ..]].mean()**\n",
    "3. Find the Mean of all Columns : **df.mean()**\n",
    "\n",
    "### Calculate the Median in Pandas \n",
    "1. Find median value in specific column : **df['column1'].median()**\n",
    "2. Find median value in several columns : **df[['column1', 'column2']].median()**\n",
    "3. Find median value in every numeric column : **df.median()**\n",
    "\n",
    "### Find the Max Value of Columns in Pandas\n",
    "1. Find Max value in specific column : **df['column1'].max()**\n",
    "2. Find Max value in several columns : **df[['column1', 'column2']].max()**\n",
    "3. Find Max value in every numeric column : **df.max()**\n",
    "\n",
    "### Calculate Standard Deviation in Pandas \n",
    "1. Calculate Standard Deviation of One Column : **df['column_name'].std()** \n",
    "2. Calculate Standard Deviation of Multiple Columns : **df[['column_name1', 'column_name2']].std()** \n",
    "3. Calculate Standard Deviation of All Numeric Columns : **df.std()**\n",
    "\n",
    "### Calculate the Average of Selected Columns in Pandas\n",
    "1. Calculate Average Row Value for All Columns : **df.mean(axis=1)**\n",
    "2. Calculate Average Row Value for Specific Columns : **df[['col1', 'col3']].mean(axis=1)**\n",
    "\n",
    "### Sum Specific Columns in Pandas\n",
    "1. Find Sum of All Columns : **df['sum'] = df.sum(axis=1)**\n",
    "2. Find Sum of Specific Columns\n",
    "<br>*specify the columns to sum -*\n",
    "<br>**cols = ['col1', 'col4', 'col5']**\n",
    "<br>*find sum of columns specified -*\n",
    "<br>**df['sum'] = df[cols].sum(axis=1)**\n",
    "\n",
    "### Apply a Function to Selected Columns in Pandas\n",
    "1. Divide values in column1 by 2 : **df['column1'] = df['column1'] / 2**\n",
    "2. Divide values in column1 and column2 by 2 : **df[['column1', 'column2']] = df[['column1', 'column2']] / 2**\n",
    "3. Divide values in every column of DataFrame by 2 : **df = df / 2**\n",
    "\n",
    "### Apply Function to Pandas Groupby\n",
    "Basic syntax to use the *groupby()* and *apply()* functions together in a pandas DataFrame:\n",
    "**df.groupby('var1').apply(lambda x: some function)**\n",
    "\n",
    "### Difference Between axis=0 and axis=1 in Pandas\n",
    "Many functions in pandas require that you specify an axis along which to apply a certain calculation.\n",
    "<br>Typically the following rule of thumb applies:\n",
    "<br>**axis = 0 :** Apply the calculation “column-wise”\n",
    "<br>**axis = 1:** Apply the calculation “row-wise”\n",
    "\n",
    "### Use Pandas apply() inplace\n",
    "Functions like **drop()** and **replace()** that provide an inplace argument:\n",
    "<br>**df.drop(['column1'], inplace=True)\n",
    "<br>df.rename({'old_column' : 'new_column'}, inplace=True)**\n",
    "\n",
    "The **apply()** function has no inplace argument, so we must use the following syntax to transform a DataFrame inplace:\n",
    "<br>**df = df.apply(lambda x: x*2)**\n",
    "\n",
    "### Calculate Percent Change in Pandas\n",
    "1. calculate percent change between values in pandas Series: **s.pct_change()**\n",
    "2. calculate percent change between rows in pandas DataFrame : **df['column_name'].pct_change()**\n",
    "\n",
    "### Convert Pandas DataFrame Columns to Strings\n",
    "1. Convert a Single DataFrame Column to String : **df['col'] = df['col'].astype(str)**\n",
    "2. Convert Multiple DataFrame Columns to Strings : **df[['col1', 'col2', ...]] = df[['col1', 'col2', ...]].astype(str)**\n",
    "3. Convert every column to strings : **df = df.astype(str)**\n",
    "\n",
    "\n",
    "### Convert Pandas DataFrame Columns to Integer\n",
    "1. Convert a Single DataFrame Column to Integer : **df['col'] = df['col'].astype(int)**\n",
    "2. Convert Multiple DataFrame Columns to Integer : **df[['col1', 'col2', ...]] = df[['col1', 'col2', ...]].astype(int)**\n",
    "3. Convert every column to Integer : **df = df.astype(int)**\n",
    "\n",
    "### Create Pandas DataFrame from Series\n",
    "*Convert each Series to a DataFrame -*\n",
    "<br>**new_col1 = name.to_frame(name='old_col1')\n",
    "<br>new_col2 = points.to_frame(name='old_col2')\n",
    "<br>new_col3 = assists.to_frame(name='old_col3')**\n",
    "<br>Concatenate three Series into one DataFrame -*\n",
    "<br>**pd.concat([name_df, points_df, assists_df], axis=1)**\n",
    "\n",
    "### Use Pandas fillna() to Replace NaN Values\n",
    "1. Rreplace NaN values in one column : **df['col1'] = df['col1'].fillna(0)**\n",
    "2. Replace NaN values in multiple columns :  **df[['col1', 'col2']] = df[['col1', 'col2']].fillna(0)** \n",
    "3. Replace NaN values in all columns : **df = df.fillna(0)**\n",
    "\n",
    "### Replace Values in a Pandas DataFrame\n",
    "1. Replace a Single Value in an Entire DataFrame : \n",
    "<br>*Replace 'E' with 'East' -*\n",
    "<br>**df = df.replace(['E'],'East')**\n",
    "2. Replace Multiple Values in an Entire DataFrame : \n",
    "<br>*Rplace 'E' with 'East' and 'W' with 'West' -*\n",
    "<br>**df = df.replace(['E', 'W'],['East', 'West'])**\n",
    "3. Replace a Single Value in a Single Column : \n",
    "<br>*Replace 6 with 0 in rebounds column -*\n",
    "<br>**df['rebounds'] = df['rebounds'].replace(6, 0)**\n",
    "4. Replace a Multiple Value in a Single Column :\n",
    "<br>*Replace 6, 11, and 8 with 0, 1 and 2 in rebounds column-*\n",
    "<br>**df['rebounds'] = df['rebounds'].replace([6, 11, 8], [0, 1, 2])**\n",
    "\n",
    "### Replace NaN Values with String\n",
    "1. Replace NaN Values with String in Entire DataFrame: **df.fillna('', inplace=True)**\n",
    "2. Replace NaN Values with String in Specific Columns : **df[['col1', 'col2']] = df[['col1','col2']].fillna('')**\n",
    "3. Replace NaN Values with String in One Column : **df.col1 = df.col1.fillna('')**\n",
    "\n",
    "### Replace NaN Values with Zero in Pandas\n",
    "1. Replace NaN Values with Zero in One Column : **df['col1'] = df['col1'].fillna(0)**\n",
    "2. Replace NaN Values with Zero in Several Columns : **df[['col1', 'col2']] = df[['col1', 'col2']].fillna(0)**\n",
    "3. Replace NaN Values with Zero in All Columns : **df = df.fillna(0)**\n",
    "\n",
    "### Drop Rows with NaN Values in Pandas\n",
    "1. Drop Rows with Any NaN Values : **df.dropna()**\n",
    "2. Drop Rows with All NaN Values : **df.dropna(how='all')** \n",
    "3. Drop Rows Below a Certain Threshold : **df.dropna(thresh=3)** \n",
    "4.  Drop Row with Nan Values in a Specific Column : **df.dropna(subset=['col_name'])\n",
    "5. Reset Index After Dropping Rows with NaNs\n",
    "<br>*Drop all rows that have any NaN values -*\n",
    "<br>**df = df.dropna()**\n",
    "<br>*Reset index of DataFrame -*\n",
    "**df = df.reset_index(drop=True)**\n",
    "\n",
    "### Drop Rows that Contain a Specific Value\n",
    "1. *Drop rows that contain specific 'value' in 'column_name' -*\n",
    "<br>**df = df[df.column_name != value]**\n",
    "2. Drop rows in a pandas DataFrame \n",
    "<br>*Define values -*\n",
    "<br>**values = [value1, value2, value3, ...]**\n",
    "<br>*Drop rows that contain any value in the list -*\n",
    "<br>**df = df[df.column_name.isin(values) == False]**\n",
    "\n",
    "### Drop Rows in Pandas DataFrame Based on Condition\n",
    "1. Drop Rows Based on One Condition : **df[df.col1 > 8]**\n",
    "2. Drop Rows Based on Multiple Conditions : **df[(df.col1 > 8) & (df.col2 != 'A')]**\n",
    "\n",
    "### Drop Rows by Index in Pandas \n",
    "1. Drop first row from DataFrame : **df.drop(index=0)**\n",
    "2. Drop first, second, and fourth row from DataFrame : **df.drop(index=[0, 1, 3])**\n",
    "3. Pass the names as strings to drop : **df.drop(index=['first', 'second', 'third'])**\n",
    "\n",
    "### Filter a Pandas DataFrame on Multiple Conditions\n",
    "1. Filter on Multiple Conditions Using ‘And’ : \n",
    "<br>*Return only rows where points is greater than 13 or assists is greater than 7 -*\n",
    "<br>**df[(df.points > 13) | (df.assists > 7)]**\n",
    "<br>*Return only rows where team is 'A' and points is greater than or equal to 15 -*\n",
    "<br>**df[(df.team == 'A') & (df.points >= 15)]**\n",
    "2. Filter on Multiple Conditions Using ‘Or’\n",
    "<br>*Return only rows where points is greater than 13 or assists is greater than 7 -*\n",
    "<br>**df[(df.points > 13) | (df.assists > 7)]**\n",
    "<br>*Return only rows where team is 'A' or points is greater than or equal to 15 -*\n",
    "<br>**df[(df.team == 'A') | (df.points >= 15)]**\n",
    "3. Filter on Multiple Conditions Using a List\n",
    "<br>Define a list of values-\n",
    "<br>filter_list = [12, 14, 15]\n",
    "<br>*Return only rows where points is in the list of values -*\n",
    "<br>**df[df.points.isin(filter_list)]**\n",
    "\n",
    "### Insert a Column Into a Pandas DataFrame\n",
    "**insert(loc, column, value, allow_duplicates=False)**\n",
    "<br>where ,  **loc :** Index to insert column in. First column is 0.\n",
    "<br>**column :** Name to give to new column.\n",
    "<br>**value :** Array of values for the new column.\n",
    "<br>**allow_duplicates :** Whether or not to allow new column name to match existing column name. Default is False.\n",
    "\n",
    "### Insert a Row Into a Pandas DataFrame\n",
    "1. Insert row with values [1, 7, 6] into existing DataFrame at index=4\n",
    "<br>**pd.DataFrame(np.insert(df.values, 4, values=[1, 7, 6], axis=0))**\n",
    "\n",
    "### Create a New Column Based on a Condition in Pandas\n",
    "1. create a new column called ‘Good’ where the value is ‘yes’ if the points in a given row is above 20 and ‘no’ if not : **df['Good'] = np.where(df['points']>20, 'yes', 'no')**\n",
    "\n",
    "### Replace Values in Column Based on Condition\n",
    "1. Replace values in 'column1' that are greater than 10 with 20 :\n",
    "<br>**df.loc[df['column1'] > 10, 'column1'] = 20**\n",
    "\n",
    "### Add an Empty Column to a Pandas DataFrame\n",
    "1. Add an Empty Column Using “” : **df['col_name']= \"\"**\n",
    "2. Add an Empty Column Using Numpy : **df['col-name'] = np.nan**\n",
    "3. Add an Empty Column Using Pandas Series : **df['col_name'] = pd.Series()**\n",
    "4. Insert empty column titled 'col_name' into index position 2 : **df.insert(2, \"col_name\", np.nan)**\n",
    "5. Add Multiple Empty Columns at Once\n",
    "<br>*Add empty columns titled 'empty1' and 'empty2' -*\n",
    "<br>**df.reindex(columns = df.columns.tolist() + ['empty1', 'empty2'])**\n",
    "\n",
    "### Create Empty DataFrame with Column Names\n",
    "**pd.df(columns=['Col1', 'Col2', 'Col3'])**\n",
    "\n",
    "### Convert Pandas Series to NumPy Array \n",
    "**series_Name.to_numpy()**\n",
    "\n",
    "### Convert Pandas Series to DataFrame \n",
    "**my_series.to_frame(name='column_name')**\n",
    "\n",
    "### Quickly Convert DataFrame to Dictionary\n",
    "$$df.to_dict()$$\n",
    "Note that **to_dict()** accepts the following potential arguments:\n",
    "<br>$\\bullet$ **dict :** (default) Keys are column names. Values are dictionaries of index:data pairs.\n",
    "<br>$\\bullet$ **list :** Keys are column names. Values are lists of column data.\n",
    "<br>$\\bullet$ **series :** Keys are column names. Values are Series of column data.\n",
    "<br>$\\bullet$ **split :** Keys are ‘columns’, ‘data’, and ‘index’.\n",
    "<br>$\\bullet$ **<br>$\\bullet$ **records :** Keys are column names. Values are data in cells.\n",
    "<br>$\\bullet$ **index :** Keys are index labels. Values are data in cells.\n",
    "\n",
    "### Convert Pandas DataFrame to NumPy Array\n",
    "**df.to_numpy()**\n",
    "\n",
    "### Convert a List to a DataFrame in Python\n",
    "**pandas.DataFrame(data=None, index=None, columns=None, …)**\n",
    "<br>where,  **data:** The data to convert into a DataFrame\n",
    "<br>**index:** Index to use for the resulting DataFrame\n",
    "<br>**columns:** Column labels to use for the resulting DataFrame\n",
    "\n",
    "### Convert a List to a DataFrame Row\n",
    "1. Convert a List into DF : **pd.df(x).T\n",
    "2. Convert Seeveral Lists into DF : pd.df(columns['col1' , 'col2' , ...] , data = list_name)**\n",
    "\n",
    "### Convert List to NumPy Array\n",
    "**np.asarray(list_name)**\n",
    "\n",
    "### Convert NumPy Array to List \n",
    "**array_name.tolist()**\n",
    "\n",
    "### Add a Column to a Numpy Array\n",
    "1. Append Column to End of Array\n",
    "<br>**np.append(array_name, [[value1], [value2], [value3], ...], axis=1)**\n",
    "2. Insert Column in Specific Position of Array\n",
    "<br>**np.insert(array_name, 3, [value1, value2, value3, ...], axis=1)** \n",
    "\n",
    "### Sort a NumPy Array by Column\n",
    "1. Sort by Column Values Ascending : **x[x[:, 1].argsort()]**\n",
    "2. Sort by Column Values Descending : **x[x[:, 1].argsort()[::-1]]**\n",
    "\n",
    "### Get Specific Column from NumPy Array\n",
    "1. Get column in index position 2 from NumPy array : **array_name[:, 2]**\n",
    "2. Get columns in index positions 0 through 3 (not including 3) : **data[:, 0:3]**\n",
    "\n",
    "### Bin Variables in Python Using numpy.digitize()\n",
    "**numpy.digitize(x, bins, right=False)**\n",
    "<br>where,  **x**: Array to be binned.\n",
    "<br>**bins:** Array of bins.\n",
    "<br>**right:** Indicating whether the intervals include the right or the left bin edge. Default is that the interval does not include the right edge.\n",
    "\n",
    "### Normalize Columns in a Pandas DataFrame\n",
    "1. Min-Max Normalization\n",
    "<br>*Objective:* Converts each data value to a value between 0 and 1.\n",
    "<br>*Formula*: New value = **(value – min) / (max – min)**\n",
    "2. Mean Normalization\n",
    "<br>*Objective*: Scales values such that the mean of all values is 0 and std. dev. is 1. \n",
    "<br>Formula: New value = **(value – mean) / (standard deviation)**\n",
    "\n",
    "### Standardize Data in Python\n",
    "$$X_{new} = \\frac{(x_i - \\bar{x})}{s}$$\n",
    "where , $x_i$ : The $i^{th}$ value in the dataset\n",
    "<br>$\\bar{x} :$ The sample mean\n",
    "<br> $s$ : The sample sta. deviation .\n",
    "<br>**(df-df.mean())/df.std()**\n",
    "\n",
    "### Drop / Reset the Index Column in Pandas \n",
    "**df.reset_index(drop=True, inplace=True)**\n",
    "<br>$\\bullet$ **drop:** Specifying True prevents pandas from saving the original index as a column in the DataFrame.\n",
    "<br>$\\bullet$ **inplace:** Specifying True allows pandas to replace the index in the original DataFrame instead of creating a copy of the DataFrame.\n",
    "\n",
    "### Convert Index to Column in Pandas\n",
    "1. Convert index to column : **df.reset_index(inplace=True)**\n",
    "2. Convert specific level of MultiIndex to column : **df.reset_index(inplace=True, level = ['Level1'])**\n",
    "\n",
    "### Flatten MultiIndex in Pandas\n",
    "1. Flatten all levels of MultiIndex : **df.reset_index(inplace=True)**\n",
    "2. Flatten specific levels of MultiIndex : **df.reset_index(inplace=True, level = ['level_name'])**\n",
    "\n",
    "### Exclude Columns in Pandas \n",
    "1. Exclude column1 : **df.loc[:, df.columns!='column1']**\n",
    "2. Exclude column1, column2, ...\n",
    "<br>**df.loc[:, ~df.columns.isin(['column1', 'column2', ...])]**\n",
    "\n",
    "### Set Column as Index\n",
    "1. Set one column as index : **df.set_index('col1')**\n",
    "2. Set multiple columns as multi index : **df.set_index(['col1', 'col2'])**\n",
    "\n",
    "### Calculate the Mode of NumPy Array \n",
    "*Find unique values in array along with their counts -*\n",
    "<br>**vals, counts = np.unique(array_name, return_counts=True)**\n",
    "<br>*Find mode -*\n",
    "<br>**mode_value = np.argwhere(counts == np.max(counts))**\n",
    "\n",
    "### Calculate Quantiles by Group in Pandas\n",
    "**df.groupby('grouping_variable').quantile(0.5)**\n",
    "\n",
    "### Count Observations by Group in Pandas\n",
    "**df.groupby('col_name').size()**\n",
    "\n",
    "### Find the Max Value by Group in Pandas\n",
    "**df.groupby('column_name').max()** \n",
    "\n",
    "### Find the Median Value by Group in Pandas\n",
    "1. Median value by group in pandas:\n",
    "<br>**df.groupby(['group_variable'])['value_variable'].median().reset_index()**\n",
    "2. Median value, grouped by several columns:\n",
    "<br>**df.groupby(['group1', 'group2'])['value_variable'].median().reset_index()**\n",
    "\n",
    "### Perform a GroupBy Sum in Pandas \n",
    "**df.groupby(['group1','group2'])['sum_col'].sum().reset_index()**\n",
    "\n",
    "### Find Duplicates in Pandas DataFrame \n",
    "1. Find duplicate rows across all columns : **df[df.duplicated()]**\n",
    "2. Find duplicate rows across specific columns : **df[df.duplicated(['col1', 'col2'])]**\n",
    "\n",
    "### Drop Duplicate Rows in a Pandas DataFrame\n",
    "**df.drop_duplicates(subset=None, keep=’first’, inplace=False)**\n",
    "<br>where , **subset**: Which columns to consider for identifying duplicates. Default is all columns.\n",
    "<br>**keep**: Indicates which duplicates (if any) to keep. \n",
    "<br>**first:** Delete all duplicate rows except first.\n",
    "<br>**last:** Delete all duplicate rows except last.\n",
    "<br>**False:** Delete all duplicates.\n",
    "<br>**inplace:** Indicates whether to drop duplicates in place or return a copy of the DataFrame.\n",
    "\n",
    "### Drop Duplicate Columns in Pandas \n",
    "**df.T.drop_duplicates().T**\n",
    "\n",
    "### Combine Two Columns in Pandas \n",
    "1. Combine two text columns into one in a pandas DataFrame : **df['new_column'] = df['column1'] + df['column2']**\n",
    "2. If one of the columns isn’t already a string, you can convert it using the astype(str) command:\n",
    "<br>**df['new_column'] = df['column1'].astype(str) + df['column2']**\n",
    "3. Combine multiple text columns into one:\n",
    "<br>**df['new_column'] = df[['col1', 'col2', 'col3', ...]].agg(' '.join, axis=1)**\n",
    "\n",
    "### Keep Certain Columns in Pandas \n",
    "1. Specify Columns to Keep\n",
    "<br>*only keep columns 'col1' and 'col2' -*\n",
    "<br>**df[['col1', 'col2']]**\n",
    "2. Specify Columns to Drop\n",
    "<br>*drop columns 'col3' and 'col4' -*\n",
    "<br>**df[df.columns[~df.columns.isin(['col3', 'col4'])]]**\n",
    "\n",
    "### Check if Column Exists in Pandas \n",
    "1. Check if One Column Exists : **'column1' in df.columns*\n",
    "2. Check if Multiple Columns Exist : **{'column1', 'column2'}.issubset(df.columns)**\n",
    "\n",
    "### Use cbind in Python\n",
    "**pd.concat([df1 , df2,...], axis = 1)**\n",
    "\n",
    "### Use rbind in Python\n",
    "**pd.concat([df1, df2])**\n",
    "\n",
    "### Drop Columns in Pandas\n",
    "1. Drop one column by name : **df.drop('column_name', axis=1, inplace=True)**\n",
    "2. Drop multiple columns by name\n",
    "<br>**df.drop(['column_name1', 'column_name2'], axis=1, inplace=True)**\n",
    "3. Drop one column by index : **df.drop(df.columns[[0]], axis=1, inplace=True)**\n",
    "4. Drop multiple columns by index : **df.drop(df.columns[[0,2,5]], axis=1, inplace=True)**\n",
    "<br>The **axis** argument specifies whether to drop rows (0) or columns (1).\n",
    "<br>The **inplace** argument specifies to drop the columns in place without reassigning the DataFrame.\n",
    "\n",
    "### Drop Columns by Index in Pandas\n",
    "1. Drop first column from DataFrame : **df.drop(df.columns[0], axis=1, inplace=True)**\n",
    "2. Drop first, second, and fourth column from DataFrame\n",
    "<br>*cols = [0, 1, 3]*\n",
    "<br>**df.drop(df.columns[cols], axis=1, inplace=True)**\n",
    "3. Define list of columns : \n",
    "<br>**[x for x in range(df.shape[1])]**\n",
    "<br>*Drop second column :*\n",
    "<br>**cols.remove(1)**\n",
    "<br>*View resulting DataFrame :*\n",
    "<br>**df.iloc[:, cols]**\n",
    "\n",
    "### Drop First Column in Pandas DataFrame \n",
    "1. Use drop : **df.drop(columns=df.columns[0], axis=1, inplace=True)**\n",
    "2. Use iloc : **df = df.iloc[: , 1:]**\n",
    "3. Use del : **del df[df.columns[0]]**\n",
    "\n",
    "### Drop First Row in Pandas DataFrame\n",
    "1. Use drop : **df.drop(index=df.index[0], axis=0, inplace=True)**\n",
    "2. Use iloc : **df.iloc[1: , :]**\n",
    "\n",
    "### Select Multiple Columns in Pandas\n",
    "1.  Select Columns by Index : **df.iloc[:, [0,1,3]]**\n",
    "2. Select Columns in Index Range : **df.iloc[:, 0:3]**\n",
    "3. Select Columns by Name : **df[['col1', 'col2']]**\n",
    "\n",
    "### Shuffle Rows in a Pandas DataFrame\n",
    "1. Shuffle entire DataFrame : **df.sample(frac=1)**\n",
    "2. Shuffle entire DataFrame and reset index\n",
    "<br>**df.sample(frac=1).reset_index(drop=True)**\n",
    "\n",
    "Here’s what each piece of the code does:\n",
    "<br>The **sample()** function takes a sample of all rows without replacement.\n",
    "<br>The **frac** argument specifies the fraction of rows to return in the sample. A frac value of 1 specifies to use all rows.\n",
    "<br>The **reset_index(drop=True)** function specifies to reset the index of the rows.\n",
    "\n",
    "### Iterate Over Columns in Pandas DataFrame\n",
    "**for name, values in df.iteritems():\n",
    "<br>  print(values)**\n",
    "\n",
    "### Iterate Over Rows in Pandas DataFrame\n",
    "**for index, row in df.iterrows():\n",
    "<br>  print(row)**\n",
    "\n",
    "### Select Rows Where Value Appears in Any Column\n",
    "1. select all rows of the DataFrame that contain the value 25 in any of the columns : **df[df.isin([25]).any(axis=1)]**\n",
    "2. lect all rows of the DataFrame that contain the values 25, 9, or 6 in any of the columns : **df[df.isin([25, 9, 6]).any(axis=1)]**\n",
    "3. select all rows of the DataFrame that contain the values G or C in any of the columns : **df[df.isin(['G', 'C']).any(axis=1)] **\n",
    "\n",
    "### Group and Aggregate by Multiple Columns\n",
    "1. Group by Two Columns and Find Average : <br>**df.groupby(['cat_col1', 'cat_col2']).agg({'num_col': ['mean']}).reset_index()**\n",
    "2. Group by Two Columns and Find Multiple Stats.\n",
    "<br>**df.groupby(['cat_col1', 'cat_col2']).agg({'num_col': ['median', 'max']}).reset_index()**\n",
    "\n",
    "### Find Unique Values in a Column\n",
    "1. Find Unique Values in One Column : **df.col_name.unique()**\n",
    "2. Find Unique Values in All Columns : \n",
    "<br>**for col in df:\n",
    "<br>  print(df[col].unique())**\n",
    "3. Find and Sort Unique Values in a Column\n",
    "<br>*#find unique points values -*\n",
    "<br>**df.points.unique()**\n",
    "<br>*sort values smallest to largest -*\n",
    "<br>**points.sort()**\n",
    "\n",
    "### Drop Rows that Contain a Specific String\n",
    "**df[df[\"col_name\"].str.contains(\"this string\")==False]**"
   ]
  }
 ],
 "metadata": {
  "kernelspec": {
   "display_name": "Python 3",
   "language": "python",
   "name": "python3"
  },
  "language_info": {
   "codemirror_mode": {
    "name": "ipython",
    "version": 3
   },
   "file_extension": ".py",
   "mimetype": "text/x-python",
   "name": "python",
   "nbconvert_exporter": "python",
   "pygments_lexer": "ipython3",
   "version": "3.8.8"
  },
  "nbTranslate": {
   "displayLangs": [
    "*"
   ],
   "hotkey": "alt-t",
   "langInMainMenu": true,
   "sourceLang": "en",
   "targetLang": "fr",
   "useGoogleTranslate": true
  },
  "toc": {
   "base_numbering": 1,
   "nav_menu": {},
   "number_sections": true,
   "sideBar": true,
   "skip_h1_title": false,
   "title_cell": "Table of Contents",
   "title_sidebar": "Contents",
   "toc_cell": false,
   "toc_position": {},
   "toc_section_display": true,
   "toc_window_display": false
  },
  "varInspector": {
   "cols": {
    "lenName": 16,
    "lenType": 16,
    "lenVar": 40
   },
   "kernels_config": {
    "python": {
     "delete_cmd_postfix": "",
     "delete_cmd_prefix": "del ",
     "library": "var_list.py",
     "varRefreshCmd": "print(var_dic_list())"
    },
    "r": {
     "delete_cmd_postfix": ") ",
     "delete_cmd_prefix": "rm(",
     "library": "var_list.r",
     "varRefreshCmd": "cat(var_dic_list()) "
    }
   },
   "types_to_exclude": [
    "module",
    "function",
    "builtin_function_or_method",
    "instance",
    "_Feature"
   ],
   "window_display": false
  }
 },
 "nbformat": 4,
 "nbformat_minor": 5
}
